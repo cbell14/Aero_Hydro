{
 "metadata": {
  "name": "",
  "signature": "sha256:cf55ebb5ebe42794053505ca5b89e3487bca3a872d979d81d1bb2c130b3abf0b"
 },
 "nbformat": 3,
 "nbformat_minor": 0,
 "worksheets": [
  {
   "cells": [
    {
     "cell_type": "code",
     "collapsed": false,
     "input": [
      "import math\n",
      "import numpy as np\n",
      "from matplotlib import pyplot as plt\n",
      "from Source_Sink_FreeStream import gen_uform_grid"
     ],
     "language": "python",
     "metadata": {},
     "outputs": [
      {
       "ename": "ImportError",
       "evalue": "No module named Source_Sink_FreeStream.ipynb",
       "output_type": "pyerr",
       "traceback": [
        "\u001b[1;31m---------------------------------------------------------------------------\u001b[0m\n\u001b[1;31mImportError\u001b[0m                               Traceback (most recent call last)",
        "\u001b[1;32m<ipython-input-11-a70034d427fc>\u001b[0m in \u001b[0;36m<module>\u001b[1;34m()\u001b[0m\n\u001b[0;32m      2\u001b[0m \u001b[1;32mimport\u001b[0m \u001b[0mnumpy\u001b[0m \u001b[1;32mas\u001b[0m \u001b[0mnp\u001b[0m\u001b[1;33m\u001b[0m\u001b[0m\n\u001b[0;32m      3\u001b[0m \u001b[1;32mfrom\u001b[0m \u001b[0mmatplotlib\u001b[0m \u001b[1;32mimport\u001b[0m \u001b[0mpyplot\u001b[0m \u001b[1;32mas\u001b[0m \u001b[0mplt\u001b[0m\u001b[1;33m\u001b[0m\u001b[0m\n\u001b[1;32m----> 4\u001b[1;33m \u001b[1;32mfrom\u001b[0m \u001b[0mSource_Sink_FreeStream\u001b[0m\u001b[1;33m.\u001b[0m\u001b[0mipynb\u001b[0m \u001b[1;32mimport\u001b[0m \u001b[0mgen_uform_grid\u001b[0m\u001b[1;33m\u001b[0m\u001b[0m\n\u001b[0m",
        "\u001b[1;31mImportError\u001b[0m: No module named Source_Sink_FreeStream.ipynb"
       ]
      }
     ],
     "prompt_number": 11
    },
    {
     "cell_type": "code",
     "collapsed": false,
     "input": [
      "def gen_uform_grid(N,x_start,x_end,y_start,y_end):\n",
      "    \"\"\"Generates grid of points for streamline calculations\n",
      "    \n",
      "    Params\n",
      "    -------\n",
      "    N:         float, number of points in each direction\n",
      "    x_start:   float, starting point of x\n",
      "    x_end:     float, ending point of x\n",
      "    y_start:   float, starting point of y\n",
      "    y_end:     float, ending point of y\n",
      "    \n",
      "    \"\"\"\n",
      "    x = np.linspace(x_start,x_end,N) #1-D array for x\n",
      "    y = np.linspace(y_start,y_end,N) #1-D array for y\n",
      "    X, Y = np.meshgrid(x,y)          #generates mesh grid\n",
      "    \n",
      "    return X,Y"
     ],
     "language": "python",
     "metadata": {},
     "outputs": [],
     "prompt_number": 2
    },
    {
     "cell_type": "code",
     "collapsed": false,
     "input": [],
     "language": "python",
     "metadata": {},
     "outputs": []
    },
    {
     "cell_type": "code",
     "collapsed": false,
     "input": [
      "kappa = 1.0                     #strength of doublet\n",
      "x_doublet, y_doublet = 0.0, 0.0 #location of doublet\n",
      "\n",
      "X, Y = gen_uform_grid(N,x_start,x_end,y_start,y_end)"
     ],
     "language": "python",
     "metadata": {},
     "outputs": []
    }
   ],
   "metadata": {}
  }
 ]
}