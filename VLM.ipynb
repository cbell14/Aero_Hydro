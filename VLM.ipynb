{
 "metadata": {
  "name": "",
  "signature": "sha256:60428efe64c762976c5f16b8dc7c3e9a68e84fc9d19a56cb5f571276f2808971"
 },
 "nbformat": 3,
 "nbformat_minor": 0,
 "worksheets": [
  {
   "cells": [
    {
     "cell_type": "heading",
     "level": 6,
     "metadata": {},
     "source": [
      "Code created by Christopher Bell for Professor Lorena Barba's Aerodynamics and Hydrodynamics course at GWU."
     ]
    },
    {
     "cell_type": "heading",
     "level": 1,
     "metadata": {},
     "source": [
      "Vortex Lattice Method"
     ]
    },
    {
     "cell_type": "heading",
     "level": 3,
     "metadata": {},
     "source": [
      "Basics of VLMs"
     ]
    },
    {
     "cell_type": "markdown",
     "metadata": {},
     "source": [
      "Now that we have some experience with Panel Methods lets look at another form of panel method-- the Vortex Lattice Method (VLM). VLMs were created as an extension of Prandtl's lifting line theory in order to more accurately reslove low aspect-ratio straight wings, swept wings, and delta wings. This is accomplished by allowing the vortices strenghts' vary in the chord wise and spanwise direction--instead of just spanwise. VLMs overlay horseshoe vortices law over a planar wing. The Biot-Savard Law is then used to calculate the induced velocities. The general layout of these horseshoe vortices can be seen below courtest of Bertin and Smith's Aerodynamics for Engineers.\n",
      "<img src='./resources/General_VLM.png'height '12'width '12'>\n",
      "\n",
      "This process is repeated for each individual panel and control point. All the control points are then summed to yield linear equations for the horshoe vortices' strengths. $\\delta$ is used to indicate streamwise vortex strength and $\\gamma$ is used to indicate cross-stream vortex strength. This is all done while still enforcing the same boundary condition from Panel methods. Do you remember it? Yep, the flow tangency condition. These vortex strengths are then used to get the total circulation around the lifting body. Using the circulation we can then find the lift."
     ]
    },
    {
     "cell_type": "heading",
     "level": 3,
     "metadata": {},
     "source": [
      "How are these panels and horseshoe vortices oriented?"
     ]
    },
    {
     "cell_type": "markdown",
     "metadata": {},
     "source": [
      "The horseshoe vortices are typicalled placed at the $\\frac{1}{4}$-chord point of each panel, while the control points should be placed at the $\\frac{3}{4}$-chord point of each panel. This condition arise because of the relationship between circulation, $\\Gamma$, and the freestream velocity, $U_\\infty$. This relationship is given below as the circulation induces a velocity at the control point, $c$, with r being the control point's distance from the vortex filament making up the horseshoe vortex:\n",
      "\n",
      "\\begin{equation}\n",
      "U = \\frac{\\Gamma}{2\\pi r}\n",
      "%\\label{eq:inducedvel}\n",
      "\\end{equation}\n",
      "\n",
      "The orientation of a single panel with respect to the freestream can be seen in the image below courtesy of Bertin and Smith.\n",
      "\n",
      "<img src='./resources/control_point.png'height '12'width '12'>\n",
      "\n",
      "Next, forcing the flow to be parallel to the surface at every control point we get:\n",
      "\n",
      "\\begin{equation}\n",
      "\\alpha \\approx \\sin \\alpha = \\frac{U}{U_\\infty} = \\frac{\\Gamma}{2\\pi r U_\\infty}\n",
      "%\\label{eq:inducedfreestream}\n",
      "\\end{equation}\n",
      "\n",
      "Now we can use the kutta-condition, $L = \\rho_\\infty U_\\infty \\Gamma$, and the previous equation to obtain\n",
      "\n",
      "\\begin{equation}\n",
      "\\pi \\rho_\\infty {U_\\infty}^2 c \\frac{\\Gamma}{2\\pi r U_\\infty} = \\rho_\\infty U_\\infty \\Gamma\n",
      "%\\label{eq:kutta_induced}\n",
      "\\end{equation}\n",
      "\n",
      "Now, we solve for $r$ to find where the control point should be located relative to the horseshoe vortex for each panel. This yields $r = \\frac{c}{2}$ which since the vortex is located at the $\\frac{1}{4}$-chord means that the control point should be placed at the $\\frac{3}{4}$-chord point.\n",
      "\n",
      "The panel themselves are also typically aligned with the wings sweep angle as seen in the previous figure.\n",
      "\n",
      "\n",
      "   It is also important to decide how to treat the wake region with the tails of the horseshoe vortices going to infinity. In a fully 3D code, the panels would be located on the mean camber surface of the wing which would yield curved trailing vortices paths. For simplicitly, this code will not be treating the airfoil in this way because past work has demonstrated the ability for straight line trailing vortices to be accurate. We also need to decided which axis to align the trialing vortices with--the aircraft centerline or the freestream. We will be using the aircraft centerline."
     ]
    },
    {
     "cell_type": "heading",
     "level": 2,
     "metadata": {},
     "source": [
      "Warning!! Lots of Math Ahead"
     ]
    },
    {
     "cell_type": "heading",
     "level": 3,
     "metadata": {},
     "source": [
      "Induced Velocities"
     ]
    },
    {
     "cell_type": "markdown",
     "metadata": {},
     "source": [
      "Now we need to derive how we will calculate the induced velocities on the wing from the horseshoe vortices. The defining geometry for this derivation is below courtesy of Bertin and Smith. Segment $\\overrightarrow{AB}$ is a vorticity vector and point $C$, is any point in space.\n",
      "\n",
      "<img src='./resources/Vortex_Notation.png'height '12'width '12'>\n",
      "\n",
      "From undergraduate aerodynamics, we know that the induced velocity from a vortex is given by the Biot-Savart Law:\n",
      "\n",
      "\\begin{equation}\n",
      "\\overrightarrow{dV} = \\frac{\\Gamma_n \\left(\\overrightarrow{dl} \\times \\overrightarrow{r}\\right)}{4\\pi r^3}\n",
      "%\\label{eq:BiotSavart}\n",
      "\\end{equation}\n",
      "\n",
      "When applied to our specific geometry it simplifies to:\n",
      "\n",
      "\\begin{equation}\n",
      "dV = \\frac{\\Gamma_n \\sin \\theta dl}{4\\pi r^2}\n",
      "%\\label{eq:specificBSL}\n",
      "\\end{equation}\n",
      "\n",
      "Now, we can use this relation to calculate the indiced velocites from the horseshoe vortices. Before we begin though, lets try and make our the derivation a little easier. If we use the nomenclature in the image below, we can seperate the horseshoe vortex into 3 seperate vortices--1 vortex stretching from A to $\\infty$, 1 vortex stretching from B to $\\infty$, and 1 vortex from A to B.\n",
      "\n",
      "<img src='./resources/Single_horseshoe_vortex.png'height '12'width '12'>\n",
      "\n",
      "Using the Biot-Savart Law, we can now calculate the induced velocity at some point $c$ who's distance from $\\overrightarrow{AB}$ is $r_p$.\n",
      "\n",
      "\\begin{equation}\n",
      "V = \\frac{\\Gamma_n}{4\\pi r_p}\\int_{\\theta_1}^{\\theta_2} \\sin \\theta d \\theta = \\frac{\\Gamma_n}{4\\pi r_p}\\left(\\cos \\theta_1 - \\cos \\theta_2\\right)\n",
      "%\\label{eq:BSL_genpoint}\n",
      "\\end{equation}\n",
      "\n",
      "This simplifies further when $r_p$ is extended to $\\infty$:\n",
      "\n",
      "\\begin{equation}\n",
      "V = \\frac{\\Gamma_n}{4\\pi r_p}\\left(\\cos\\left(0\\right) - \\cos\\left(\\pi\\right)\\right) = \\frac{\\Gamma_n}{2\\pi r_p}\n",
      "%\\label{eq:BSL_infty}\n",
      "\\end{equation}"
     ]
    },
    {
     "cell_type": "markdown",
     "metadata": {},
     "source": [
      "Now we want to apply this law more generally, so first we are going to define some more general variables and relationships according to the below figure:\n",
      "\n",
      "<img src='./resources/vector_elements.png'height '12'width '12'>\n",
      "\n",
      "\\begin{equation}\n",
      "\\overrightarrow{r_0} = \\overrightarrow{AB}\n",
      "%\\label{eq:r0}\n",
      "\\end{equation}\n",
      "\n",
      "\\begin{equation}\n",
      "\\overrightarrow{r_1} = \\overrightarrow{AC}\n",
      "%\\label{eq:r1}\n",
      "\\end{equation}\n",
      "\n",
      "\\begin{equation}\n",
      "\\overrightarrow{r_2} = \\overrightarrow{BC}\n",
      "%\\label{eq:r2}\n",
      "\\end{equation}\n",
      "\n",
      "\\begin{equation}\n",
      "r_p = \\frac{\\left|\\overrightarrow{r_1} \\times \\overrightarrow{r_2}\\right|}{r_0}\n",
      "%\\label{eq:rp}\n",
      "\\end{equation}\n",
      "\n",
      "\\begin{equation}\n",
      "\\cos \\theta_1 = \\frac{\\overrightarrow{r_0} \\cdot \\overrightarrow{r_1}}{r_0 r_1}\n",
      "%\\label{eq:cos1}\n",
      "\\end{equation}\n",
      "\n",
      "\\begin{equation}\n",
      "\\cos \\theta_2 = \\frac{\\overrightarrow{r_0} \\cdot \\overrightarrow{r_2}}{r_0 r_2}\n",
      "%\\label{eq:cos2}\n",
      "\\end{equation}"
     ]
    },
    {
     "cell_type": "markdown",
     "metadata": {},
     "source": [
      "Now we can use the above relations with \\eqref{BSL_genpoint} to obtain the induced velocity in terms of the distance vectors rather than angles:\n",
      "\n",
      "\\begin{equation}\n",
      "\\overrightarrow{V} = \\frac{\\Gamma_n}{4\\pi}\\frac{\\vec{r_1} \\times \\vec{r_2}}{\\left| \\vec{r_1} \\times \\vec{r_2} \\right|^2} \\left[ \\vec{r_0} \\cdot \\left(\\frac{\\vec{r_1}}{r_1} - \\frac{\\vec{r_2}}{r_2}\\right) \\right]\n",
      "%\\label{eq:vel_dist}\n",
      "\\end{equation}\n",
      "\n",
      "The direction of the induced velocity is given by:\n",
      "\n",
      "\\begin{equation}\n",
      "\\frac{\\vec{r_1} \\times \\vec{r_2}}{\\left| \\vec{r_1} \\times \\vec{r_2} \\right|}\n",
      "%\\label{eq:vel_dir}\n",
      "\\end{equation}"
     ]
    },
    {
     "cell_type": "markdown",
     "metadata": {},
     "source": [
      "Now we can use \\eqref{eq:vel_dist} to calculate the induced velocity at some generalized panel, n! First, lets start with vortex segment $\\overrightarrow{AB}$ which was defined earlier. For this segment, $r_0$, $r_1$, and $r_2$ become:\n",
      "\n",
      "\\begin{equation}\n",
      "\\vec{r_0} = \\overrightarrow{AB} = \\left(x_{2n} - x_{1n} \\right)\\hat{i} + \\left(y_{2n} - y_{1n} \\right)\\hat{j} + \\left(z_{2n} - z_{1n} \\right)\\hat{k}\n",
      "%\\label{eq:r0_AB}\n",
      "\\end{equation}\n",
      "\n",
      "\\begin{equation}\n",
      "\\overrightarrow{r_1} = \\left(x - x_{1n} \\right)\\hat{i} + \\left(y - y_{1n} \\right)\\hat{j} + \\left(z - z_{1n} \\right)\\hat{k}\n",
      "%\\label{eq:r1_AB}\n",
      "\\end{equation}\n",
      "\n",
      "\\begin{equation}\n",
      "\\overrightarrow{r_2} = \\left(x -x_{2n} \\right)\\hat{i} + \\left(y -y_{2n} \\right)\\hat{j} + \\left(z - z_{2n} \\right)\\hat{k}\n",
      "%\\label{eq:r2_AB}\n",
      "\\end{equation}"
     ]
    },
    {
     "cell_type": "markdown",
     "metadata": {},
     "source": [
      "Applying these values to \\eqref{vel_dist} we get:\n",
      "\\begin{equation}\n",
      "\\overrightarrow{V_{AB}} = \\frac{\\Gamma_n}{4\\pi}\\left[Fac1_{AB} \\right] \\left[Fac2_{AB} \\right]\n",
      "%\\label{eq:AB_portion}\n",
      "\\end{equation}\n",
      "\n",
      "In \\eqref{eq:AB_portion} the last two factors are just place holders for the last two factors in \\eqref{eq:vel_dist} applied to $\\overrightarrow{AB}$. These two factors expand to:\n",
      "\n",
      "\\begin{equation}\n",
      "\\left[Fac1_{AB} \\right] = \\frac{\\vec{r_1} \\times \\vec{r_2}}{\\left|\\vec{r_1} \\times \\vec{r_2} \\right|^2} = \\frac{\\left[\\left(y - y_{1n}\\right)\\left(z - z_{2n}\\right) - \\left(y -y_{2n}\\right)\\left(z - z_{1n}\\right)\\right]\\hat{i} - \\left[\\left(x - x_{1n}\\right)\\left(z - z_{2n}\\right) - \\left(x -x_{2n}\\right)\\left(z - z_{1n}\\right)\\right]\\hat{j} + \\left[\\left(x - x_{1n}\\right)\\left(y - y_{2n}\\right) - \\left(x -x_{2n}\\right)\\left(y - y_{1n}\\right)\\right]\\hat{k}}{\\left[\\left(y - y_{1n}\\right)\\left(z - z_{2n}\\right) - \\left(y -y_{2n}\\right)\\left(z - z_{1n}\\right)\\right]^2 - \\left[\\left(x - x_{1n}\\right)\\left(z - z_{2n}\\right) - \\left(x -x_{2n}\\right)\\left(z - z_{1n}\\right)\\right]^2 + \\left[\\left(x - x_{1n}\\right)\\left(y - y_{2n}\\right) - \\left(x -x_{2n}\\right)\\left(y - y_{1n}\\right)\\right]^2}\n",
      "%\\label{eq:fac1AB}\n",
      "\\end{equation}\n",
      "\n",
      "\\begin{equation}\n",
      "\\left[Fac2_{AB} \\right] = \\left(\\vec{r_0} \\cdot \\frac{\\vec{r_1}}{r_1} - \\vec{r_0} \\cdot \\frac{\\vec{r_2}}{r_2} \\right) = \\frac{\\left[\\left(x_{2n} - x_{1n}\\right)\\left(x -x_{1n}\\right) + \\left(y_{2n} - y_{1n}\\right)\\left(y - y_{1n}\\right) + \\left(z_{2n} - z_{1n}\\right)\\left(z - z_{1n}\\right)\\right]}{\\sqrt{\\left(x - x_{1n}\\right)^2 + \\left(y - y_{1n}\\right)^2 + \\left(z - z_{1n}\\right)^2}} - \\frac{\\left[\\left(x_{2n} - x_{1n}\\right)\\left(x -x_{2n}\\right) + \\left(y_{2n} - y_{1n}\\right)\\left(y - y_{2n}\\right) + \\left(z_{2n} - z_{1n}\\right)\\left(z - z_{2n}\\right)\\right]}{\\sqrt{\\left(x - x_{2n}\\right)^2 + \\left(y - y_{2n}\\right)^2 + \\left(z - z_{2n}\\right)^2}}\n",
      "%\\label(eq:fac2AB}\n",
      "\\end{equation}"
     ]
    },
    {
     "cell_type": "markdown",
     "metadata": {},
     "source": [
      "Now we follow the same process for vortex segment $\\overrightarrow{AD}$:\n",
      "\n",
      "\\begin{equation}\n",
      "\\vec{r_0} = \\overrightarrow{DA} = \\left(x_{1n} - x_{3n} \\right)\\hat{i} + \n",
      "%\\label{eq:r0_DA}\n",
      "\\end{equation}\n",
      "\n",
      "\\begin{equation}\n",
      "\\overrightarrow{r_1} = \\left(x - x_{3n} \\right)\\hat{i} + \\left(y - y_{1n} \\right)\\hat{j} + \\left(z - z_{1n} \\right)\\hat{k}\n",
      "%\\label{eq:r1_DA}\n",
      "\\end{equation}\n",
      "\n",
      "\\begin{equation}\n",
      "\\overrightarrow{r_2} = \\left(x -x_{1n} \\right)\\hat{i} + \\left(y -y_{1n} \\right)\\hat{j} + \\left(z - z_{1n} \\right)\\hat{k}\n",
      "%\\label{eq:r2_DA}\n",
      "\\end{equation}\n",
      "\n",
      "\\begin{equation}\n",
      "\\overrightarrow{V_{AD}} = \\frac{\\Gamma_n}{4\\pi}\\left[Fac1_{AD} \\right] \\left[Fac2_{AD} \\right]\n",
      "%\\label{eq:AB_portion}\n",
      "\\end{equation}"
     ]
    },
    {
     "cell_type": "markdown",
     "metadata": {},
     "source": [
      "\\begin{equation}\n",
      "\\left[ Fac1_{AD}\\right] = \\frac{\\left(z -z_{1n}\\right)\\hat{j} + \\left(y_{1n} - y\\right)\\hat{k}}{\\left[\\left(z - z_{1n}\\right)^2 + \\left(y_{1n} - y\\right)^2\\right] \\left(x_{3n} - x_{1n}\\right)}\n",
      "%\\label{eq:Fac1_AD}\n",
      "\\end{equation}\n",
      "\n",
      "\\begin{equation}\n",
      "\\left[Fac2_{AD}\\right] = \\left(x_{3n} - x_{1n}\\right)\\left[\\frac{x_{3n} - x}{\\sqrt{\\left(x - x_{3n}\\right)^2 + \\left(y -y_{1n}\\right)^2 + \\left(z - z_{1n}\\right)^2}} + \\frac{x - x_{1n}}{\\sqrt{\\left(x - x_{1n}\\right)^2 + \\left(y -y_{1n}\\right)^2 + \\left(z - z_{1n}\\right)^2}}\\right]\n",
      "%\\label{eq:Fac2_AD}\n",
      "\\end{equation}\n",
      "\n",
      "Equations \\eqref{eq:Fac1_AD} and \\eqref{eq:Fac2_AD} are both formulated for a discrete location of D, but in VLMs we want D to go to $\\infty$. So, we allow D to go to $\\infty$ by setting $x_3 = \\infty$. This yields the final equation for the induced velocity from this vortex segment of:\n",
      "\n",
      "\\begin{equation}\n",
      "\\overrightarrow{V_{A\\infty}} = \\frac{\\Gamma_n}{4\\pi}\\left[\\frac{\\left(z -z_{1n}\\right)\\hat{j} + \\left(y_{1n} - y\\right)\\hat{k}}{\\left(z - z_{1n}\\right)^2 + \\left(y_{1n} - y\\right)^2}\\right]\\left[1.0 + \\frac{x - x_{1n}}{\\sqrt{\\left(x - x_{1n}\\right)^2 + \\left(y -y_{1n}\\right)^2 + \\left(z - z_{1n}\\right)^2}}\\right]\n",
      "%\\label{eq:Ainfty_portion}\n",
      "\\end{equation}\n",
      "\n",
      "Following the same process, we can find the induced velocity over the other infinite leg of the horshoe vortex.\n",
      "\n",
      "\\begin{equation}\n",
      "\\overrightarrow{V_{B\\infty}} = \\frac{-\\Gamma_n}{4\\pi}\\left[\\frac{\\left(z -z_{2n}\\right)\\hat{j} + \\left(y_{2n} - y\\right)\\hat{k}}{\\left(z - z_{2n}\\right)^2 + \\left(y_{2n} - y\\right)^2}\\right]\\left[1.0 + \\frac{x - x_{2n}}{\\sqrt{\\left(x - x_{2n}\\right)^2 + \\left(y -y_{2n}\\right)^2 + \\left(z - z_{2n}\\right)^2}}\\right]\n",
      "%\\label{eq:Binfty_portion}\n",
      "\\end{equation}"
     ]
    },
    {
     "cell_type": "markdown",
     "metadata": {},
     "source": [
      "Some quick housekeeping of variables, $\\left(x_m,y_m,z_m\\right)$ will designate the coordinates of the mth-panel's control point and the induced velocity at the mth-panel's control point by panel n is $\\overrightarrow{V_{m,n}}$ \n",
      "\n",
      "Now we can find the induced velocity at any control point from any panel by summing the 3 individual vortex parts and solving the linear equation below for the total induced velocity. \n",
      "\n",
      "\\begin{equation}\n",
      "\\overrightarrow{V_{m,n}} = \\overrightarrow{C_{m,n}}\\Gamma_n\n",
      "%\\label{eq:lin_syst}\n",
      "\\end{equation}\n",
      "\n",
      "The benefit of this equation being linear is to find the total induced velocity at control point m simply requires us to sum the individual component from each panel. This reduces \\eqref{eq:lin_syst} to:\n",
      "\n",
      "%begin{equation}\n",
      "$$\\overrightarrow{V} = \\sum_{n=1}^{2N} \\overrightarrow{C_{m,n}}\\Gamma_n$$\n",
      "%\\label{eq:summed_syst}\n",
      "%\\end{equation}\n",
      "\n",
      "where we sum to 2N because we need to account for both the left (port) and right (starboard) wings."
     ]
    },
    {
     "cell_type": "heading",
     "level": 3,
     "metadata": {},
     "source": [
      "Boundary Conditions"
     ]
    },
    {
     "cell_type": "markdown",
     "metadata": {},
     "source": [
      "That takes care of the induced velocity calculations, but did you notice that we have a problem? We don't have the strengths of the vortices! However, we can find the strengths by using the same boudnary condition we did in our basic panel method. We set the flow to be tangent to the wing at every control point. For an arbitraritly shaped wing this boundary condition is satisfied by the equation:\n",
      "\n",
      "\\begin{equation}\n",
      "-u_m \\sin \\delta \\cos \\phi - v_m \\cos \\delta sin \\phi + w_m \\cos \\phi \\cos \\delta  + U_{\\infty}\\sin \\left(\\alpha - \\delta\\right) \\cos \\phi = 0\n",
      "%\\label{eq:gen_BCs}\n",
      "\\end{equation}\n",
      "\n",
      "Where $\\phi$ is the dihedral angle, $\\delta$ is the mean camber at the control\n",
      "point, and $\\alpha$ is the angle of attack of the airfoil. We can also calculate $\\delta$:\n",
      "\n",
      "\\begin{equation}\n",
      "\\delta = \\tan^{-1} \\left(\\frac{dz}{dx}\\right)_m\n",
      "%\\label{eq:delta}\n",
      "\\end{equation}\n",
      "\n",
      "If we assume that the mean camber line is small and the angle of attack is small \\eqref{eq:gen_BCs} simplifies to:\n",
      "\n",
      "\\begin{equation}\n",
      "w_m - v_m \\tan \\phi + U_{\\infty}\\left[\\alpha - \\left(\\frac{dz}{dx}\\right)_m\\right] = 0\n",
      "%\\label{eq:simp_BCs}\n",
      "\\end{equation}"
     ]
    },
    {
     "cell_type": "heading",
     "level": 2,
     "metadata": {},
     "source": [
      "Basic Validation Example"
     ]
    },
    {
     "cell_type": "markdown",
     "metadata": {},
     "source": [
      "Our validation example will be a simple 4 panel planar wing as found in Bertin and Smith's textbook. Following this example, will allow for a basic code to be create and checked before moving on to more complex examples which will be checked using XFLR5. The main simplifying assumptions for the planar wing is that $z_{1n} = z_{2n} = 0$ and $z_m = 0$ for the control points.\n",
      "\n",
      "The wing will have an aspect ration of 5, no taper, uncambered, and constant sweep of $45^{\\circ}$. The chord is $0.2b$ and spans $0.5b$. An image of the wing in this problem is below.\n",
      "\n",
      "<img src='./resources/validation_image.png'height '12'width '12'>"
     ]
    },
    {
     "cell_type": "markdown",
     "metadata": {},
     "source": [
      "Because we have a planar wing our main equations simplfy somewhat:\n",
      "\n",
      "\\begin{equation}\n",
      "\\overrightarrow{V_{AB}} = \\frac{\\Gamma_n}{4\\pi} \\frac{\\hat{k}}{\\left(x_m - x_{1n}\\right)\\left(y_m - y_{2n}\\right) - \\left(x_m - x_{2n}\\right) \\left(y_m - y_{1n}\\right)} \\left[ \\frac{\\left(x_{2n} - x_{1n}\\right) \\left(x_m - x_{1n}\\right) + \\left( y_{2n} - y_{1n}\\right)\\left(y_m - y_{1n}\\right)}{\\sqrt{\\left(x_m - x_{1n}\\right)^2 + \\left(y_m - y_{1n}\\right)^2}} - \\frac{\\left(x_{2n} - x_{1n}\\right) \\left(x_m - x_{2n}\\right) + \\left( y_{2n} - y_{1n}\\right)\\left(y_m - y_{2n}\\right)}{\\sqrt{\\left(x_m - x_{2n}\\right)^2 + \\left(y_m - y_{2n}\\right)^2}}\\right]\n",
      "%\\label{eq:Planar_AB}\n",
      "\\end{equation}\n",
      " \n",
      "\\begin{equation}\n",
      "\\overrightarrow{V_{A\\infty}} = \\frac{\\Gamma_n}{4\\pi} \\frac{\\hat{k}}{y_{1n} - y_m} \\left[1.0 + \\frac{x_m - x_{1n}}{\\sqrt{\\left(x_m - x_{1n}\\right)^2 + \\left(y_m - y_{1n}\\right)^2}} \\right]\n",
      "%\\label{eq:Planar_Ainfty}\n",
      "\\end{equation}\n",
      "\n",
      "\\begin{equation}\n",
      "\\overrightarrow{V_{B\\infty}} = \\frac{\\Gamma_n}{4\\pi} \\frac{\\hat{k}}{y_{2n} - y_m} \\left[1.0 + \\frac{x_m - x_{2n}}{\\sqrt{\\left(x_m - x_{2n}\\right)^2 + \\left(y_m - y_{2n}\\right)^2}} \\right]\n",
      "%\\label{eq:Planar_Binfty}\n",
      "\\end{equation}"
     ]
    },
    {
     "cell_type": "markdown",
     "metadata": {},
     "source": [
      "Since all the induced velocities in \\eqref{eq:Planar_AB} through \\eqref{eq:Planar_Binfty} are in the z-direction we can convert this to one equation. Also, because the induced velocity is in the z-direction we will call it the downwash, $w$.\n",
      "\n",
      "\\begin{equation}\n",
      "w_{m,n} = \\frac{\\Gamma_n}{4\\pi} \\left[\\frac{\\hat{1}}{\\left(x_m - x_{1n}\\right)\\left(y_m - y_{2n}\\right) - \\left(x_m - x_{2n}\\right) \\left(y_m - y_{1n}\\right)} \\left[ \\frac{\\left(x_{2n} - x_{1n}\\right) \\left(x_m - x_{1n}\\right) + \\left( y_{2n} - y_{1n}\\right)\\left(y_m - y_{1n}\\right)}{\\sqrt{\\left(x_m - x_{1n}\\right)^2 + \\left(y_m - y_{1n}\\right)^2}} - \\frac{\\left(x_{2n} - x_{1n}\\right) \\left(x_m - x_{2n}\\right) + \\left( y_{2n} - y_{1n}\\right)\\left(y_m - y_{2n}\\right)}{\\sqrt{\\left(x_m - x_{2n}\\right)^2 + \\left(y_m - y_{2n}\\right)^2}}\\right] + \\frac{\\hat{k}}{y_{1n} - y_m} \\left[1.0 + \\frac{x_m - x_{1n}}{\\sqrt{\\left(x_m - x_{1n}\\right)^2 + \\left(y_m - y_{1n}\\right)^2}} \\right] - \\frac{\\hat{k}}{y_{2n} - y_m} \\left[1.0 + \\frac{x_m - x_{2n}}{\\sqrt{\\left(x_m - x_{2n}\\right)^2 + \\left(y_m - y_{2n}\\right)^2}} \\right]\\right]\n",
      "%\\label{eq:downwash}\n",
      "\\end{equation}\n",
      "\n",
      "Now we just need to sum \\eqref{eq:downwash} for all the panels to get the total effect. "
     ]
    },
    {
     "cell_type": "markdown",
     "metadata": {},
     "source": [
      "The Planar wing also has a minor effect on Boundary Conditions.\n",
      "\n",
      "\\begin{equation}\n",
      "w_m = -U_{\\infty} \\alpha\n",
      "%\\label{eq:downwash_BC}\n",
      "\\end{equation}\n",
      "\n",
      "Finally, let's get coding..."
     ]
    },
    {
     "cell_type": "code",
     "collapsed": false,
     "input": [
      "import numpy as np\n",
      "import math\n",
      "import scipy as sp\n",
      "from matplotlib import pyplot as plt"
     ],
     "language": "python",
     "metadata": {},
     "outputs": [],
     "prompt_number": 53
    },
    {
     "cell_type": "code",
     "collapsed": false,
     "input": [
      "with open ('./resources/VLM_Example_Airfoil.txt') as file_name:\n",
      "    num, x, y = np.loadtxt(file_name, dtype=float, delimiter='\\t', unpack=True)\n",
      "\n",
      "val_x, val_y = 0.1, 0.2\n",
      "x_min, x_max = x.min(), x.max()\n",
      "y_min, y_max = y.min(), y.max()\n",
      "x_start, x_end = x_min-val_x*(x_max-x_min), x_max+val_x*(x_max-x_min)\n",
      "y_start, y_end = y_min-val_y*(y_max-y_min), y_max+val_y*(y_max-y_min)\n",
      "chord = 1.0\n",
      "alpha = 0.0\n",
      "\n",
      "%matplotlib inline\n",
      "size = 6\n",
      "plt.figure(figsize=(size,size))\n",
      "plt.grid(True)\n",
      "plt.xlabel('x')\n",
      "plt.ylabel('y')\n",
      "plt.xlim(-x_end, x_end)\n",
      "plt.ylim(y_start, y_end)\n",
      "plt.title('Example Airfoil Points')\n",
      "plt.plot(x, y, color='k', linestyle='-',linewidth=2)\n",
      "plt.plot(-x, y, color='b', linestyle='-', linewidth=2);"
     ],
     "language": "python",
     "metadata": {},
     "outputs": [
      {
       "metadata": {},
       "output_type": "display_data",
       "png": "[encoded data removed]",
       "text": [
        "<matplotlib.figure.Figure at 0x7f8df974fb10>"
       ]
      }
     ],
     "prompt_number": 299
    },
    {
     "cell_type": "code",
     "collapsed": false,
     "input": [
      "class Panel:\n",
      "    \"\"\"Contains information related to a panel\"\"\"\n",
      "    def __init__(self, xa, ya, xb, yb, xc, yc, xd, yd, chord, i, N_panels):\n",
      "        \"\"\"Initializes the panel\n",
      "        \n",
      "        Params:\n",
      "        --------\n",
      "        xa, ya  float, coordinates of the left LE point of a panel\n",
      "        xb, yb  float, coordinates of the right LE point of a panel\n",
      "        xc, yc  float, coordinates of the right TE point of a panel\n",
      "        xd, yd  float, coordinates of the left TE point of a panel\n",
      "        \"\"\"\n",
      "        \n",
      "        #panel corners\n",
      "        self.xa, self.ya = xa, ya\n",
      "        self.xb, self.yb = xb, yb\n",
      "        self.xc, self.yc = xc, yc\n",
      "        self.xd, self.yd = xd, yd\n",
      "        self.chord = chord\n",
      "        \n",
      "        #placing control point at 3/4 chord\n",
      "        self.x_control = (self.xa+self.xb)/2\n",
      "        #self.y_control = ya - (chord*(3.0/4.0))\n",
      "        self.y_control = ya - ((math.fabs(self.yb-self.ya)/2.0)+(3.0/4.0)\\\n",
      "            *self.chord)\n",
      "        \n",
      "        #Left Front of Horseshoe points   \n",
      "        #front of horseshoe x coord\n",
      "        self.x1n = xa\n",
      "        #front of horseshoe y coord\n",
      "        self.y1n = ya - (chord*(1.0/4.0))\n",
      "        \n",
      "        #Right Front of Horshoe points\n",
      "        self.x2n = xb\n",
      "        self.y2n = yb - (chord*(1.0/4.0))\n",
      "        \n",
      "        #arrays of panel corners\n",
      "        self.x_square = [self.xa, self.xb, self.xc, self.xd]\n",
      "        self.y_square = [self.ya, self.yb, self.yc, self.yd]\n",
      "        \n",
      "        self.Gamma = 0.0 #circulation"
     ],
     "language": "python",
     "metadata": {},
     "outputs": [],
     "prompt_number": 300
    },
    {
     "cell_type": "code",
     "collapsed": false,
     "input": [
      "N_panels = 4\n",
      "x_ends1 = np.linspace(0, x_max, N_panels + 1)\n",
      "y_ends1 = np.linspace(0, -(x_max-x_min), N_panels + 1)\n",
      "x_ends2 = x_ends1.copy()\n",
      "y_ends2 = y_ends1.copy() - 1\n",
      "\n",
      "panels = np.empty(N_panels, dtype=object)\n",
      "for i in xrange(N_panels):\n",
      "    panels[i] = Panel(x_ends1[i], y_ends1[i], x_ends1[i+1], y_ends1[i+1],\\\n",
      "        x_ends2[i], y_ends2[i], x_ends2[i+1], y_ends2[i+1], chord, i, N_panels)\n",
      "\n",
      "%matplotlib inline\n",
      "size = 8\n",
      "plt.figure(figsize=(size,size))\n",
      "plt.grid(True)\n",
      "plt.xlabel('x')\n",
      "plt.ylabel('y')\n",
      "plt.xlim(x_min-0.5,x_max+0.5)\n",
      "plt.ylim(y_min-0.5,y_max+0.5)\n",
      "plt.plot(x, y, color='b', linestyle='-', linewidth=1)\n",
      "plt.scatter([p.x_square for p in panels],[p.y_square for p in panels],\\\n",
      "    color='r', s=120)\n",
      "plt.scatter([p.x_control for p in panels],[p.y_control for p in panels],\\\n",
      "    color='k',s=60)\n",
      "plt.scatter([p.x1n for p in panels],[p.y1n for p in panels],\\\n",
      "    color='m', s=60, zorder=2)\n",
      "plt.scatter([p.x2n for p in panels],[p.y2n for p in panels],\\\n",
      "    color='c', s=120, zorder=1)\n",
      "plt.legend(['Wing', 'End-Points', 'Control Points', 'Left Horseshoe Points',\\\n",
      "    'Right Horseshoe Points'], loc='best', prop={'size':16})\n",
      "plt.title('Starboard Wing with Panels');"
     ],
     "language": "python",
     "metadata": {},
     "outputs": [
      {
       "metadata": {},
       "output_type": "display_data",
       "png": "[encoded data removed]",
       "text": [
        "<matplotlib.figure.Figure at 0x7f8df28d4b90>"
       ]
      }
     ],
     "prompt_number": 301
    },
    {
     "cell_type": "code",
     "collapsed": false,
     "input": [
      "#Defining arrays of control and horshoe points\n",
      "x1ns = [p.x1n for p in panels]\n",
      "x2ns = [p.x2n for p in panels]\n",
      "y1ns = [p.y1n for p in panels]\n",
      "y2ns = [p.y2n for p in panels]\n",
      "xm = [p.x_control for p in panels]\n",
      "ym = [p.y_control for p in panels]"
     ],
     "language": "python",
     "metadata": {},
     "outputs": [],
     "prompt_number": 302
    },
    {
     "cell_type": "code",
     "collapsed": false,
     "input": [
      "print(x1ns)\n",
      "print(x2ns)\n",
      "print(y1ns)\n",
      "print(y2ns)\n",
      "print(xm)\n",
      "print(ym)"
     ],
     "language": "python",
     "metadata": {},
     "outputs": [
      {
       "output_type": "stream",
       "stream": "stdout",
       "text": [
        "[0.0, 0.625, 1.25, 1.875]\n",
        "[0.625, 1.25, 1.875, 2.5]\n",
        "[-0.25, -0.875, -1.5, -2.125]\n",
        "[-0.875, -1.5, -2.125, -2.75]\n",
        "[0.3125, 0.9375, 1.5625, 2.1875]\n",
        "[-1.0625, -1.6875, -2.3125, -2.9375]\n"
       ]
      }
     ],
     "prompt_number": 303
    },
    {
     "cell_type": "code",
     "collapsed": false,
     "input": [
      "class Downwash:\n",
      "    \"\"\"Calculates the Downwash on a given panel\"\"\"\n",
      "    def __init__(self, x1n, x2n, y1n, y2n, xm, ym, N_panels):\n",
      "        \"\"\"Sets the Horseshoe Vortex Parameters\n",
      "        \n",
      "        Params:\n",
      "        --------\n",
      "        Gamma     float, circulation strength\n",
      "        N_panels  float, number of panels\n",
      "        x1n, y1n  coordinates of left front of horseshoe\n",
      "        x2n, y2n  coordinates of right front of horseshoe\n",
      "        x_m, y_m  control point coordinates\n",
      "        \"\"\"\n",
      "        \n",
      "        #m panel influence calculated on\n",
      "        #n panel influence calculated from\n",
      "        \n",
      "        #took gamma out\n",
      "        \n",
      "        for m in range(0,N_panels):\n",
      "            for n in range(0,N_panels):\n",
      "                if m == n:\n",
      "                    n += 1\n",
      "                else:\n",
      "                  w[m,n] = (1/4*math.pi) * (((1/((xm[m] - x1n[n])*(ym[m] -\\\n",
      "                        y2n[n]) - (xm[m] - x2n[n])*(ym[m] - y1n[n]))) *\\\n",
      "                        ((((x2n[n] - x1n[n])*(xm[m] - x1n[n]) +\\\n",
      "                        (y2n[n] - y1n[n])*(ym[m] - y1n[n]))/\\\n",
      "                        (math.sqrt((xm[m] - x1n[n])**2 + (ym[m] - y1n[n])**2)))\\\n",
      "                        - (((x2n[n] - x1n[n])*(xm[m] - x2n[n]) +\\\n",
      "                        (y2n[n] - y1n[n])*(ym[m] - y2n[n]))/\\\n",
      "                        (math.sqrt((xm[m] - x2n[n])**2 + (ym[m] - y2n[n])**2)))\\\n",
      "                        )) + (((1.0)/(y1ns[n] - ym[m]))*(1.0 +\\\n",
      "                        ((xm[m] - x1n[n])/(math.sqrt((xm[m] - x1n[n])**2 +\\\n",
      "                        (ym[m] - y1n[n])**2))))) - (((1.0)/(y2n[n] - ym[m]))\\\n",
      "                        *(1.0 + ((xm[m] -x2n[n])/(math.sqrt((xm[m] - x2n[n])\\\n",
      "                        **2 + (ym[m] - y2n[n])**2))))))\n",
      "            m += 1\n",
      "        \n",
      "        "
     ],
     "language": "python",
     "metadata": {},
     "outputs": [],
     "prompt_number": 304
    },
    {
     "cell_type": "code",
     "collapsed": false,
     "input": [
      "def downwash(x1n, x2n, y1n, y2n, xm, ym, N_panels):\n",
      "    \"\"\"Sets the Horseshoe Vortex Parameters\n",
      "\n",
      "    Params:\n",
      "    --------\n",
      "    Gamma     float, circulation strength\n",
      "    N_panels  float, number of panels\n",
      "    x1n, y1n  coordinates of left front of horseshoe\n",
      "    x2n, y2n  coordinates of right front of horseshoe\n",
      "    x_m, y_m  control point coordinates\n",
      "    \"\"\"\n",
      "\n",
      "    #m panel influence calculated on\n",
      "    #n panel influence calculated from\n",
      "\n",
      "    #took gamma out\n",
      "\n",
      "    for m in range(0,N_panels):\n",
      "        for n in range(0,N_panels):\n",
      "            if m == n:\n",
      "                n += 1\n",
      "            else:\n",
      "              w[m,n] = (1/4*math.pi) * (((1/((xm[m] - x1n[n])*(ym[m] -\\\n",
      "                    y2n[n]) - (xm[m] - x2n[n])*(ym[m] - y1n[n]))) *\\\n",
      "                    ((((x2n[n] - x1n[n])*(xm[m] - x1n[n]) +\\\n",
      "                    (y2n[n] - y1n[n])*(ym[m] - y1n[n]))/\\\n",
      "                    (math.sqrt((xm[m] - x1n[n])**2 + (ym[m] - y1n[n])**2)))\\\n",
      "                    - (((x2n[n] - x1n[n])*(xm[m] - x2n[n]) +\\\n",
      "                    (y2n[n] - y1n[n])*(ym[m] - y2n[n]))/\\\n",
      "                    (math.sqrt((xm[m] - x2n[n])**2 + (ym[m] - y2n[n])**2)))\\\n",
      "                    )) + (((1.0)/(y1ns[n] - ym[m]))*(1.0 +\\\n",
      "                    ((xm[m] - x1n[n])/(math.sqrt((xm[m] - x1n[n])**2 +\\\n",
      "                    (ym[m] - y1n[n])**2))))) - (((1.0)/(y2n[n] - ym[m]))\\\n",
      "                    *(1.0 + ((xm[m] -x2n[n])/(math.sqrt((xm[m] - x2n[n])\\\n",
      "                    **2 + (ym[m] - y2n[n])**2))))))\n",
      "        m += 1"
     ],
     "language": "python",
     "metadata": {},
     "outputs": [],
     "prompt_number": 305
    },
    {
     "cell_type": "code",
     "collapsed": false,
     "input": [
      "w = np.empty((N_panels,N_panels), dtype=object)\n",
      "for i in xrange(N_panels):\n",
      "    w = downwash(x1ns, x2ns, y1ns, y2ns, xm, ym, N_panels)"
     ],
     "language": "python",
     "metadata": {},
     "outputs": [
      {
       "ename": "TypeError",
       "evalue": "'NoneType' object does not support item assignment",
       "output_type": "pyerr",
       "traceback": [
        "\u001b[1;31m---------------------------------------------------------------------------\u001b[0m\n\u001b[1;31mTypeError\u001b[0m                                 Traceback (most recent call last)",
        "\u001b[1;32m<ipython-input-306-8175f9711453>\u001b[0m in \u001b[0;36m<module>\u001b[1;34m()\u001b[0m\n\u001b[0;32m      1\u001b[0m \u001b[0mw\u001b[0m \u001b[1;33m=\u001b[0m \u001b[0mnp\u001b[0m\u001b[1;33m.\u001b[0m\u001b[0mempty\u001b[0m\u001b[1;33m(\u001b[0m\u001b[1;33m(\u001b[0m\u001b[0mN_panels\u001b[0m\u001b[1;33m,\u001b[0m\u001b[0mN_panels\u001b[0m\u001b[1;33m)\u001b[0m\u001b[1;33m,\u001b[0m \u001b[0mdtype\u001b[0m\u001b[1;33m=\u001b[0m\u001b[0mobject\u001b[0m\u001b[1;33m)\u001b[0m\u001b[1;33m\u001b[0m\u001b[0m\n\u001b[0;32m      2\u001b[0m \u001b[1;32mfor\u001b[0m \u001b[0mi\u001b[0m \u001b[1;32min\u001b[0m \u001b[0mxrange\u001b[0m\u001b[1;33m(\u001b[0m\u001b[0mN_panels\u001b[0m\u001b[1;33m)\u001b[0m\u001b[1;33m:\u001b[0m\u001b[1;33m\u001b[0m\u001b[0m\n\u001b[1;32m----> 3\u001b[1;33m     \u001b[0mw\u001b[0m \u001b[1;33m=\u001b[0m \u001b[0mdownwash\u001b[0m\u001b[1;33m(\u001b[0m\u001b[0mx1ns\u001b[0m\u001b[1;33m,\u001b[0m \u001b[0mx2ns\u001b[0m\u001b[1;33m,\u001b[0m \u001b[0my1ns\u001b[0m\u001b[1;33m,\u001b[0m \u001b[0my2ns\u001b[0m\u001b[1;33m,\u001b[0m \u001b[0mxm\u001b[0m\u001b[1;33m,\u001b[0m \u001b[0mym\u001b[0m\u001b[1;33m,\u001b[0m \u001b[0mN_panels\u001b[0m\u001b[1;33m)\u001b[0m\u001b[1;33m\u001b[0m\u001b[0m\n\u001b[0m",
        "\u001b[1;32m<ipython-input-305-77dace11f71b>\u001b[0m in \u001b[0;36mdownwash\u001b[1;34m(x1n, x2n, y1n, y2n, xm, ym, N_panels)\u001b[0m\n\u001b[0;32m     21\u001b[0m                 \u001b[0mn\u001b[0m \u001b[1;33m+=\u001b[0m \u001b[1;36m1\u001b[0m\u001b[1;33m\u001b[0m\u001b[0m\n\u001b[0;32m     22\u001b[0m             \u001b[1;32melse\u001b[0m\u001b[1;33m:\u001b[0m\u001b[1;33m\u001b[0m\u001b[0m\n\u001b[1;32m---> 23\u001b[1;33m               \u001b[0mw\u001b[0m\u001b[1;33m[\u001b[0m\u001b[0mm\u001b[0m\u001b[1;33m,\u001b[0m\u001b[0mn\u001b[0m\u001b[1;33m]\u001b[0m \u001b[1;33m=\u001b[0m \u001b[1;33m(\u001b[0m\u001b[1;36m1\u001b[0m\u001b[1;33m/\u001b[0m\u001b[1;36m4\u001b[0m\u001b[1;33m*\u001b[0m\u001b[0mmath\u001b[0m\u001b[1;33m.\u001b[0m\u001b[0mpi\u001b[0m\u001b[1;33m)\u001b[0m \u001b[1;33m*\u001b[0m \u001b[1;33m(\u001b[0m\u001b[1;33m(\u001b[0m\u001b[1;33m(\u001b[0m\u001b[1;36m1\u001b[0m\u001b[1;33m/\u001b[0m\u001b[1;33m(\u001b[0m\u001b[1;33m(\u001b[0m\u001b[0mxm\u001b[0m\u001b[1;33m[\u001b[0m\u001b[0mm\u001b[0m\u001b[1;33m]\u001b[0m \u001b[1;33m-\u001b[0m \u001b[0mx1n\u001b[0m\u001b[1;33m[\u001b[0m\u001b[0mn\u001b[0m\u001b[1;33m]\u001b[0m\u001b[1;33m)\u001b[0m\u001b[1;33m*\u001b[0m\u001b[1;33m(\u001b[0m\u001b[0mym\u001b[0m\u001b[1;33m[\u001b[0m\u001b[0mm\u001b[0m\u001b[1;33m]\u001b[0m \u001b[1;33m-\u001b[0m                    \u001b[0my2n\u001b[0m\u001b[1;33m[\u001b[0m\u001b[0mn\u001b[0m\u001b[1;33m]\u001b[0m\u001b[1;33m)\u001b[0m \u001b[1;33m-\u001b[0m \u001b[1;33m(\u001b[0m\u001b[0mxm\u001b[0m\u001b[1;33m[\u001b[0m\u001b[0mm\u001b[0m\u001b[1;33m]\u001b[0m \u001b[1;33m-\u001b[0m \u001b[0mx2n\u001b[0m\u001b[1;33m[\u001b[0m\u001b[0mn\u001b[0m\u001b[1;33m]\u001b[0m\u001b[1;33m)\u001b[0m\u001b[1;33m*\u001b[0m\u001b[1;33m(\u001b[0m\u001b[0mym\u001b[0m\u001b[1;33m[\u001b[0m\u001b[0mm\u001b[0m\u001b[1;33m]\u001b[0m \u001b[1;33m-\u001b[0m \u001b[0my1n\u001b[0m\u001b[1;33m[\u001b[0m\u001b[0mn\u001b[0m\u001b[1;33m]\u001b[0m\u001b[1;33m)\u001b[0m\u001b[1;33m)\u001b[0m\u001b[1;33m)\u001b[0m \u001b[1;33m*\u001b[0m                    \u001b[1;33m(\u001b[0m\u001b[1;33m(\u001b[0m\u001b[1;33m(\u001b[0m\u001b[1;33m(\u001b[0m\u001b[0mx2n\u001b[0m\u001b[1;33m[\u001b[0m\u001b[0mn\u001b[0m\u001b[1;33m]\u001b[0m \u001b[1;33m-\u001b[0m \u001b[0mx1n\u001b[0m\u001b[1;33m[\u001b[0m\u001b[0mn\u001b[0m\u001b[1;33m]\u001b[0m\u001b[1;33m)\u001b[0m\u001b[1;33m*\u001b[0m\u001b[1;33m(\u001b[0m\u001b[0mxm\u001b[0m\u001b[1;33m[\u001b[0m\u001b[0mm\u001b[0m\u001b[1;33m]\u001b[0m \u001b[1;33m-\u001b[0m \u001b[0mx1n\u001b[0m\u001b[1;33m[\u001b[0m\u001b[0mn\u001b[0m\u001b[1;33m]\u001b[0m\u001b[1;33m)\u001b[0m \u001b[1;33m+\u001b[0m                    \u001b[1;33m(\u001b[0m\u001b[0my2n\u001b[0m\u001b[1;33m[\u001b[0m\u001b[0mn\u001b[0m\u001b[1;33m]\u001b[0m \u001b[1;33m-\u001b[0m \u001b[0my1n\u001b[0m\u001b[1;33m[\u001b[0m\u001b[0mn\u001b[0m\u001b[1;33m]\u001b[0m\u001b[1;33m)\u001b[0m\u001b[1;33m*\u001b[0m\u001b[1;33m(\u001b[0m\u001b[0mym\u001b[0m\u001b[1;33m[\u001b[0m\u001b[0mm\u001b[0m\u001b[1;33m]\u001b[0m \u001b[1;33m-\u001b[0m \u001b[0my1n\u001b[0m\u001b[1;33m[\u001b[0m\u001b[0mn\u001b[0m\u001b[1;33m]\u001b[0m\u001b[1;33m)\u001b[0m\u001b[1;33m)\u001b[0m\u001b[1;33m/\u001b[0m                    \u001b[1;33m(\u001b[0m\u001b[0mmath\u001b[0m\u001b[1;33m.\u001b[0m\u001b[0msqrt\u001b[0m\u001b[1;33m(\u001b[0m\u001b[1;33m(\u001b[0m\u001b[0mxm\u001b[0m\u001b[1;33m[\u001b[0m\u001b[0mm\u001b[0m\u001b[1;33m]\u001b[0m \u001b[1;33m-\u001b[0m \u001b[0mx1n\u001b[0m\u001b[1;33m[\u001b[0m\u001b[0mn\u001b[0m\u001b[1;33m]\u001b[0m\u001b[1;33m)\u001b[0m\u001b[1;33m**\u001b[0m\u001b[1;36m2\u001b[0m \u001b[1;33m+\u001b[0m \u001b[1;33m(\u001b[0m\u001b[0mym\u001b[0m\u001b[1;33m[\u001b[0m\u001b[0mm\u001b[0m\u001b[1;33m]\u001b[0m \u001b[1;33m-\u001b[0m \u001b[0my1n\u001b[0m\u001b[1;33m[\u001b[0m\u001b[0mn\u001b[0m\u001b[1;33m]\u001b[0m\u001b[1;33m)\u001b[0m\u001b[1;33m**\u001b[0m\u001b[1;36m2\u001b[0m\u001b[1;33m)\u001b[0m\u001b[1;33m)\u001b[0m\u001b[1;33m)\u001b[0m                    \u001b[1;33m-\u001b[0m \u001b[1;33m(\u001b[0m\u001b[1;33m(\u001b[0m\u001b[1;33m(\u001b[0m\u001b[0mx2n\u001b[0m\u001b[1;33m[\u001b[0m\u001b[0mn\u001b[0m\u001b[1;33m]\u001b[0m \u001b[1;33m-\u001b[0m \u001b[0mx1n\u001b[0m\u001b[1;33m[\u001b[0m\u001b[0mn\u001b[0m\u001b[1;33m]\u001b[0m\u001b[1;33m)\u001b[0m\u001b[1;33m*\u001b[0m\u001b[1;33m(\u001b[0m\u001b[0mxm\u001b[0m\u001b[1;33m[\u001b[0m\u001b[0mm\u001b[0m\u001b[1;33m]\u001b[0m \u001b[1;33m-\u001b[0m \u001b[0mx2n\u001b[0m\u001b[1;33m[\u001b[0m\u001b[0mn\u001b[0m\u001b[1;33m]\u001b[0m\u001b[1;33m)\u001b[0m \u001b[1;33m+\u001b[0m                    \u001b[1;33m(\u001b[0m\u001b[0my2n\u001b[0m\u001b[1;33m[\u001b[0m\u001b[0mn\u001b[0m\u001b[1;33m]\u001b[0m \u001b[1;33m-\u001b[0m \u001b[0my1n\u001b[0m\u001b[1;33m[\u001b[0m\u001b[0mn\u001b[0m\u001b[1;33m]\u001b[0m\u001b[1;33m)\u001b[0m\u001b[1;33m*\u001b[0m\u001b[1;33m(\u001b[0m\u001b[0mym\u001b[0m\u001b[1;33m[\u001b[0m\u001b[0mm\u001b[0m\u001b[1;33m]\u001b[0m \u001b[1;33m-\u001b[0m \u001b[0my2n\u001b[0m\u001b[1;33m[\u001b[0m\u001b[0mn\u001b[0m\u001b[1;33m]\u001b[0m\u001b[1;33m)\u001b[0m\u001b[1;33m)\u001b[0m\u001b[1;33m/\u001b[0m                    \u001b[1;33m(\u001b[0m\u001b[0mmath\u001b[0m\u001b[1;33m.\u001b[0m\u001b[0msqrt\u001b[0m\u001b[1;33m(\u001b[0m\u001b[1;33m(\u001b[0m\u001b[0mxm\u001b[0m\u001b[1;33m[\u001b[0m\u001b[0mm\u001b[0m\u001b[1;33m]\u001b[0m \u001b[1;33m-\u001b[0m \u001b[0mx2n\u001b[0m\u001b[1;33m[\u001b[0m\u001b[0mn\u001b[0m\u001b[1;33m]\u001b[0m\u001b[1;33m)\u001b[0m\u001b[1;33m**\u001b[0m\u001b[1;36m2\u001b[0m \u001b[1;33m+\u001b[0m \u001b[1;33m(\u001b[0m\u001b[0mym\u001b[0m\u001b[1;33m[\u001b[0m\u001b[0mm\u001b[0m\u001b[1;33m]\u001b[0m \u001b[1;33m-\u001b[0m \u001b[0my2n\u001b[0m\u001b[1;33m[\u001b[0m\u001b[0mn\u001b[0m\u001b[1;33m]\u001b[0m\u001b[1;33m)\u001b[0m\u001b[1;33m**\u001b[0m\u001b[1;36m2\u001b[0m\u001b[1;33m)\u001b[0m\u001b[1;33m)\u001b[0m\u001b[1;33m)\u001b[0m                    \u001b[1;33m)\u001b[0m\u001b[1;33m)\u001b[0m \u001b[1;33m+\u001b[0m \u001b[1;33m(\u001b[0m\u001b[1;33m(\u001b[0m\u001b[1;33m(\u001b[0m\u001b[1;36m1.0\u001b[0m\u001b[1;33m)\u001b[0m\u001b[1;33m/\u001b[0m\u001b[1;33m(\u001b[0m\u001b[0my1ns\u001b[0m\u001b[1;33m[\u001b[0m\u001b[0mn\u001b[0m\u001b[1;33m]\u001b[0m \u001b[1;33m-\u001b[0m \u001b[0mym\u001b[0m\u001b[1;33m[\u001b[0m\u001b[0mm\u001b[0m\u001b[1;33m]\u001b[0m\u001b[1;33m)\u001b[0m\u001b[1;33m)\u001b[0m\u001b[1;33m*\u001b[0m\u001b[1;33m(\u001b[0m\u001b[1;36m1.0\u001b[0m \u001b[1;33m+\u001b[0m                    \u001b[1;33m(\u001b[0m\u001b[1;33m(\u001b[0m\u001b[0mxm\u001b[0m\u001b[1;33m[\u001b[0m\u001b[0mm\u001b[0m\u001b[1;33m]\u001b[0m \u001b[1;33m-\u001b[0m \u001b[0mx1n\u001b[0m\u001b[1;33m[\u001b[0m\u001b[0mn\u001b[0m\u001b[1;33m]\u001b[0m\u001b[1;33m)\u001b[0m\u001b[1;33m/\u001b[0m\u001b[1;33m(\u001b[0m\u001b[0mmath\u001b[0m\u001b[1;33m.\u001b[0m\u001b[0msqrt\u001b[0m\u001b[1;33m(\u001b[0m\u001b[1;33m(\u001b[0m\u001b[0mxm\u001b[0m\u001b[1;33m[\u001b[0m\u001b[0mm\u001b[0m\u001b[1;33m]\u001b[0m \u001b[1;33m-\u001b[0m \u001b[0mx1n\u001b[0m\u001b[1;33m[\u001b[0m\u001b[0mn\u001b[0m\u001b[1;33m]\u001b[0m\u001b[1;33m)\u001b[0m\u001b[1;33m**\u001b[0m\u001b[1;36m2\u001b[0m \u001b[1;33m+\u001b[0m                    \u001b[1;33m(\u001b[0m\u001b[0mym\u001b[0m\u001b[1;33m[\u001b[0m\u001b[0mm\u001b[0m\u001b[1;33m]\u001b[0m \u001b[1;33m-\u001b[0m \u001b[0my1n\u001b[0m\u001b[1;33m[\u001b[0m\u001b[0mn\u001b[0m\u001b[1;33m]\u001b[0m\u001b[1;33m)\u001b[0m\u001b[1;33m**\u001b[0m\u001b[1;36m2\u001b[0m\u001b[1;33m)\u001b[0m\u001b[1;33m)\u001b[0m\u001b[1;33m)\u001b[0m\u001b[1;33m)\u001b[0m\u001b[1;33m)\u001b[0m \u001b[1;33m-\u001b[0m \u001b[1;33m(\u001b[0m\u001b[1;33m(\u001b[0m\u001b[1;33m(\u001b[0m\u001b[1;36m1.0\u001b[0m\u001b[1;33m)\u001b[0m\u001b[1;33m/\u001b[0m\u001b[1;33m(\u001b[0m\u001b[0my2n\u001b[0m\u001b[1;33m[\u001b[0m\u001b[0mn\u001b[0m\u001b[1;33m]\u001b[0m \u001b[1;33m-\u001b[0m \u001b[0mym\u001b[0m\u001b[1;33m[\u001b[0m\u001b[0mm\u001b[0m\u001b[1;33m]\u001b[0m\u001b[1;33m)\u001b[0m\u001b[1;33m)\u001b[0m                    \u001b[1;33m*\u001b[0m\u001b[1;33m(\u001b[0m\u001b[1;36m1.0\u001b[0m \u001b[1;33m+\u001b[0m \u001b[1;33m(\u001b[0m\u001b[1;33m(\u001b[0m\u001b[0mxm\u001b[0m\u001b[1;33m[\u001b[0m\u001b[0mm\u001b[0m\u001b[1;33m]\u001b[0m \u001b[1;33m-\u001b[0m\u001b[0mx2n\u001b[0m\u001b[1;33m[\u001b[0m\u001b[0mn\u001b[0m\u001b[1;33m]\u001b[0m\u001b[1;33m)\u001b[0m\u001b[1;33m/\u001b[0m\u001b[1;33m(\u001b[0m\u001b[0mmath\u001b[0m\u001b[1;33m.\u001b[0m\u001b[0msqrt\u001b[0m\u001b[1;33m(\u001b[0m\u001b[1;33m(\u001b[0m\u001b[0mxm\u001b[0m\u001b[1;33m[\u001b[0m\u001b[0mm\u001b[0m\u001b[1;33m]\u001b[0m \u001b[1;33m-\u001b[0m \u001b[0mx2n\u001b[0m\u001b[1;33m[\u001b[0m\u001b[0mn\u001b[0m\u001b[1;33m]\u001b[0m\u001b[1;33m)\u001b[0m                    \u001b[1;33m**\u001b[0m\u001b[1;36m2\u001b[0m \u001b[1;33m+\u001b[0m \u001b[1;33m(\u001b[0m\u001b[0mym\u001b[0m\u001b[1;33m[\u001b[0m\u001b[0mm\u001b[0m\u001b[1;33m]\u001b[0m \u001b[1;33m-\u001b[0m \u001b[0my2n\u001b[0m\u001b[1;33m[\u001b[0m\u001b[0mn\u001b[0m\u001b[1;33m]\u001b[0m\u001b[1;33m)\u001b[0m\u001b[1;33m**\u001b[0m\u001b[1;36m2\u001b[0m\u001b[1;33m)\u001b[0m\u001b[1;33m)\u001b[0m\u001b[1;33m)\u001b[0m\u001b[1;33m)\u001b[0m\u001b[1;33m)\u001b[0m\u001b[1;33m)\u001b[0m\u001b[1;33m\u001b[0m\u001b[0m\n\u001b[0m\u001b[0;32m     24\u001b[0m         \u001b[0mm\u001b[0m \u001b[1;33m+=\u001b[0m \u001b[1;36m1\u001b[0m\u001b[1;33m\u001b[0m\u001b[0m\n",
        "\u001b[1;31mTypeError\u001b[0m: 'NoneType' object does not support item assignment"
       ]
      }
     ],
     "prompt_number": 306
    },
    {
     "cell_type": "markdown",
     "metadata": {},
     "source": [
      "What makes this problem simpler is that we have a planar wing with no dihedral, so the downwash contributions from each panel must be equal."
     ]
    },
    {
     "cell_type": "code",
     "collapsed": false,
     "input": [
      "#Build RHS matrix\n",
      "u_infty=1.0\n",
      "RHS = np.ones((1,N_panels),dtype=float)\n",
      "RHS = -4.0*math.pi*chord*u_infty*alpha"
     ],
     "language": "python",
     "metadata": {},
     "outputs": [],
     "prompt_number": 309
    },
    {
     "cell_type": "code",
     "collapsed": false,
     "input": [
      "print(RHS)"
     ],
     "language": "python",
     "metadata": {},
     "outputs": [
      {
       "output_type": "stream",
       "stream": "stdout",
       "text": [
        "-0.0\n"
       ]
      }
     ],
     "prompt_number": 310
    },
    {
     "cell_type": "code",
     "collapsed": false,
     "input": [
      "Gamma = np.linalg.solve(downwash,RHS)\n",
      "sweep = 45\n",
      "q_infty = \n",
      "S = \n",
      "delta_ys = chord * np.tan(math.radians(sweep))\n",
      "L = 2.0*rho*u_infty*np.cdot(Gamma,delta_Ys)\n",
      "C_L = L/(q_infty*S)"
     ],
     "language": "python",
     "metadata": {},
     "outputs": [
      {
       "ename": "SyntaxError",
       "evalue": "invalid syntax (<ipython-input-312-47d04d390aa7>, line 3)",
       "output_type": "pyerr",
       "traceback": [
        "\u001b[1;36m  File \u001b[1;32m\"<ipython-input-312-47d04d390aa7>\"\u001b[1;36m, line \u001b[1;32m3\u001b[0m\n\u001b[1;33m    q_infty =\u001b[0m\n\u001b[1;37m              ^\u001b[0m\n\u001b[1;31mSyntaxError\u001b[0m\u001b[1;31m:\u001b[0m invalid syntax\n"
       ]
      }
     ],
     "prompt_number": 312
    },
    {
     "cell_type": "raw",
     "metadata": {},
     "source": [
      "define panels--DONE\n",
      "define control points --DONE\n",
      "define horseshoe point location (x1n, y1n, x2n, y2n) --DONE\n",
      "pass locations to downwash\n",
      "starboard\n",
      "port\n",
      "Solve system\n",
      "Compare to Textbook\n",
      "change airfoil and up # of panels\n",
      "Compare to XFLR5\n",
      "References\n",
      "Edit"
     ]
    },
    {
     "cell_type": "heading",
     "level": 3,
     "metadata": {},
     "source": [
      "Comparison to XFLR5"
     ]
    },
    {
     "cell_type": "heading",
     "level": 2,
     "metadata": {},
     "source": [
      "Advanced Example"
     ]
    },
    {
     "cell_type": "heading",
     "level": 3,
     "metadata": {},
     "source": [
      "References:"
     ]
    },
    {
     "cell_type": "markdown",
     "metadata": {},
     "source": [
      "Anderson's book\n",
      "\n",
      "Aerodynamics for engineers\n",
      "\n",
      "Special thanks to Bertin and Smith for their foundational work on VLMs in their textbook as their mathematical derivation is extensively used."
     ]
    },
    {
     "cell_type": "heading",
     "level": 6,
     "metadata": {},
     "source": [
      "Notebook Style (ignore below)"
     ]
    },
    {
     "cell_type": "code",
     "collapsed": false,
     "input": [
      "from IPython.core.display import HTML\n",
      "def css_styling():\n",
      "    styles = open('./resources/numericalmoocstyle.css', 'r').read()\n",
      "    return HTML(styles)\n",
      "css_styling()"
     ],
     "language": "python",
     "metadata": {},
     "outputs": [
      {
       "html": [
        "<link href='http://fonts.googleapis.com/css?family=Alegreya+Sans:100,300,400,500,700,800,900,100italic,300italic,400italic,500italic,700italic,800italic,900italic' rel='stylesheet' type='text/css'>\n",
        "<link href='http://fonts.googleapis.com/css?family=Arvo:400,700,400italic' rel='stylesheet' type='text/css'>\n",
        "<link href='http://fonts.googleapis.com/css?family=PT+Mono' rel='stylesheet' type='text/css'>\n",
        "<link href='http://fonts.googleapis.com/css?family=Shadows+Into+Light' rel='stylesheet' type='text/css'>\n",
        "<link href='http://fonts.googleapis.com/css?family=Nixie+One' rel='stylesheet' type='text/css'>\n",
        "<style>\n",
        "\n",
        "@font-face {\n",
        "    font-family: \"Computer Modern\";\n",
        "    src: url('http://mirrors.ctan.org/fonts/cm-unicode/fonts/otf/cmunss.otf');\n",
        "}\n",
        "\n",
        "#notebook_panel { /* main background */\n",
        "    background: rgb(245,245,245);\n",
        "}\n",
        "\n",
        "div.cell { /* set cell width */\n",
        "    width: 750px;\n",
        "}\n",
        "\n",
        "div #notebook { /* centre the content */\n",
        "    background: #fff; /* white background for content */\n",
        "    width: 1000px;\n",
        "    margin: auto;\n",
        "    padding-left: 0em;\n",
        "}\n",
        "\n",
        "#notebook li { /* More space between bullet points */\n",
        "margin-top:0.8em;\n",
        "}\n",
        "\n",
        "/* draw border around running cells */\n",
        "div.cell.border-box-sizing.code_cell.running { \n",
        "    border: 1px solid #111;\n",
        "}\n",
        "\n",
        "/* Put a solid color box around each cell and its output, visually linking them*/\n",
        "div.cell.code_cell {\n",
        "    background-color: rgb(256,256,256); \n",
        "    border-radius: 0px; \n",
        "    padding: 0.5em;\n",
        "    margin-left:1em;\n",
        "    margin-top: 1em;\n",
        "}\n",
        "\n",
        "div.text_cell_render{\n",
        "    font-family: 'Alegreya Sans' sans-serif;\n",
        "    line-height: 140%;\n",
        "    font-size: 125%;\n",
        "    font-weight: 400;\n",
        "    width:600px;\n",
        "    margin-left:auto;\n",
        "    margin-right:auto;\n",
        "}\n",
        "\n",
        "\n",
        "/* Formatting for header cells */\n",
        ".text_cell_render h1 {\n",
        "    font-family: 'Nixie One', serif;\n",
        "    font-style:regular;\n",
        "    font-weight: 400;    \n",
        "    font-size: 45pt;\n",
        "    line-height: 100%;\n",
        "    color: rgb(0,51,102);\n",
        "    margin-bottom: 0.5em;\n",
        "    margin-top: 0.5em;\n",
        "    display: block;\n",
        "}\t\n",
        ".text_cell_render h2 {\n",
        "    font-family: 'Nixie One', serif;\n",
        "    font-weight: 400;\n",
        "    font-size: 30pt;\n",
        "    line-height: 100%;\n",
        "    color: rgb(0,51,102);\n",
        "    margin-bottom: 0.1em;\n",
        "    margin-top: 0.3em;\n",
        "    display: block;\n",
        "}\t\n",
        "\n",
        ".text_cell_render h3 {\n",
        "    font-family: 'Nixie One', serif;\n",
        "    margin-top:16px;\n",
        "\tfont-size: 22pt;\n",
        "    font-weight: 600;\n",
        "    margin-bottom: 3px;\n",
        "    font-style: regular;\n",
        "    color: rgb(102,102,0);\n",
        "}\n",
        "\n",
        ".text_cell_render h4 {    /*Use this for captions*/\n",
        "    font-family: 'Nixie One', serif;\n",
        "    font-size: 14pt;\n",
        "    text-align: center;\n",
        "    margin-top: 0em;\n",
        "    margin-bottom: 2em;\n",
        "    font-style: regular;\n",
        "}\n",
        "\n",
        ".text_cell_render h5 {  /*Use this for small titles*/\n",
        "    font-family: 'Nixie One', sans-serif;\n",
        "    font-weight: 400;\n",
        "    font-size: 16pt;\n",
        "    color: rgb(163,0,0);\n",
        "    font-style: italic;\n",
        "    margin-bottom: .1em;\n",
        "    margin-top: 0.8em;\n",
        "    display: block;\n",
        "}\n",
        "\n",
        ".text_cell_render h6 { /*use this for copyright note*/\n",
        "    font-family: 'PT Mono', sans-serif;\n",
        "    font-weight: 300;\n",
        "    font-size: 9pt;\n",
        "    line-height: 100%;\n",
        "    color: grey;\n",
        "    margin-bottom: 1px;\n",
        "    margin-top: 1px;\n",
        "}\n",
        "\n",
        ".CodeMirror{\n",
        "        font-family: \"PT Mono\";\n",
        "        font-size: 90%;\n",
        "}\n",
        "\n",
        "</style>\n",
        "<script>\n",
        "    MathJax.Hub.Config({\n",
        "                        TeX: {\n",
        "                           extensions: [\"AMSmath.js\"],\n",
        "                           equationNumbers: { autoNumber: \"AMS\", useLabelIds: true}\n",
        "                           },\n",
        "                tex2jax: {\n",
        "                    inlineMath: [ ['$','$'], [\"\\\\(\",\"\\\\)\"] ],\n",
        "                    displayMath: [ ['$$','$$'], [\"\\\\[\",\"\\\\]\"] ]\n",
        "                },\n",
        "                displayAlign: 'center', // Change this to 'center' to center equations.\n",
        "                \"HTML-CSS\": {\n",
        "                    styles: {'.MathJax_Display': {\"margin\": 4}}\n",
        "                }\n",
        "        });\n",
        "</script>\n"
       ],
       "metadata": {},
       "output_type": "pyout",
       "prompt_number": 2,
       "text": [
        "<IPython.core.display.HTML at 0x7f5d1c604650>"
       ]
      }
     ],
     "prompt_number": 2
    },
    {
     "cell_type": "code",
     "collapsed": false,
     "input": [],
     "language": "python",
     "metadata": {},
     "outputs": [],
     "prompt_number": 2
    }
   ],
   "metadata": {}
  }
 ]
}