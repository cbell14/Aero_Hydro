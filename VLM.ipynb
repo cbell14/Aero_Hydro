{
 "cells": [
  {
   "cell_type": "markdown",
   "metadata": {},
   "source": [
    "###### Code created by Christopher Bell for Professor Lorena Barba's Aerodynamics and Hydrodynamics course at GWU."
   ]
  },
  {
   "cell_type": "markdown",
   "metadata": {},
   "source": [
    "# Vortex Lattice Method"
   ]
  },
  {
   "cell_type": "markdown",
   "metadata": {},
   "source": [
    "### Basics of VLMs"
   ]
  },
  {
   "cell_type": "markdown",
   "metadata": {},
   "source": [
    "Now that we have some experience with Panel Methods, let's look at another form of panel method-- the Vortex Lattice Method (VLM). VLMs were created as an extension of Prandtl's lifting line theory in order to more accurately resolve low aspect-ratio straight wings, swept wings, and delta wings. This is accomplished by allowing the vortices' strengths to vary in the chord wise and spanwise direction--instead of just spanwise. VLMs overlay horseshoe vortices over a planar wing. The Biot-Savard Law is then used to calculate the induced velocities. The general layout of these horseshoe vortices can be seen below\n",
    "<img src='./VLM_resources/General_VLM.png'height '2'width '2'>"
   ]
  },
  {
   "cell_type": "markdown",
   "metadata": {},
   "source": [
    "###### Image Credit: Bertin and Smith, Aerodynamics for Engineers, page 292."
   ]
  },
  {
   "cell_type": "markdown",
   "metadata": {},
   "source": [
    "This process is repeated for each individual panel and control point. All the control points are then summed to yield linear equations for the horshoe vortices' strengths. $\\delta$ is used to indicate streamwise vortex strength and $\\gamma$ is used to indicate cross-stream vortex strength. This is all done while still enforcing the same boundary condition from Panel methods. Do you remember it? Yep, the flow tangency condition. These vortex strengths are then used to get the total circulation around the lifting body. Using the circulation we can then find the lift."
   ]
  },
  {
   "cell_type": "markdown",
   "metadata": {},
   "source": [
    "### How are these panels and horseshoe vortices oriented?"
   ]
  },
  {
   "cell_type": "markdown",
   "metadata": {},
   "source": [
    "The horseshoe vortices are typically placed at the $\\frac{1}{4}$-chord point of each panel, while the control points should be placed at the $\\frac{3}{4}$-chord point of each panel. This condition arises because of the relationship between circulation, $\\Gamma$, and the freestream velocity, $U_\\infty$. This relationship is given below as the circulation induces a velocity at the control point, $c$, with $r$ being the control point's distance from the vortex filament making up the horseshoe vortex:\n",
    "\n",
    "\\begin{equation}\n",
    "U = \\frac{\\Gamma}{2\\pi r}\n",
    "%\\label{eq:inducedvel}\n",
    "\\end{equation}\n",
    "\n",
    "The orientation of a single panel with respect to the freestream can be seen in the image below.\n",
    "\n",
    "<img src='./VLM_resources/control_point.png'height '12'width '12'>"
   ]
  },
  {
   "cell_type": "markdown",
   "metadata": {},
   "source": [
    "###### Image Credit: Bertin and Smith, Aerodynamics for Engineers, page 293."
   ]
  },
  {
   "cell_type": "markdown",
   "metadata": {},
   "source": [
    "Next, forcing the flow to be parallel to the surface at every control point we get:\n",
    "\n",
    "\\begin{equation}\n",
    "\\alpha \\approx \\sin \\alpha = \\frac{U}{U_\\infty} = \\frac{\\Gamma}{2\\pi r U_\\infty}\n",
    "%\\label{eq:inducedfreestream}\n",
    "\\end{equation}\n",
    "\n",
    "Now we can use the Kutta-Joukowski theorm, $L = \\rho_\\infty U_\\infty \\Gamma$, and the previous equation to obtain\n",
    "\n",
    "\\begin{equation}\n",
    "\\pi \\rho_\\infty {U_\\infty}^2 c \\frac{\\Gamma}{2\\pi r U_\\infty} = \\rho_\\infty U_\\infty \\Gamma\n",
    "%\\label{eq:kutta_induced}\n",
    "\\end{equation}\n",
    "\n",
    "Now, we solve for $r$ to find where the control point should be located relative to the horseshoe vortex for each panel. This yields $r = \\frac{c}{2}$ which since the vortex is located at the $\\frac{1}{4}$-chord means that the control point should be placed at the $\\frac{3}{4}$-chord point.\n",
    "\n",
    "The panel themselves are also typically aligned with the wing's sweep angle as seen in the previous figure.\n",
    "\n",
    "\n",
    "   It is also important to decide how to treat the wake region with the tails of the horseshoe vortices going to infinity. In a fully 3D code, the panels would be located on the mean camber surface of the wing which would yield curved trailing vortices paths. For simplicitly, this code will not be treating the airfoil in this way because past work has demonstrated the ability for straight line trailing vortices to be accurate. We also need to decided which axis to align the trialing vortices with--the aircraft centerline or the freestream. We will be using the aircraft centerline."
   ]
  },
  {
   "cell_type": "markdown",
   "metadata": {},
   "source": [
    "## Warning!! Lots of Math Ahead"
   ]
  },
  {
   "cell_type": "markdown",
   "metadata": {},
   "source": [
    "### Induced Velocities"
   ]
  },
  {
   "cell_type": "markdown",
   "metadata": {},
   "source": [
    "Now, we need to derive how we will calculate the induced velocities on the wing from the horseshoe vortices. The defining geometry for this derivation is below. Segment $\\overrightarrow{AB}$ is a vorticity vector and point $C$, is any point in space.\n",
    "\n",
    "<img src='./VLM_resources/Vortex_Notation.png'height '12'width '12'>"
   ]
  },
  {
   "cell_type": "markdown",
   "metadata": {},
   "source": [
    "###### Image Credit: Bertin and Smith, Aerodynamics for Engineers, page 294."
   ]
  },
  {
   "cell_type": "markdown",
   "metadata": {},
   "source": [
    "From undergraduate aerodynamics, we know that the induced velocity from a vortex is given by the Biot-Savart Law:\n",
    "\n",
    "\\begin{equation}\n",
    "\\overrightarrow{dV} = \\frac{\\Gamma_n \\left(\\overrightarrow{dl} \\times \\overrightarrow{r}\\right)}{4\\pi r^3}\n",
    "%\\label{eq:BiotSavart}\n",
    "\\end{equation}\n",
    "\n",
    "When applied to our specific geometry it simplifies to:\n",
    "\n",
    "\\begin{equation}\n",
    "dV = \\frac{\\Gamma_n \\sin \\theta dl}{4\\pi r^2}\n",
    "%\\label{eq:specificBSL}\n",
    "\\end{equation}\n",
    "\n",
    "Now, we can use this relation to calculate the induced velocites from the horseshoe vortices. Before we begin though, let's try and make our derivation a little easier. If we use the nomenclature in the image below, we can separate the horseshoe vortex into 3 separate vortices--one vortex stretching from $A$ to $\\infty$, one vortex stretching from $B$ to $\\infty$, and one vortex from $A$ to $B$.\n",
    "\n",
    "<img src='./VLM_resources/Single_horseshoe_vortex.png'height '12'width '12'>"
   ]
  },
  {
   "cell_type": "markdown",
   "metadata": {},
   "source": [
    "###### Image Credit: Bertin and Smith, Aerodynamics for Engineers, page 295."
   ]
  },
  {
   "cell_type": "markdown",
   "metadata": {},
   "source": [
    "\n",
    "Using the Biot-Savart Law, we can now calculate the induced velocity at some point $c$ whose distance from $\\overrightarrow{AB}$ is $r_p$.\n",
    "\n",
    "\\begin{equation}\n",
    "V = \\frac{\\Gamma_n}{4\\pi r_p}\\int_{\\theta_1}^{\\theta_2} \\sin \\theta d \\theta = \\frac{\\Gamma_n}{4\\pi r_p}\\left(\\cos \\theta_1 - \\cos \\theta_2\\right)\n",
    "%\\label{eq:BSL_genpoint}\n",
    "\\end{equation}\n",
    "\n",
    "This simplifies further when $r_p$ is extended to $\\infty$:\n",
    "\n",
    "\\begin{equation}\n",
    "V = \\frac{\\Gamma_n}{4\\pi r_p}\\left(\\cos\\left(0\\right) - \\cos\\left(\\pi\\right)\\right) = \\frac{\\Gamma_n}{2\\pi r_p}\n",
    "%\\label{eq:BSL_infty}\n",
    "\\end{equation}"
   ]
  },
  {
   "cell_type": "markdown",
   "metadata": {},
   "source": [
    "Now we want to apply this law more generally, so first we are going to define some more general variables and relationships according to the below figure:\n",
    "\n",
    "<img src='./VLM_resources/vector_elements.png'height '12'width '12'>"
   ]
  },
  {
   "cell_type": "markdown",
   "metadata": {},
   "source": [
    "###### Image Credit: Bertin and Smith, Aerodynamics for Engineers, page 297."
   ]
  },
  {
   "cell_type": "markdown",
   "metadata": {},
   "source": [
    "\\begin{equation}\n",
    "\\overrightarrow{r_0} = \\overrightarrow{AB}\n",
    "%\\label{eq:r0}\n",
    "\\end{equation}\n",
    "\n",
    "\\begin{equation}\n",
    "\\overrightarrow{r_1} = \\overrightarrow{AC}\n",
    "%\\label{eq:r1}\n",
    "\\end{equation}\n",
    "\n",
    "\\begin{equation}\n",
    "\\overrightarrow{r_2} = \\overrightarrow{BC}\n",
    "%\\label{eq:r2}\n",
    "\\end{equation}\n",
    "\n",
    "\\begin{equation}\n",
    "r_p = \\frac{\\left|\\overrightarrow{r_1} \\times \\overrightarrow{r_2}\\right|}{r_0}\n",
    "%\\label{eq:rp}\n",
    "\\end{equation}\n",
    "\n",
    "\\begin{equation}\n",
    "\\cos \\theta_1 = \\frac{\\overrightarrow{r_0} \\cdot \\overrightarrow{r_1}}{r_0 r_1}\n",
    "%\\label{eq:cos1}\n",
    "\\end{equation}\n",
    "\n",
    "\\begin{equation}\n",
    "\\cos \\theta_2 = \\frac{\\overrightarrow{r_0} \\cdot \\overrightarrow{r_2}}{r_0 r_2}\n",
    "%\\label{eq:cos2}\n",
    "\\end{equation}"
   ]
  },
  {
   "cell_type": "markdown",
   "metadata": {},
   "source": [
    "Now we can use the above relations with Biot-Savard Law to obtain the induced velocity in terms of the distance vectors rather than angles:\n",
    "\n",
    "\\begin{equation}\n",
    "\\overrightarrow{V} = \\frac{\\Gamma_n}{4\\pi}\\frac{\\vec{r_1} \\times \\vec{r_2}}{\\left| \\vec{r_1} \\times \\vec{r_2} \\right|^2} \\left[ \\vec{r_0} \\cdot \\left(\\frac{\\vec{r_1}}{r_1} - \\frac{\\vec{r_2}}{r_2}\\right) \\right]\n",
    "%\\label{eq:vel_dist}\n",
    "\\end{equation}\n",
    "\n",
    "The direction of the induced velocity is given by:\n",
    "\n",
    "\\begin{equation}\n",
    "\\frac{\\vec{r_1} \\times \\vec{r_2}}{\\left| \\vec{r_1} \\times \\vec{r_2} \\right|}\n",
    "%\\label{eq:vel_dir}\n",
    "\\end{equation}"
   ]
  },
  {
   "cell_type": "markdown",
   "metadata": {},
   "source": [
    "Now we can use velocity in terms of the distance vectors to calculate the induced velocity at some generalized panel, n! First, let's start with vortex segment $\\overrightarrow{AB}$ which was defined earlier. For this segment, $r_0$, $r_1$, and $r_2$ become:\n",
    "\n",
    "\\begin{equation}\n",
    "\\vec{r_0} = \\overrightarrow{AB} = \\left(x_{2n} - x_{1n} \\right)\\hat{i} + \\left(y_{2n} - y_{1n} \\right)\\hat{j} + \\left(z_{2n} - z_{1n} \\right)\\hat{k}\n",
    "%\\label{eq:r0_AB}\n",
    "\\end{equation}\n",
    "\n",
    "\\begin{equation}\n",
    "\\overrightarrow{r_1} = \\left(x - x_{1n} \\right)\\hat{i} + \\left(y - y_{1n} \\right)\\hat{j} + \\left(z - z_{1n} \\right)\\hat{k}\n",
    "%\\label{eq:r1_AB}\n",
    "\\end{equation}\n",
    "\n",
    "\\begin{equation}\n",
    "\\overrightarrow{r_2} = \\left(x -x_{2n} \\right)\\hat{i} + \\left(y -y_{2n} \\right)\\hat{j} + \\left(z - z_{2n} \\right)\\hat{k}\n",
    "%\\label{eq:r2_AB}\n",
    "\\end{equation}"
   ]
  },
  {
   "cell_type": "markdown",
   "metadata": {},
   "source": [
    "Applying these values to the velocity in terms of the distance vectors we get:\n",
    "\\begin{equation}\n",
    "\\overrightarrow{V_{AB}} = \\frac{\\Gamma_n}{4\\pi}\\left[Fac1_{AB} \\right] \\left[Fac2_{AB} \\right]\n",
    "%\\label{eq:AB_portion}\n",
    "\\end{equation}\n",
    "\n",
    "In the above equation the last two factors are just place holders for the last two factors from the equation it falls out of applied to $\\overrightarrow{AB}$. These two factors expand to:\n",
    "\n",
    "\\begin{equation}\n",
    "\\left[Fac1_{AB} \\right] = \\frac{\\vec{r_1} \\times \\vec{r_2}}{\\left|\\vec{r_1} \\times \\vec{r_2} \\right|^2} =\\\\ \\frac{\\left[\\left(y - y_{1n}\\right)\\left(z - z_{2n}\\right) - \\left(y -y_{2n}\\right)\\left(z - z_{1n}\\right)\\right]\\hat{i}\n",
    " - \\left[\\left(x - x_{1n}\\right)\\left(z - z_{2n}\\right) - \\left(x -x_{2n}\\right)\\left(z - z_{1n}\\right)\\right]\\hat{j}\n",
    " + \\left[\\left(x - x_{1n}\\right)\\left(y - y_{2n}\\right) - \\left(x -x_{2n}\\right)\\left(y - y_{1n}\\right)\\right]\\hat{k}}\n",
    " {\\left[\\left(y - y_{1n}\\right)\\left(z - z_{2n}\\right) - \\left(y -y_{2n}\\right)\\left(z - z_{1n}\\right)\\right]^2\n",
    " - \\left[\\left(x - x_{1n}\\right)\\left(z - z_{2n}\\right) - \\left(x -x_{2n}\\right)\\left(z - z_{1n}\\right)\\right]^2 +\n",
    " \\left[\\left(x - x_{1n}\\right)\\left(y - y_{2n}\\right) - \\left(x -x_{2n}\\right)\\left(y - y_{1n}\\right)\\right]^2}\n",
    "%\\label{eq:fac1AB}\n",
    "\\end{equation}\n",
    "\n",
    "\\begin{equation}\n",
    "\\left[Fac2_{AB} \\right] = \\left(\\vec{r_0} \\cdot \\frac{\\vec{r_1}}{r_1} - \\vec{r_0} \\cdot \\frac{\\vec{r_2}}{r_2} \\right) = \\frac{\\left[\\left(x_{2n} - x_{1n}\\right)\\left(x -x_{1n}\\right) \n",
    "+ \\left(y_{2n} - y_{1n}\\right)\\left(y - y_{1n}\\right) \n",
    "+ \\left(z_{2n} - z_{1n}\\right)\\left(z - z_{1n}\\right)\\right]}\n",
    "{\\sqrt{\\left(x - x_{1n}\\right)^2 + \\left(y - y_{1n}\\right)^2 + \\left(z - z_{1n}\\right)^2}} \n",
    "- \\frac{\\left[\\left(x_{2n} - x_{1n}\\right)\\left(x -x_{2n}\\right) \n",
    "+ \\left(y_{2n} - y_{1n}\\right)\\left(y - y_{2n}\\right) \n",
    "+ \\left(z_{2n} - z_{1n}\\right)\\left(z - z_{2n}\\right)\\right]}\n",
    "{\\sqrt{\\left(x - x_{2n}\\right)^2 + \\left(y - y_{2n}\\right)^2 + \\left(z - z_{2n}\\right)^2}}\n",
    "%\\label(eq:fac2AB}\n",
    "\\end{equation}"
   ]
  },
  {
   "cell_type": "markdown",
   "metadata": {},
   "source": [
    "Now we follow the same process for vortex segment $\\overrightarrow{AD}$:\n",
    "\n",
    "\\begin{equation}\n",
    "\\vec{r_0} = \\overrightarrow{DA} = \\left(x_{1n} - x_{3n} \\right)\\hat{i} + \n",
    "%\\label{eq:r0_DA}\n",
    "\\end{equation}\n",
    "\n",
    "\\begin{equation}\n",
    "\\overrightarrow{r_1} = \\left(x - x_{3n} \\right)\\hat{i} + \\left(y - y_{1n} \\right)\\hat{j} + \\left(z - z_{1n} \\right)\\hat{k}\n",
    "%\\label{eq:r1_DA}\n",
    "\\end{equation}\n",
    "\n",
    "\\begin{equation}\n",
    "\\overrightarrow{r_2} = \\left(x -x_{1n} \\right)\\hat{i} + \\left(y -y_{1n} \\right)\\hat{j} + \\left(z - z_{1n} \\right)\\hat{k}\n",
    "%\\label{eq:r2_DA}\n",
    "\\end{equation}\n",
    "\n",
    "\\begin{equation}\n",
    "\\overrightarrow{V_{AD}} = \\frac{\\Gamma_n}{4\\pi}\\left[Fac1_{AD} \\right] \\left[Fac2_{AD} \\right]\n",
    "%\\label{eq:AB_portion}\n",
    "\\end{equation}"
   ]
  },
  {
   "cell_type": "markdown",
   "metadata": {},
   "source": [
    "\\begin{equation}\n",
    "\\left[ Fac1_{AD}\\right] = \\frac{\\left(z -z_{1n}\\right)\\hat{j} + \\left(y_{1n} - y\\right)\\hat{k}}{\\left[\\left(z - z_{1n}\\right)^2 + \\left(y_{1n} - y\\right)^2\\right] \\left(x_{3n} - x_{1n}\\right)}\n",
    "%\\label{eq:Fac1_AD}\n",
    "\\end{equation}\n",
    "\n",
    "\\begin{equation}\n",
    "\\left[Fac2_{AD}\\right] = \\left(x_{3n} - x_{1n}\\right)\\left[\\frac{x_{3n} - x}{\\sqrt{\\left(x - x_{3n}\\right)^2 + \\left(y -y_{1n}\\right)^2 + \\left(z - z_{1n}\\right)^2}} + \\frac{x - x_{1n}}{\\sqrt{\\left(x - x_{1n}\\right)^2 + \\left(y -y_{1n}\\right)^2 + \\left(z - z_{1n}\\right)^2}}\\right]\n",
    "%\\label{eq:Fac2_AD}\n",
    "\\end{equation}\n",
    "\n",
    "The two equations directly above are both formulated for a discrete location of $D$, but in VLMs we want $D$ to go to $\\infty$. So, we allow $D$ to go to $\\infty$ by setting $x_3 = \\infty$. This yields the final equation for the induced velocity from this vortex segment of:\n",
    "\n",
    "\\begin{equation}\n",
    "\\overrightarrow{V_{A\\infty}} = \\frac{\\Gamma_n}{4\\pi}\\left[\\frac{\\left(z -z_{1n}\\right)\\hat{j} + \\left(y_{1n} - y\\right)\\hat{k}}{\\left(z - z_{1n}\\right)^2 + \\left(y_{1n} - y\\right)^2}\\right]\\left[1.0 + \\frac{x - x_{1n}}{\\sqrt{\\left(x - x_{1n}\\right)^2 + \\left(y -y_{1n}\\right)^2 + \\left(z - z_{1n}\\right)^2}}\\right]\n",
    "%\\label{eq:Ainfty_portion}\n",
    "\\end{equation}\n",
    "\n",
    "Following the same process, we can find the induced velocity over the other infinite leg of the horshoe vortex.\n",
    "\n",
    "\\begin{equation}\n",
    "\\overrightarrow{V_{B\\infty}} = \\frac{-\\Gamma_n}{4\\pi}\\left[\\frac{\\left(z -z_{2n}\\right)\\hat{j} + \\left(y_{2n} - y\\right)\\hat{k}}{\\left(z - z_{2n}\\right)^2 + \\left(y_{2n} - y\\right)^2}\\right]\\left[1.0 + \\frac{x - x_{2n}}{\\sqrt{\\left(x - x_{2n}\\right)^2 + \\left(y -y_{2n}\\right)^2 + \\left(z - z_{2n}\\right)^2}}\\right]\n",
    "%\\label{eq:Binfty_portion}\n",
    "\\end{equation}"
   ]
  },
  {
   "cell_type": "markdown",
   "metadata": {},
   "source": [
    "Some quick housekeeping of variables, $\\left(x_m,y_m,z_m\\right)$ will designate the coordinates of the mth-panel's control point and the induced velocity at the mth-panel's control point by panel n is $\\overrightarrow{V_{m,n}}$ \n",
    "\n",
    "Now we can find the induced velocity at any control point from any panel by summing the 3 individual vortex parts and solving the linear equation below for the total induced velocity. \n",
    "\n",
    "\\begin{equation}\n",
    "\\overrightarrow{V_{m,n}} = \\overrightarrow{C_{m,n}}\\Gamma_n\n",
    "%\\label{eq:lin_syst}\n",
    "\\end{equation}\n",
    "\n",
    "The benefit of this equation being linear is to find the total induced velocity at control point m simply requires us to sum the individual component from each panel. This reduces the last equation to:\n",
    "\n",
    "$$\\overrightarrow{V} = \\sum_{n=1}^{2N} \\overrightarrow{C_{m,n}} \\Gamma_n$$\n",
    "\n",
    "\n",
    "where we sum to $2N$ because we need to account for both the left (port) and right (starboard) wings."
   ]
  },
  {
   "cell_type": "markdown",
   "metadata": {},
   "source": [
    "### Boundary Conditions"
   ]
  },
  {
   "cell_type": "markdown",
   "metadata": {},
   "source": [
    "That takes care of the induced velocity calculations, but did you notice that we have a problem? We don't have the strengths of the vortices! However, we can find the strengths by using the same boundary condition we did in our basic panel method. We set the flow to be tangent to the wing at every control point. For an arbitraritly shaped wing this boundary condition is satisfied by the equation:\n",
    "\n",
    "\\begin{equation}\n",
    "\\begin{split}\n",
    "-u_m \\sin \\delta \\cos & \\phi - v_m \\cos \\delta sin \\phi + w_m \\cos \\phi \\cos \\delta\\\\  & + U_{\\infty}\\sin \\left(\\alpha - \\delta\\right) \\cos \\phi = 0\n",
    "\\end{split}\n",
    "%\\label{eq:gen_BCs}\n",
    "\\end{equation}\n",
    "\n",
    "Where $\\phi$ is the dihedral angle, $\\delta$ is the mean camber at the control\n",
    "point, and $\\alpha$ is the angle of attack of the airfoil. We can also calculate $\\delta$:\n",
    "\n",
    "\\begin{equation}\n",
    "\\delta = \\tan^{-1} \\left(\\frac{dz}{dx}\\right)_m\n",
    "%\\label{eq:delta}\n",
    "\\end{equation}\n",
    "\n",
    "If we assume that the mean camber line is small and the angle of attack is small the boundary condition equation simplifies to:\n",
    "\n",
    "\\begin{equation}\n",
    "w_m - v_m \\tan \\phi + U_{\\infty}\\left[\\alpha - \\left(\\frac{dz}{dx}\\right)_m\\right] = 0\n",
    "%\\label{eq:simp_BCs}\n",
    "\\end{equation}"
   ]
  },
  {
   "cell_type": "markdown",
   "metadata": {},
   "source": [
    "## Basic Validation Example"
   ]
  },
  {
   "cell_type": "markdown",
   "metadata": {},
   "source": [
    "Our validation example will be a simple 4 panel planar wing as found in Bertin and Smith's textbook. Following this example, will allow for a basic code to be create and checked before moving on to more complex examples which will be checked with experimental data. The main simplifying assumptions for the planar wing is that $z_{1n} = z_{2n} = 0$ and $z_m = 0$ for the control points.\n",
    "\n",
    "The wing will have an aspect ratio of 5, no taper, uncambered, and constant sweep of $45^{\\circ}$. The chord is $0.2b$ and spans $0.5b$. An image of the wing in this problem is below.\n",
    "\n",
    "<img src='./VLM_resources/validation_image.png'height '12'width '12'>"
   ]
  },
  {
   "cell_type": "markdown",
   "metadata": {},
   "source": [
    "###### Image Credit: Bertin and Smith, Aerodynamics for Engineers, page 301."
   ]
  },
  {
   "cell_type": "markdown",
   "metadata": {},
   "source": [
    "Because we have a planar wing our main equations simplfy somewhat:\n",
    "\n",
    "\\begin{equation}\n",
    "\\overrightarrow{V_{AB}} = \\frac{\\Gamma_n}{4\\pi} \\frac{\\hat{k}}{\\left(x_m - x_{1n}\\right)\\left(y_m - y_{2n}\\right) - \\left(x_m - x_{2n}\\right) \\left(y_m - y_{1n}\\right)} \\left[ \\frac{\\left(x_{2n} - x_{1n}\\right) \\left(x_m - x_{1n}\\right) + \\left( y_{2n} - y_{1n}\\right)\\left(y_m - y_{1n}\\right)}{\\sqrt{\\left(x_m - x_{1n}\\right)^2 + \\left(y_m - y_{1n}\\right)^2}} - \\frac{\\left(x_{2n} - x_{1n}\\right) \\left(x_m - x_{2n}\\right) + \\left( y_{2n} - y_{1n}\\right)\\left(y_m - y_{2n}\\right)}{\\sqrt{\\left(x_m - x_{2n}\\right)^2 + \\left(y_m - y_{2n}\\right)^2}}\\right]\n",
    "%\\label{eq:Planar_AB}\n",
    "\\end{equation}\n",
    " \n",
    "\\begin{equation}\n",
    "\\overrightarrow{V_{A\\infty}} = \\frac{\\Gamma_n}{4\\pi} \\frac{\\hat{k}}{y_{1n} - y_m} \\left[1.0 + \\frac{x_m - x_{1n}}{\\sqrt{\\left(x_m - x_{1n}\\right)^2 + \\left(y_m - y_{1n}\\right)^2}} \\right]\n",
    "%\\label{eq:Planar_Ainfty}\n",
    "\\end{equation}\n",
    "\n",
    "\\begin{equation}\n",
    "\\overrightarrow{V_{B\\infty}} = \\frac{\\Gamma_n}{4\\pi} \\frac{\\hat{k}}{y_{2n} - y_m} \\left[1.0 + \\frac{x_m - x_{2n}}{\\sqrt{\\left(x_m - x_{2n}\\right)^2 + \\left(y_m - y_{2n}\\right)^2}} \\right]\n",
    "%\\label{eq:Planar_Binfty}\n",
    "\\end{equation}"
   ]
  },
  {
   "cell_type": "markdown",
   "metadata": {},
   "source": [
    "Since all the induced velocities in the previous 3 equations are in the z-direction we can convert this to one equation. Also, because the induced velocity is in the z-direction we will call it the downwash, $w$.\n",
    "\n",
    "\\begin{equation}\n",
    "w_{m,n} = \\frac{\\Gamma_n}{4\\pi} \\left[\\frac{\\hat{1}}{\\left(x_m - x_{1n}\\right)\\left(y_m - y_{2n}\\right) - \\left(x_m - x_{2n}\\right) \\left(y_m - y_{1n}\\right)} \\left[ \\frac{\\left(x_{2n} - x_{1n}\\right) \\left(x_m - x_{1n}\\right) + \\left( y_{2n} - y_{1n}\\right)\\left(y_m - y_{1n}\\right)}{\\sqrt{\\left(x_m - x_{1n}\\right)^2 + \\left(y_m - y_{1n}\\right)^2}} - \\frac{\\left(x_{2n} - x_{1n}\\right) \\left(x_m - x_{2n}\\right) + \\left( y_{2n} - y_{1n}\\right)\\left(y_m - y_{2n}\\right)}{\\sqrt{\\left(x_m - x_{2n}\\right)^2 + \\left(y_m - y_{2n}\\right)^2}}\\right] + \\frac{\\hat{k}}{y_{1n} - y_m} \\left[1.0 + \\frac{x_m - x_{1n}}{\\sqrt{\\left(x_m - x_{1n}\\right)^2 + \\left(y_m - y_{1n}\\right)^2}} \\right] - \\frac{\\hat{k}}{y_{2n} - y_m} \\left[1.0 + \\frac{x_m - x_{2n}}{\\sqrt{\\left(x_m - x_{2n}\\right)^2 + \\left(y_m - y_{2n}\\right)^2}} \\right]\\right]\n",
    "%\\label{eq:downwash}\n",
    "\\end{equation}\n",
    "\n",
    "Now we just need to sum the last equation for all the panels to get the total effect. "
   ]
  },
  {
   "cell_type": "markdown",
   "metadata": {},
   "source": [
    "The Planar wing also has a minor effect on Boundary Conditions.\n",
    "\n",
    "\\begin{equation}\n",
    "w_m = -U_{\\infty} \\alpha\n",
    "%\\label{eq:downwash_BC}\n",
    "\\end{equation}\n",
    "\n",
    "Finally, let's get coding..."
   ]
  },
  {
   "cell_type": "code",
   "execution_count": 2,
   "metadata": {
    "collapsed": false
   },
   "outputs": [],
   "source": [
    "import numpy as np\n",
    "import math\n",
    "import scipy as sp\n",
    "from matplotlib import pyplot as plt"
   ]
  },
  {
   "cell_type": "code",
   "execution_count": 3,
   "metadata": {
    "collapsed": false
   },
   "outputs": [
    {
     "data": {
      "image/png": "[encoded data removed]",
      "text/plain": [
       "<matplotlib.figure.Figure at 0x7fc6d9da6510>"
      ]
     },
     "metadata": {},
     "output_type": "display_data"
    }
   ],
   "source": [
    "chord = 1.0               #meters\n",
    "b = 5.0                   #Span\n",
    "AR = b/chord\n",
    "val_x, val_y = 0.1, 0.2\n",
    "\n",
    "#Starboard Wing\n",
    "with open ('./VLM_resources/VLM_Example_Airfoil.txt') as file_name:\n",
    "    num_star, x_star, y_star = np.loadtxt(file_name, dtype=float,\\\n",
    "        delimiter='\\t', unpack=True)\n",
    "\n",
    "x_min_star, x_max_star = np.min(np.abs(x_star)), np.max(np.abs(x_star))\n",
    "y_min_star, y_max_star = np.min(np.abs(y_star)), np.max(np.abs(y_star))\n",
    "x_start_star, x_end_star = x_min_star-val_x*(x_max_star-x_min_star),\\\n",
    "    x_max_star+val_x*(x_max_star-x_min_star)\n",
    "y_start_star, y_end_star = y_min_star-val_y*(y_max_star-y_min_star),\\\n",
    "    y_max_star+val_y*(y_max_star-y_min_star)\n",
    "\n",
    "#Port Wing\n",
    "with open ('./VLM_resources/VLM_Example_Airfoil.txt') as file_name:\n",
    "    num_port, x_port, y_port = np.loadtxt(file_name, dtype=float,\\\n",
    "        delimiter='\\t', unpack=True)\n",
    "\n",
    "x_port = np.dot(x_port,-1)\n",
    "x_min_port, x_max_port = np.min(np.abs(x_port)), np.max(np.abs(x_port))\n",
    "y_min_port, y_max_port = np.min(np.abs(y_port)), np.max(np.abs(y_port))\n",
    "x_start_port, x_end_port = x_min_port-val_x*(x_max_port-x_min_port),\\\n",
    "    x_max_port+val_x*(x_max_port-x_min_port)\n",
    "y_start_port, y_end_port = y_min_port-val_y*(y_max_port-y_min_port),\\\n",
    "    y_max_port+val_y*(y_max_port-y_min_port)\n",
    "\n",
    "%matplotlib inline\n",
    "size = 6\n",
    "plt.figure(figsize=(size,size))\n",
    "plt.grid(True)\n",
    "plt.xlabel('x')\n",
    "plt.ylabel('y')\n",
    "plt.xlim(-(x_max_port+1.0), x_max_star+1.0)\n",
    "plt.ylim(-(y_max_star+1.0), 1.0)\n",
    "plt.title('Example Airfoil Points')\n",
    "plt.plot(x_star, y_star, color='k', linestyle='-',linewidth=2)\n",
    "plt.plot(x_port, y_port, color='b', linestyle='-', linewidth=2);"
   ]
  },
  {
   "cell_type": "markdown",
   "metadata": {},
   "source": [
    "Now that we have imported the entire wing we need to divide the Wing up into panels. To simplfy the code we will be calculating the circulation for each panel on the starboard wing due to the panels on both the starboard and port wings. instead of repeating this process on the port side we simply make the assumption that it produces equal amounts of lift as the starboard wing."
   ]
  },
  {
   "cell_type": "code",
   "execution_count": 5,
   "metadata": {
    "collapsed": false
   },
   "outputs": [],
   "source": [
    "class Panel:\n",
    "    \"\"\"Contains information related to a panel\"\"\"\n",
    "    def __init__(self, xa, ya, xb, yb, xc, yc, xd, yd, chord, i, N_panels):\n",
    "        \"\"\"Initializes the panel\n",
    "        \n",
    "        Params:\n",
    "        --------\n",
    "        xa, ya  float, coordinates of the left LE point of a panel\n",
    "        xb, yb  float, coordinates of the right LE point of a panel\n",
    "        xc, yc  float, coordinates of the right TE point of a panel\n",
    "        xd, yd  float, coordinates of the left TE point of a panel\n",
    "        \"\"\"\n",
    "        \n",
    "        #panel corners\n",
    "        self.xa, self.ya = xa, ya\n",
    "        self.xb, self.yb = xb, yb\n",
    "        self.xc, self.yc = xc, yc\n",
    "        self.xd, self.yd = xd, yd\n",
    "        self.chord = chord\n",
    "        \n",
    "        #placing control point at 3/4 chord\n",
    "        self.x_control = (self.xa+self.xb)/2\n",
    "        #self.y_control = ya - (chord*(3.0/4.0))\n",
    "        self.y_control = ya - ((math.fabs(self.yb-self.ya)/2.0)+(3.0/4.0)\\\n",
    "            *self.chord)\n",
    "        \n",
    "        #Left Front of Horseshoe points   \n",
    "        #front of horseshoe x coord\n",
    "        self.x1n = xa\n",
    "        #front of horseshoe y coord\n",
    "        self.y1n = ya - (chord*(1.0/4.0))\n",
    "        \n",
    "        #Right Front of Horshoe points\n",
    "        self.x2n = xb\n",
    "        self.y2n = yb - (chord*(1.0/4.0))\n",
    "        \n",
    "        #arrays of panel corners\n",
    "        self.x_square = [self.xa, self.xb, self.xc, self.xd]\n",
    "        self.y_square = [self.ya, self.yb, self.yc, self.yd]\n",
    "        \n",
    "        self.Gamma = 0.0 #circulation"
   ]
  },
  {
   "cell_type": "code",
   "execution_count": 6,
   "metadata": {
    "collapsed": false
   },
   "outputs": [
    {
     "data": {
      "image/png": "[encoded data removed]",
      "text/plain": [
       "<matplotlib.figure.Figure at 0x7fc6da8e6b10>"
      ]
     },
     "metadata": {},
     "output_type": "display_data"
    }
   ],
   "source": [
    "N_panels = 8  #Total Number of Panels\n",
    "#starboard Wing\n",
    "x_ends1_star = np.linspace(0, x_max_star, (N_panels/2) + 1)\n",
    "y_ends1_star = np.linspace(0, -(x_max_star-x_min_star), (N_panels/2) + 1)\n",
    "x_ends2_star = x_ends1_star.copy()\n",
    "y_ends2_star = y_ends1_star.copy() - 1\n",
    "\n",
    "panels_star = np.empty(N_panels/2, dtype=object)\n",
    "for i in xrange(N_panels/2):\n",
    "    panels_star[i] = Panel(x_ends1_star[i], y_ends1_star[i], x_ends1_star[i+1],\\\n",
    "        y_ends1_star[i+1], x_ends2_star[i], y_ends2_star[i], x_ends2_star[i+1],\\\n",
    "        y_ends2_star[i+1], chord, i, N_panels/2)\n",
    "\n",
    "#Port Wing\n",
    "x_ends1_port = np.linspace(0, -x_max_port, (N_panels/2) + 1)\n",
    "y_ends1_port = np.linspace(0, -(x_max_port-x_min_port), (N_panels/2) + 1)\n",
    "x_ends2_port = x_ends1_port.copy()\n",
    "y_ends2_port = y_ends1_port.copy() - 1\n",
    "\n",
    "panels_port = np.empty(N_panels/2, dtype=object)\n",
    "for i in xrange(N_panels/2):\n",
    "    panels_port[i] = Panel(x_ends1_port[i], y_ends1_port[i], x_ends1_port[i+1],\\\n",
    "        y_ends1_port[i+1], x_ends2_port[i], y_ends2_port[i], x_ends2_port[i+1],\\\n",
    "        y_ends2_port[i+1], chord, i, N_panels/2)    \n",
    "   \n",
    "%matplotlib inline\n",
    "size = 8\n",
    "plt.figure(figsize=(size,size))\n",
    "plt.grid(True)\n",
    "plt.xlabel('x')\n",
    "plt.ylabel('y')\n",
    "#plt.xlim(x_min-0.5,x_max+0.5)\n",
    "#plt.ylim(y_min-0.5,y_max+0.5)\n",
    "plt.plot(x_star, y_star, color='k', linestyle='-', linewidth=1, label='Wing')\n",
    "plt.plot(x_port, y_port, color='b', linestyle='-', linewidth=1, label=\"\")\n",
    "plt.scatter([p.x_square for p in panels_star],[p.y_square for p in panels_star],\\\n",
    "    color='r', s=120, label=\"End-Points\")\n",
    "plt.scatter([p.x_square for p in panels_port],[p.y_square for p in panels_port],\\\n",
    "    color='r', s=120, label=\"\")\n",
    "plt.scatter([p.x_control for p in panels_star],[p.y_control for p in panels_star],\\\n",
    "    color='k',s=60, label=\"Control-Points\")\n",
    "plt.scatter([p.x_control for p in panels_port],[p.y_control for p in panels_port],\\\n",
    "    color='k',s=60, label=\"\")\n",
    "plt.scatter([p.x1n for p in panels_star],[p.y1n for p in panels_star],\\\n",
    "    color='m', s=60, zorder=3, label=\"Left Horseshoe Points\")\n",
    "plt.scatter([p.x1n for p in panels_port],[p.y1n for p in panels_port],\\\n",
    "    color='m', s=60, zorder=4, label=\"\")\n",
    "plt.scatter([p.x2n for p in panels_star],[p.y2n for p in panels_star],\\\n",
    "    color='c', s=120, zorder=1, label=\"Right Horseshoe Points\")\n",
    "plt.scatter([p.x2n for p in panels_port],[p.y2n for p in panels_port],\\\n",
    "    color='c', s=120, zorder=2, label=\"\")\n",
    "plt.legend(loc='best', prop={'size':16})\n",
    "plt.title('Wing with Panels');"
   ]
  },
  {
   "cell_type": "code",
   "execution_count": 7,
   "metadata": {
    "collapsed": false
   },
   "outputs": [],
   "source": [
    "#Defining arrays of control and horseshoe points\n",
    "y1ns_star = [p.x1n for p in panels_star]\n",
    "x1ns_star = np.abs([p.y1n for p in panels_star])\n",
    "y2ns_star = [p.x2n for p in panels_star]\n",
    "x2ns_star = np.abs([p.y2n for p in panels_star])\n",
    "ym_star = [p.x_control for p in panels_star]\n",
    "xm_star = np.abs([p.y_control for p in panels_star])\n",
    "\n",
    "y1ns_port = [p.x1n for p in panels_port]\n",
    "x1ns_port = np.abs([p.y1n for p in panels_port])\n",
    "y2ns_port = [p.x2n for p in panels_port]\n",
    "x2ns_port = np.abs([p.y2n for p in panels_port])\n",
    "ym_port = [p.x_control for p in panels_port]\n",
    "xm_port = np.abs([p.y_control for p in panels_port])"
   ]
  },
  {
   "cell_type": "code",
   "execution_count": 8,
   "metadata": {
    "collapsed": false
   },
   "outputs": [],
   "source": [
    "def downwash(x1n, x2n, y1n, y2n, xm, ym, b):\n",
    "    \"\"\"Sets the Horseshoe Vortex Parameters\n",
    "\n",
    "    Params:\n",
    "    --------\n",
    "    Gamma     float, circulation strength\n",
    "    N_panels  float, number of panels\n",
    "    x1n, y1n  coordinates of left front of horseshoe\n",
    "    x2n, y2n  coordinates of right front of horseshoe\n",
    "    x_m, y_m  control point coordinates\n",
    "    \"\"\"\n",
    "\n",
    "    #m panel influence calculated on\n",
    "    #n panel influence calculated from\n",
    "\n",
    "    w = (((1.0/(((xm - x1n)*(ym - y2n)) - ((xm - x2n)*(ym - y1n)))) *\\\n",
    "        (((((x2n - x1n)*(xm - x1n)) + ((y2n - y1n)*(ym - y1n)))/\\\n",
    "        (math.sqrt((xm - x1n)**2 + (ym - y1n)**2)))\\\n",
    "        - ((((x2n - x1n)*(xm - x2n) + (y2n - y1n)*(ym - y2n)))/\\\n",
    "        (math.sqrt((xm - x2n)**2 + (ym - y2n)**2)))) +\\\n",
    "        (((1.0)/(y1n - ym))*(1.0 + ((xm - x1n)/(math.sqrt((xm - x1n)**2\\\n",
    "        + (ym - y1n)**2))))) - (((1.0)/(y2n - ym)) *(1.0 + ((xm -x2n)/\\\n",
    "        (math.sqrt((xm - x2n)**2 + (ym - y2n)**2))))))) * b\n",
    "    \n",
    "    return w"
   ]
  },
  {
   "cell_type": "code",
   "execution_count": 9,
   "metadata": {
    "collapsed": false
   },
   "outputs": [],
   "source": [
    "w_star = np.empty((N_panels/2,N_panels/2), dtype=float)\n",
    "w_port = np.empty((N_panels/2,N_panels/2), dtype=float)\n",
    "for m in range(0,N_panels/2):\n",
    "    for n in range(0,N_panels/2):\n",
    "        w_star[m,n] = downwash(x1ns_star[n], x2ns_star[n], y1ns_star[n],\\\n",
    "            y2ns_star[n], xm_star[m], ym_star[m], b)\n",
    "        w_port[m,n] = -downwash(x1ns_port[n], x2ns_port[n], y1ns_port[n],\\\n",
    "            y2ns_port[n], xm_port[m], ym_star[m], b)"
   ]
  },
  {
   "cell_type": "markdown",
   "metadata": {},
   "source": [
    "Now we add the two downwash terms as the circulation for each starboard panel and its mirror will be equal. So in this case, with only 4 panels we have 4 unknown circulations."
   ]
  },
  {
   "cell_type": "code",
   "execution_count": 10,
   "metadata": {
    "collapsed": false
   },
   "outputs": [
    {
     "name": "stdout",
     "output_type": "stream",
     "text": [
      "[[-53.00368589  13.34368912   1.66435054   0.64336392]\n",
      " [ 23.8317548  -70.34449257  11.78361069   1.32593639]\n",
      " [  5.42715647  20.94010013 -71.14109518  11.51112481]\n",
      " [  2.49422268   4.36257137  20.50693616 -71.33508627]]\n"
     ]
    }
   ],
   "source": [
    "w = w_star + w_port\n",
    "print w"
   ]
  },
  {
   "cell_type": "markdown",
   "metadata": {},
   "source": [
    "What makes this problem simpler is that we have a planar wing with no dihedral, so the downwash contributions from each panel must be equal."
   ]
  },
  {
   "cell_type": "code",
   "execution_count": 11,
   "metadata": {
    "collapsed": false
   },
   "outputs": [],
   "source": [
    "#Build RHS matrix\n",
    "M = 0.6 #mach\n",
    "u_infty = 340.29 * M\n",
    "alpha = 5.0*(math.pi/180) #radians\n",
    "RHS = np.zeros(N_panels/2, dtype=float) \n",
    "for i in range(0,N_panels/2):\n",
    "    RHS[i] = -4.0*math.pi*b*u_infty*alpha"
   ]
  },
  {
   "cell_type": "code",
   "execution_count": 13,
   "metadata": {
    "collapsed": false
   },
   "outputs": [],
   "source": [
    "Gamma = np.linalg.solve(w,RHS)\n",
    "rho = .4135     #kg/m3\n",
    "q_infty = 0.5*rho*u_infty**2\n",
    "S = b*chord    #wing area\n",
    "delta_y = y2ns_star[0]\n",
    "L_numerical = 2.0*rho*u_infty*sum(np.dot(Gamma,delta_y))\n",
    "L_book = rho*u_infty**2*b**2*math.pi*alpha*.1096\n",
    "C_L_numerical = L_numerical/(q_infty*S)\n",
    "C_L_book = 1.096*math.pi*alpha"
   ]
  },
  {
   "cell_type": "markdown",
   "metadata": {},
   "source": [
    "Now let's print the values and compare to the book..."
   ]
  },
  {
   "cell_type": "code",
   "execution_count": 14,
   "metadata": {
    "collapsed": false
   },
   "outputs": [
    {
     "name": "stdout",
     "output_type": "stream",
     "text": [
      "Our Calculated Lift is 12952.547129, the books calculated L is 12948.641162\n",
      "Our Calculated C_L is 0.300565, the books calculated C_L is 0.300475\n"
     ]
    }
   ],
   "source": [
    "print \"Our Calculated Lift is %f, the books calculated L is %f\" % (L_numerical, L_book)\n",
    "print \"Our Calculated C_L is %f, the books calculated C_L is %f\" % (C_L_numerical, C_L_book)"
   ]
  },
  {
   "cell_type": "markdown",
   "metadata": {},
   "source": [
    "The values agree! It looks like our code is working now we can have some fun with it. First, let's turn our code into a function so it's easier to work with. Then, we can add some more panels and see what happens."
   ]
  },
  {
   "cell_type": "code",
   "execution_count": 15,
   "metadata": {
    "collapsed": false
   },
   "outputs": [],
   "source": [
    "def VLM(N_Panels, x_star, y_star, x_port, y_port, M, AoA, b, chord):\n",
    "    \"\"\"Uses the Vortex Lattice Method to Calculate the Lift over a flat\n",
    "    constant sweep and zero taper wing\n",
    "    \n",
    "    Params:\n",
    "    -------\n",
    "    N_Panels          float, total number of desired panels\n",
    "    x_star, y_star    1D array of floats, x and y coordinates for starboard \n",
    "                        side of wing\n",
    "    x_port, y_port    1D array of floats, x and y coordinates for port \n",
    "                        side of wing\n",
    "    M                 float, mach number\n",
    "    AoA               float, angle of attack in degrees\n",
    "    b                 float, span of the airfoil\n",
    "    chord             float, chord of the airfoil\n",
    "    \n",
    "    Returns:\n",
    "    -------\n",
    "    L        float, Total lift for the airfoil\n",
    "    C_L      float, Coefficient of Lift for the airfoil\n",
    "    \"\"\"\n",
    "    \n",
    "    #Defining special starboard points\n",
    "    x_min_star = np.min(np.abs(x_star)) \n",
    "    x_max_star = np.max(np.abs(x_star))\n",
    "    y_min_star = np.min(np.abs(y_star))\n",
    "    y_max_star = np.max(np.abs(y_star))\n",
    "    x_start_star = x_min_star-val_x*(x_max_star-x_min_star)\n",
    "    x_end_star = x_max_star+val_x*(x_max_star-x_min_star)\n",
    "    y_start_star = y_min_star-val_y*(y_max_star-y_min_star)\n",
    "    y_end_star = y_max_star+val_y*(y_max_star-y_min_star)\n",
    "\n",
    "    #Defining Special Port Points\n",
    "    x_min_port = np.min(np.abs(x_port))\n",
    "    x_max_port = np.max(np.abs(x_port))\n",
    "    y_min_port = np.min(np.abs(y_port))\n",
    "    y_max_port = np.max(np.abs(y_port))\n",
    "    x_start_port = x_min_port-val_x*(x_max_port-x_min_port)\n",
    "    x_end_port = x_max_port+val_x*(x_max_port-x_min_port)\n",
    "    y_start_port = y_min_port-val_y*(y_max_port-y_min_port)\n",
    "    y_end_port = y_max_port+val_y*(y_max_port-y_min_port)\n",
    "    \n",
    "    #Starboard Wing Point Definitions\n",
    "    x_ends1_star = np.linspace(0, x_max_star, (N_panels/2) + 1)\n",
    "    y_ends1_star = np.linspace(0, -(x_max_star-x_min_star), (N_panels/2) + 1)\n",
    "    x_ends2_star = x_ends1_star.copy()\n",
    "    y_ends2_star = y_ends1_star.copy() - 1\n",
    "\n",
    "    #Defining Starboard Panels\n",
    "    panels_star = np.empty(N_panels/2, dtype=object)\n",
    "    for i in xrange(N_panels/2):\n",
    "        panels_star[i] = Panel(x_ends1_star[i], y_ends1_star[i],\\\n",
    "            x_ends1_star[i+1], y_ends1_star[i+1], x_ends2_star[i],\\\n",
    "            y_ends2_star[i], x_ends2_star[i+1], y_ends2_star[i+1],\\\n",
    "            chord, i, N_panels/2)\n",
    "\n",
    "    #Port Wing Point Definitions\n",
    "    x_ends1_port = np.linspace(0, -x_max_port, (N_panels/2) + 1)\n",
    "    y_ends1_port = np.linspace(0, -(x_max_port-x_min_port), (N_panels/2) + 1)\n",
    "    x_ends2_port = x_ends1_port.copy()\n",
    "    y_ends2_port = y_ends1_port.copy() - 1\n",
    "\n",
    "    #Defining Port Panels\n",
    "    panels_port = np.empty(N_panels/2, dtype=object)\n",
    "    for i in xrange(N_panels/2):\n",
    "        panels_port[i] = Panel(x_ends1_port[i], y_ends1_port[i],\\\n",
    "            x_ends1_port[i+1], y_ends1_port[i+1],x_ends2_port[i],\\\n",
    "            y_ends2_port[i], x_ends2_port[i+1], y_ends2_port[i+1],\\\n",
    "            chord, i, N_panels/2) \n",
    "    \n",
    "    #Grabbing Horseshoe and Control Points\n",
    "    y1ns_star = [p.x1n for p in panels_star]\n",
    "    x1ns_star = np.abs([p.y1n for p in panels_star])\n",
    "    y2ns_star = [p.x2n for p in panels_star]\n",
    "    x2ns_star = np.abs([p.y2n for p in panels_star])\n",
    "    ym_star = [p.x_control for p in panels_star]\n",
    "    xm_star = np.abs([p.y_control for p in panels_star])\n",
    "\n",
    "    y1ns_port = [p.x1n for p in panels_port]\n",
    "    x1ns_port = np.abs([p.y1n for p in panels_port])\n",
    "    y2ns_port = [p.x2n for p in panels_port]\n",
    "    x2ns_port = np.abs([p.y2n for p in panels_port])\n",
    "    ym_port = [p.x_control for p in panels_port]\n",
    "    xm_port = np.abs([p.y_control for p in panels_port])\n",
    "\n",
    "    #Solving for Downwash\n",
    "    w_star = np.empty((N_panels/2,N_panels/2), dtype=float)\n",
    "    w_port = np.empty((N_panels/2,N_panels/2), dtype=float)\n",
    "    for m in range(0,N_panels/2):\n",
    "        for n in range(0,N_panels/2):\n",
    "            w_star[m,n] = downwash(x1ns_star[n], x2ns_star[n], y1ns_star[n],\\\n",
    "                y2ns_star[n], xm_star[m], ym_star[m], b)\n",
    "            w_port[m,n] = -downwash(x1ns_port[n], x2ns_port[n], y1ns_port[n],\\\n",
    "                y2ns_port[n], xm_port[m], ym_star[m], b)\n",
    "        \n",
    "    w = w_star + w_port\n",
    "\n",
    "    #Build RHS matrix\n",
    "    u_infty = 340.29 * M\n",
    "    alpha = AoA*(math.pi/180) #radians\n",
    "    RHS = np.zeros(N_panels/2, dtype=float) \n",
    "    for i in range(0,N_panels/2):\n",
    "        RHS[i] = -4.0*math.pi*b*u_infty*alpha\n",
    "    \n",
    "    Gamma = np.linalg.solve(w,RHS)\n",
    "    rho = .4135     #kg/m3 at 33,000 ft\n",
    "    q_infty = 0.5*rho*u_infty**2\n",
    "    S = b*chord    #wing area\n",
    "    delta_y = y2ns_star[0]\n",
    "    L = 2.0*rho*u_infty*sum(np.dot(Gamma,delta_y))\n",
    "    C_L = L/(q_infty*S)\n",
    "    \n",
    "    return L, C_L"
   ]
  },
  {
   "cell_type": "code",
   "execution_count": 16,
   "metadata": {
    "collapsed": false
   },
   "outputs": [],
   "source": [
    "L8, C_L8 = VLM(8, x_star, y_star, x_port, y_port, 0.6, 5, b, chord)\n",
    "L16, C_L16 = VLM(16, x_star, y_star, x_port, y_port, 0.6, 5, b, chord)\n",
    "L32, C_L32 = VLM(32, x_star, y_star, x_port, y_port, 0.6, 5, b, chord)"
   ]
  },
  {
   "cell_type": "code",
   "execution_count": 17,
   "metadata": {
    "collapsed": false
   },
   "outputs": [
    {
     "name": "stdout",
     "output_type": "stream",
     "text": [
      "With 8 panels we calculate L  as 12952.547129 and C_L as 0.300565\n",
      "With 16 panels we calculate L  as 12952.547129 and C_L as 0.300565\n",
      "With 32 panels we calculate L  as 12952.547129 and C_L as 0.300565\n"
     ]
    }
   ],
   "source": [
    "print 'With 8 panels we calculate L  as %f and C_L as %f' % (L8, C_L8)\n",
    "print 'With 16 panels we calculate L  as %f and C_L as %f' % (L16, C_L16)\n",
    "print 'With 32 panels we calculate L  as %f and C_L as %f' % (L32, C_L32)"
   ]
  },
  {
   "cell_type": "markdown",
   "metadata": {},
   "source": [
    "It looks like for our relatively simple and small airfoil we don't need a particularly large number of panels to converge to a stable solution. Next, we can do an angle of attack study to see how our method handles varying angles of attack compared to other methods including an experimental study done by Weber and Brebner."
   ]
  },
  {
   "cell_type": "code",
   "execution_count": 18,
   "metadata": {
    "collapsed": false
   },
   "outputs": [],
   "source": [
    "AoA = np.linspace(0,12,13)\n",
    "L = np.empty(len(AoA), dtype=float)\n",
    "C_L = np.empty(len(AoA), dtype=float)\n",
    "for i in range(0,len(AoA)):\n",
    "    L[i], C_L[i] = VLM(16, x_star, y_star, x_port, y_port, 0.6, AoA[i], b, chord)\n",
    "    \n",
    "#Textbook Relation\n",
    "C_L_Book = np.empty(len(AoA), dtype=float)\n",
    "for i in range(0,len(AoA)):\n",
    "    C_L_Book[i] = 0.0601 * AoA[i]\n",
    "    \n",
    "#Experimental Data\n",
    "AoA_exp = [2.1, 4.2, 6.3, 8.4, 10.5]\n",
    "C_L_exp = [0.121, 0.238, 0.350, 0.456, 0.559]"
   ]
  },
  {
   "cell_type": "code",
   "execution_count": 19,
   "metadata": {
    "collapsed": false
   },
   "outputs": [
    {
     "data": {
      "image/png": "[encoded data removed]",
      "text/plain": [
       "<matplotlib.figure.Figure at 0x7fc6d9f143d0>"
      ]
     },
     "metadata": {},
     "output_type": "display_data"
    }
   ],
   "source": [
    "%matplotlib inline\n",
    "size = 8\n",
    "plt.figure(figsize=(size,size))\n",
    "plt.title('Angle of Attack Study', fontsize=20)\n",
    "plt.xlabel('Angle of Attack', fontsize='12')\n",
    "plt.ylabel('C_L', fontsize='12')\n",
    "plt.xlim(0, AoA[-1] + 1)\n",
    "plt.ylim(0.0, 0.8)\n",
    "plt.scatter(AoA_exp, C_L_exp, color='g', s=120, label='Experimental Values',\\\n",
    "    zorder=3)\n",
    "plt.scatter(AoA, C_L_Book, color='m', s=120, label='Book Values for 4 panels',\\\n",
    "    zorder=2)\n",
    "plt.plot(AoA, C_L, color='b', linestyle='-', linewidth=3,\\\n",
    "    label='VLM 16 Panels', zorder=1)\n",
    "plt.legend(loc='best', prop={'size':16});"
   ]
  },
  {
   "cell_type": "markdown",
   "metadata": {},
   "source": [
    "As you can see, overall the VLM method agrees very well with experimental data especially when considering the VLM solution is invisicid!!"
   ]
  },
  {
   "cell_type": "markdown",
   "metadata": {},
   "source": [
    "## Future Options"
   ]
  },
  {
   "cell_type": "markdown",
   "metadata": {},
   "source": [
    "That's it for this notebook, but there is much more that you can do with VLM codes. Try to Plot the spanwise distribution of Lift. You could edit my Panel class so that it includes more than one panel in the chordwise direction, or add a boundary layer solution and see if the experimental and numerical data collapse. If you really like VLMs you could take this could and make it 3D."
   ]
  },
  {
   "cell_type": "markdown",
   "metadata": {},
   "source": [
    "### References:"
   ]
  },
  {
   "cell_type": "markdown",
   "metadata": {},
   "source": [
    "Anderson, John D. Fundamentals of Aerodynamics. Boston: McGraw-Hill, 2001. Print.\n",
    "   \n",
    "Bertin, John J., and Michael L. Smith. Aerodynamics for Engineers. Englewood Cliffs, NJ: Prentice-Hall, 1979. Print.\n",
    "\n",
    "Weber, J., and G. G. Brebner, \"Low-Speed Tests on 45-deg Swept-Back Wings, Part I: Pressur Measurements on Wings of Aspect Ratio 5,\" Reports and Memoranda 2882, Aeronautical Research Council, 1958.\n",
    "\n",
    "Special thanks to Bertin and Smith for their example problem on VLMs in their textbook as their mathematical derivation is extensively used."
   ]
  },
  {
   "cell_type": "markdown",
   "metadata": {},
   "source": [
    "###### Notebook Style (ignore below)"
   ]
  },
  {
   "cell_type": "code",
   "execution_count": 1,
   "metadata": {
    "collapsed": false
   },
   "outputs": [
    {
     "data": {
      "text/html": [
       "<link href='http://fonts.googleapis.com/css?family=Alegreya+Sans:100,300,400,500,700,800,900,100italic,300italic,400italic,500italic,700italic,800italic,900italic' rel='stylesheet' type='text/css'>\n",
       "<link href='http://fonts.googleapis.com/css?family=Arvo:400,700,400italic' rel='stylesheet' type='text/css'>\n",
       "<link href='http://fonts.googleapis.com/css?family=PT+Mono' rel='stylesheet' type='text/css'>\n",
       "<link href='http://fonts.googleapis.com/css?family=Shadows+Into+Light' rel='stylesheet' type='text/css'>\n",
       "<link href='http://fonts.googleapis.com/css?family=Nixie+One' rel='stylesheet' type='text/css'>\n",
       "<style>\n",
       "\n",
       "@font-face {\n",
       "    font-family: \"Computer Modern\";\n",
       "    src: url('http://mirrors.ctan.org/fonts/cm-unicode/fonts/otf/cmunss.otf');\n",
       "}\n",
       "\n",
       "#notebook_panel { /* main background */\n",
       "    background: rgb(245,245,245);\n",
       "}\n",
       "\n",
       "div.cell { /* set cell width */\n",
       "    width: 750px;\n",
       "}\n",
       "\n",
       "div #notebook { /* centre the content */\n",
       "    background: #fff; /* white background for content */\n",
       "    width: 1000px;\n",
       "    margin: auto;\n",
       "    padding-left: 0em;\n",
       "}\n",
       "\n",
       "#notebook li { /* More space between bullet points */\n",
       "margin-top:0.8em;\n",
       "}\n",
       "\n",
       "/* draw border around running cells */\n",
       "div.cell.border-box-sizing.code_cell.running { \n",
       "    border: 1px solid #111;\n",
       "}\n",
       "\n",
       "/* Put a solid color box around each cell and its output, visually linking them*/\n",
       "div.cell.code_cell {\n",
       "    background-color: rgb(256,256,256); \n",
       "    border-radius: 0px; \n",
       "    padding: 0.5em;\n",
       "    margin-left:1em;\n",
       "    margin-top: 1em;\n",
       "}\n",
       "\n",
       "div.text_cell_render{\n",
       "    font-family: 'Alegreya Sans' sans-serif;\n",
       "    line-height: 140%;\n",
       "    font-size: 125%;\n",
       "    font-weight: 400;\n",
       "    width:600px;\n",
       "    margin-left:auto;\n",
       "    margin-right:auto;\n",
       "}\n",
       "\n",
       "\n",
       "/* Formatting for header cells */\n",
       ".text_cell_render h1 {\n",
       "    font-family: 'Nixie One', serif;\n",
       "    font-style:regular;\n",
       "    font-weight: 400;    \n",
       "    font-size: 45pt;\n",
       "    line-height: 100%;\n",
       "    color: rgb(0,51,102);\n",
       "    margin-bottom: 0.5em;\n",
       "    margin-top: 0.5em;\n",
       "    display: block;\n",
       "}\t\n",
       ".text_cell_render h2 {\n",
       "    font-family: 'Nixie One', serif;\n",
       "    font-weight: 400;\n",
       "    font-size: 30pt;\n",
       "    line-height: 100%;\n",
       "    color: rgb(0,51,102);\n",
       "    margin-bottom: 0.1em;\n",
       "    margin-top: 0.3em;\n",
       "    display: block;\n",
       "}\t\n",
       "\n",
       ".text_cell_render h3 {\n",
       "    font-family: 'Nixie One', serif;\n",
       "    margin-top:16px;\n",
       "\tfont-size: 22pt;\n",
       "    font-weight: 600;\n",
       "    margin-bottom: 3px;\n",
       "    font-style: regular;\n",
       "    color: rgb(102,102,0);\n",
       "}\n",
       "\n",
       ".text_cell_render h4 {    /*Use this for captions*/\n",
       "    font-family: 'Nixie One', serif;\n",
       "    font-size: 14pt;\n",
       "    text-align: center;\n",
       "    margin-top: 0em;\n",
       "    margin-bottom: 2em;\n",
       "    font-style: regular;\n",
       "}\n",
       "\n",
       ".text_cell_render h5 {  /*Use this for small titles*/\n",
       "    font-family: 'Nixie One', sans-serif;\n",
       "    font-weight: 400;\n",
       "    font-size: 16pt;\n",
       "    color: rgb(163,0,0);\n",
       "    font-style: italic;\n",
       "    margin-bottom: .1em;\n",
       "    margin-top: 0.8em;\n",
       "    display: block;\n",
       "}\n",
       "\n",
       ".text_cell_render h6 { /*use this for copyright note*/\n",
       "    font-family: 'PT Mono', sans-serif;\n",
       "    font-weight: 300;\n",
       "    font-size: 9pt;\n",
       "    line-height: 100%;\n",
       "    color: grey;\n",
       "    margin-bottom: 1px;\n",
       "    margin-top: 1px;\n",
       "}\n",
       "\n",
       ".CodeMirror{\n",
       "        font-family: \"PT Mono\";\n",
       "        font-size: 90%;\n",
       "}\n",
       "\n",
       "</style>\n",
       "<script>\n",
       "    MathJax.Hub.Config({\n",
       "                        TeX: {\n",
       "                           extensions: [\"AMSmath.js\"],\n",
       "                           equationNumbers: { autoNumber: \"AMS\", useLabelIds: true}\n",
       "                           },\n",
       "                tex2jax: {\n",
       "                    inlineMath: [ ['$','$'], [\"\\\\(\",\"\\\\)\"] ],\n",
       "                    displayMath: [ ['$$','$$'], [\"\\\\[\",\"\\\\]\"] ]\n",
       "                },\n",
       "                displayAlign: 'center', // Change this to 'center' to center equations.\n",
       "                \"HTML-CSS\": {\n",
       "                    styles: {'.MathJax_Display': {\"margin\": 4}}\n",
       "                }\n",
       "        });\n",
       "</script>\n"
      ],
      "text/plain": [
       "<IPython.core.display.HTML object>"
      ]
     },
     "execution_count": 1,
     "metadata": {},
     "output_type": "execute_result"
    }
   ],
   "source": [
    "from IPython.core.display import HTML\n",
    "def css_styling():\n",
    "    styles = open('./VLM_resources/numericalmoocstyle.css', 'r').read()\n",
    "    return HTML(styles)\n",
    "css_styling()"
   ]
  },
  {
   "cell_type": "code",
   "execution_count": null,
   "metadata": {
    "collapsed": false
   },
   "outputs": [],
   "source": []
  }
 ],
 "metadata": {
  "kernelspec": {
   "display_name": "Python 2",
   "language": "python",
   "name": "python2"
  },
  "language_info": {
   "codemirror_mode": {
    "name": "ipython",
    "version": 2
   },
   "file_extension": ".py",
   "mimetype": "text/x-python",
   "name": "python",
   "nbconvert_exporter": "python",
   "pygments_lexer": "ipython2",
   "version": "2.7.6"
  }
 },
 "nbformat": 4,
 "nbformat_minor": 0
}
