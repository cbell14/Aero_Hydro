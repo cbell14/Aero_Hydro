{
 "metadata": {
  "name": "",
  "signature": "sha256:cbcecbce82b08fa672767f6b62331ef3b9bcdd32f313b312fa9ec15e7cc73775"
 },
 "nbformat": 3,
 "nbformat_minor": 0,
 "worksheets": [
  {
   "cells": [
    {
     "cell_type": "code",
     "collapsed": false,
     "input": [
      "import math\n",
      "import numpy as np\n",
      "from scipy import integrate\n",
      "from matplotlib import pyplot as plt\n",
      "from pylab import rcParams\n",
      "rcParams['font.size']=16\n",
      "rcParams['figure.figsize'] = (12,8)"
     ],
     "language": "python",
     "metadata": {},
     "outputs": [],
     "prompt_number": 22
    },
    {
     "cell_type": "code",
     "collapsed": false,
     "input": [
      "with open ('./resources/naca0012.dat') as file_name:\n",
      "    x, y = np.loadtxt(file_name, dtype=float, delimiter='\\t', unpack=True)\n",
      "\n",
      "val_x, val_y = 0.1, 0.2\n",
      "x_min, x_max = x.min(), x.max()\n",
      "y_min, y_max = y.min(), y.max()\n",
      "x_start, x_end = x_min-val_x*(x_max-x_min), x_max+val_x*(x_max-x_min)\n",
      "y_start, y_end = y_min-val_y*(y_max-y_min), y_max+val_y*(y_max-y_min)\n",
      "\n",
      "size = 10\n",
      "plt.figure(figsize=(size, (y_end-y_start)/(x_end-x_start)*size))\n",
      "plt.grid(True)\n",
      "plt.xlabel('x')\n",
      "plt.ylabel('y')\n",
      "plt.xlim(x_start, x_end)\n",
      "plt.ylim(y_start, y_end)\n",
      "plt.plot(x, y, color='k', linestyle='-',linewidth=2);"
     ],
     "language": "python",
     "metadata": {},
     "outputs": [
      {
       "metadata": {},
       "output_type": "display_data",
       "png": "[encoded data removed]",
       "text": [
        "<matplotlib.figure.Figure at 0x7fbd28005f90>"
       ]
      }
     ],
     "prompt_number": 23
    },
    {
     "cell_type": "code",
     "collapsed": false,
     "input": [
      "class Panel:\n",
      "    \"\"\"Contains information related to a Panel\"\"\"\n",
      "    def __init__(self, xa, ya, xb, yb):\n",
      "        \"\"\"Initializes the panel\n",
      "        \n",
      "        Params:\n",
      "        -------\n",
      "        xa, ya  float, coordinates of the first end point of the panel\n",
      "        xb, yb  float, coordinates of the second end point of the panel\n",
      "        \"\"\"\n",
      "        \n",
      "        self.xa, self.ya = xa, ya\n",
      "        self.xb, self.yb = xb, yb\n",
      "        \n",
      "        self.xc, self.yc = (xa+xb)/2, (ya+yb)/2 #center point\n",
      "        \n",
      "        self.length = math.sqrt((xb-xa)**2 + (yb-ya)**2) #length of panel\n",
      "        \n",
      "        #panel orientation\n",
      "        if xb-xa <= 0.0:\n",
      "            self.beta = math.acos((yb-ya)/self.length)\n",
      "        elif xb-xa> 0.0:\n",
      "            self.beta = math.pi + math.acos(-(yb-ya)/self.length)\n",
      "            \n",
      "        #panel location\n",
      "        if self.beta <= math.pi:\n",
      "            self.loc = 'extrados'\n",
      "        else:\n",
      "            self.loc = 'intrados'\n",
      "        \n",
      "        self.sigma = 0.0   #source strength\n",
      "        self.vt = 0.0      #tangential velocity\n",
      "        self.cp = 0.0      #pressure coefficient"
     ],
     "language": "python",
     "metadata": {},
     "outputs": [],
     "prompt_number": 24
    },
    {
     "cell_type": "code",
     "collapsed": false,
     "input": [
      "def define_panels(x, y, N=40):\n",
      "    \"\"\"Discretizes the geometry into panels using 'cosine' method\n",
      "    \n",
      "    Params:\n",
      "    -------\n",
      "    x, y     1D array of float, cartesian coordinates of the geometry\n",
      "    N        float, number of panels defaults to 40\n",
      "    \"\"\"\n",
      "    \n",
      "    R = (x.max()-x.min())/2  #radius of the circle\n",
      "    x_center = (x.max()+x.min())/2 #x-coord of the center\n",
      "    x_circle = x_center + R*np.cos(np.linspace(0,2*math.pi,N+1))\n",
      "    #x-coords of the circle points\n",
      "    \n",
      "    #projection of circle x-coords onto surface\n",
      "    x_ends = np.copy(x_circle)\n",
      "    y_ends = np.empty_like(x_ends)\n",
      "    \n",
      "    #extending arrays by 1\n",
      "    x, y = np.append(x, x[0]), np.append(y, y[0])\n",
      "    \n",
      "    #interpolating y-coordinates of end points\n",
      "    I = 0\n",
      "    for i in range(N):\n",
      "        while I < len(x) - 1:\n",
      "            if (x[I] <= x_ends[i] <= x[I+1]) or (x[I+1]\\\n",
      "                <= x_ends[i] <= x[I]):\n",
      "                break\n",
      "            else:\n",
      "                I += 1\n",
      "        a = (y[I+1]-y[I])/(x[I+1]-x[I])\n",
      "        b = y[I+1] - a*x[I+1]\n",
      "        y_ends[i] = a*x_ends[i] + b\n",
      "    # first and last points must be the same to meet\n",
      "    y_ends[N] = y_ends[0] \n",
      "    \n",
      "    panels = np.empty(N, dtype=object)\n",
      "    for i in range(N):\n",
      "        panels[i] = Panel(x_ends[i], y_ends[i], x_ends[i+1], y_ends[i+1])\n",
      "        \n",
      "    return panels"
     ],
     "language": "python",
     "metadata": {},
     "outputs": [],
     "prompt_number": 25
    },
    {
     "cell_type": "code",
     "collapsed": false,
     "input": [
      "N = 40  #number of panels\n",
      "panels = define_panels(x, y, N)\n",
      "\n",
      "val_x, val_y = 0.1, 0.2\n",
      "x_min, x_max = min(panel.xa for panel in panels), max(panel.xa for panel\\\n",
      "    in panels)\n",
      "y_min, y_max = min(panel.ya for panel in panels), max(panel.ya for panel\\\n",
      "    in panels)\n",
      "x_start, x_end = x_min-val_x*(x_max-x_min), x_max+val_x*(x_max-x_min)\n",
      "y_start, y_end = y_min-val_y*(y_max-y_min), y_max+val_y*(y_max-y_min)\n",
      "\n",
      "size=10\n",
      "plt.figure(figsize=(size, (y_end-y_start)/(x_end-x_start)*size))\n",
      "plt.grid(True)\n",
      "plt.xlabel('x')\n",
      "plt.ylabel('y')\n",
      "plt.xlim(x_start, x_end)\n",
      "plt.ylim(y_start, y_end)\n",
      "plt.plot(x, y, color='k', linestyle='-', linewidth=3)\n",
      "plt.plot(np.append([panel.xa for panel in panels], panels[0].xa),\\\n",
      "    np.append([panel.ya for panel in panels], panels[0].ya),\\\n",
      "    color='r', linestyle='-', linewidth=1, marker='o', markersize=6);"
     ],
     "language": "python",
     "metadata": {},
     "outputs": [
      {
       "metadata": {},
       "output_type": "display_data",
       "png": "[encoded data removed]",
       "text": [
        "<matplotlib.figure.Figure at 0x7fbd282a0b90>"
       ]
      }
     ],
     "prompt_number": 26
    },
    {
     "cell_type": "code",
     "collapsed": false,
     "input": [
      "class Freestream:\n",
      "    \"\"\"Freestream conditions\"\"\"\n",
      "    def __init__(self, u_inf=1.0, alpha=0.0):\n",
      "        \"\"\"Sets the freestream conditions\n",
      "        \n",
      "        Params:\n",
      "        -------\n",
      "        u_inf    float, far field speed defaults to 1.0\n",
      "        alpha    float, angle of attack in degrees defaults to 0.0\n",
      "        \"\"\"\n",
      "        \n",
      "        self.u_inf = u_inf\n",
      "        self.alpha = alpha = alpha*math.pi/180"
     ],
     "language": "python",
     "metadata": {},
     "outputs": [],
     "prompt_number": 27
    },
    {
     "cell_type": "code",
     "collapsed": false,
     "input": [
      "u_inf, alpha = 1.0, 0.0\n",
      "freestream = Freestream(u_inf, alpha)"
     ],
     "language": "python",
     "metadata": {},
     "outputs": [],
     "prompt_number": 28
    },
    {
     "cell_type": "code",
     "collapsed": false,
     "input": [
      "def integral(x, y, panel, dxdz, dydz):\n",
      "    \"\"\"Evaluates the contribution of a panel at one point\n",
      "    \n",
      "    Parms:\n",
      "    ------\n",
      "    x, y    1D array of float, cartesian coordinates of point\n",
      "    panel   object, panel which contribution is evaluated\n",
      "    dxdz    derivative of x in z-direction\n",
      "    dydz    derivatice of y in z direction\n",
      "    \n",
      "    Returns:\n",
      "    -------\n",
      "    Integral over the panel of the influence at one point\n",
      "    \"\"\"\n",
      "    \n",
      "    def func(s):\n",
      "        return (((x - (panel.xa - math.sin(panel.beta)*s))*dxdz\\\n",
      "            +(y - (panel.ya + math.cos(panel.beta)*s))*dydz)\\\n",
      "            / ((x - (panel.xa - math.sin(panel.beta)*s))**2\\\n",
      "            +(y - (panel.ya + math.cos(panel.beta)*s))**2))\n",
      "    return integrate.quad(lambda s:func(s), 0.0, panel.length)[0]"
     ],
     "language": "python",
     "metadata": {},
     "outputs": [],
     "prompt_number": 29
    },
    {
     "cell_type": "code",
     "collapsed": false,
     "input": [
      "def source_matrix(panels):\n",
      "    \"\"\"Builds the source matrix\n",
      "    \n",
      "    Params:\n",
      "    ------\n",
      "    panels   object, array of panels\n",
      "    \n",
      "    Returns:\n",
      "    ------\n",
      "    A        2D array of float, NxN matrix\n",
      "    \"\"\"\n",
      "    \n",
      "    N=len(panels)\n",
      "    A = np.empty((N, N), dtype=float)\n",
      "    np.fill_diagonal(A, 0.5)\n",
      "    \n",
      "    for i, p_i in enumerate(panels):\n",
      "        for j, p_j in enumerate(panels):\n",
      "            if i != j:\n",
      "                A[i,j] = 0.5/math.pi*integral(p_i.xc, p_i.yc, p_j,\\\n",
      "                    math.cos(p_i.beta), math.sin(p_i.beta))\n",
      "                \n",
      "    return A"
     ],
     "language": "python",
     "metadata": {},
     "outputs": [],
     "prompt_number": 30
    },
    {
     "cell_type": "code",
     "collapsed": false,
     "input": [
      "def vortex_array(panels):\n",
      "    \"\"\"Build the vortex array\n",
      "    \n",
      "    Params:\n",
      "    -------\n",
      "    panels     object, array of panels\n",
      "    \n",
      "    Returns:\n",
      "    -------\n",
      "    a          1D array of float, Nx1 matrix\n",
      "    \"\"\"\n",
      "    \n",
      "    a = np.zeros(len(panels), dtype=float)\n",
      "    \n",
      "    for i, p_i in enumerate(panels):\n",
      "        for j, p_j in enumerate(panels):\n",
      "            if i != j:\n",
      "                a[i] -= 0.5/math.pi*integral(p_i.xc, p_i.yc, p_j,\\\n",
      "                    +math.sin(p_i.beta), -math.cos(p_i.beta))\n",
      "                \n",
      "    return a"
     ],
     "language": "python",
     "metadata": {},
     "outputs": [],
     "prompt_number": 31
    },
    {
     "cell_type": "code",
     "collapsed": false,
     "input": [
      "def kutta_array(panels):\n",
      "    \"\"\"builds the Kutta-condition array\n",
      "    \n",
      "    Params:\n",
      "    -------\n",
      "    panels      object, array of panels\n",
      "    \n",
      "    Returns:\n",
      "    --------\n",
      "    a           1D array of float, Nx1 matrix\n",
      "    \"\"\"\n",
      "    \n",
      "    N = len(panels)\n",
      "    a = np.zeros(N+1, dtype=float)\n",
      "    \n",
      "    a[0] = 0.5/math.pi*integral(panels[N-1].xc, panels[N-1].yc,\\\n",
      "        panels[0], -math.sin(panels[N-1].beta), +math.cos(panels\\\n",
      "        [N-1].beta))\n",
      "    \n",
      "    a[N-1] = 0.5/math.pi*integral(panels[0].xc, panels[0].yc,\\\n",
      "        panel[N-1], -math.sin(panels[0].beta), +math.cos(panels\\\n",
      "        [0].beta))\n",
      "    \n",
      "    for i, panel in enumerate(panels[1:N-1]):\n",
      "        a[i] = 0.5/math.pi*(integral(panels[0].xc, panels[0].yc,\\\n",
      "            panel, -math.sin(panels[0].beta), +math.cos(panels\\\n",
      "            [0].beta))\\\n",
      "            + integral(panels[N-1].xc, panels[N-1].yc, panel,\\\n",
      "            -math.sin(panels[N-1].beta), +math.cos(panels\\\n",
      "            [N-1].beta)))\n",
      "        \n",
      "        a[N] -= 0.5/math.pi*(integral(panels[0].xc, panels[0].yc,\\\n",
      "            panel, +math.cos(panels[0].beta), +math.sin(panels\\\n",
      "            [0].beta))\\\n",
      "            + integral(panels[N-1].xc, panels[N-1].yc, panel,\\\n",
      "            +math.cos(panels[N-1].beta), +math.sin(panels\\\n",
      "            [N-1].beta)))\n",
      "        \n",
      "    return a"
     ],
     "language": "python",
     "metadata": {},
     "outputs": [],
     "prompt_number": 36
    },
    {
     "cell_type": "code",
     "collapsed": false,
     "input": [
      "def build_matrix(panels):\n",
      "    \"\"\"Builds the matrix of the linear system\n",
      "    \n",
      "    Params:\n",
      "    -------\n",
      "    panels     object, array of panels\n",
      "    freestream object, freestream conditions\n",
      "    \n",
      "    Returns:\n",
      "    --------\n",
      "    A          2D array of float, (N+1)x(N+1)\n",
      "    \"\"\"\n",
      "    \n",
      "    N = len(panels)\n",
      "    A = np.empty((N+1, N+1), dtype=float)\n",
      "    \n",
      "    AS = source_matrix(panels)\n",
      "    av = vortex_array(panels)\n",
      "    ak = kutta_array(panels)\n",
      "    \n",
      "    A[0:N,0:N], A[0:N,N], A[N,:] = AS[:,:], av[:], ak[:]\n",
      "    \n",
      "    return A"
     ],
     "language": "python",
     "metadata": {},
     "outputs": [],
     "prompt_number": 37
    },
    {
     "cell_type": "code",
     "collapsed": false,
     "input": [
      "def build_rhs(panels, freestream):\n",
      "    \"\"\"Builds the RHS of the linear system\n",
      "    \n",
      "    Params:\n",
      "    -------\n",
      "    panels     object, array of panels\n",
      "    freestream object, freestream conditions\n",
      "    \n",
      "    Returns:\n",
      "    --------\n",
      "    b          1D array of float, (N+1)x1\n",
      "    \"\"\"\n",
      "    \n",
      "    N = len(panels)\n",
      "    b = np.empty(N+1, dtype=float)\n",
      "    \n",
      "    for i, panel in enumerate(panels):\n",
      "        b[i] = -freestream.u_inf * math.cos(freestream.alpha -\\\n",
      "            panel.beta)\n",
      "        \n",
      "    b[N] = -freestream.u_inf*(math.sin(freestream.alpha-panels\\\n",
      "        [0].beta) + math.sin(freestream.alpha-panels[N-1].beta))\n",
      "    \n",
      "    return b"
     ],
     "language": "python",
     "metadata": {},
     "outputs": [],
     "prompt_number": 38
    },
    {
     "cell_type": "code",
     "collapsed": false,
     "input": [
      "A = build_matrix(panels)\n",
      "b = build_rhs(panels, freestream)\n",
      "\n",
      "variables = np.linalg.solve(A, b)\n",
      "\n",
      "for i, panel in enumerate(panels):\n",
      "    panel.sigma = variables[i]\n",
      "gamma = variables[-1]"
     ],
     "language": "python",
     "metadata": {},
     "outputs": [
      {
       "ename": "UnboundLocalError",
       "evalue": "local variable 'panel' referenced before assignment",
       "output_type": "pyerr",
       "traceback": [
        "\u001b[1;31m---------------------------------------------------------------------------\u001b[0m\n\u001b[1;31mUnboundLocalError\u001b[0m                         Traceback (most recent call last)",
        "\u001b[1;32m<ipython-input-39-fd7f56f0c06c>\u001b[0m in \u001b[0;36m<module>\u001b[1;34m()\u001b[0m\n\u001b[1;32m----> 1\u001b[1;33m \u001b[0mA\u001b[0m \u001b[1;33m=\u001b[0m \u001b[0mbuild_matrix\u001b[0m\u001b[1;33m(\u001b[0m\u001b[0mpanels\u001b[0m\u001b[1;33m)\u001b[0m\u001b[1;33m\u001b[0m\u001b[0m\n\u001b[0m\u001b[0;32m      2\u001b[0m \u001b[0mb\u001b[0m \u001b[1;33m=\u001b[0m \u001b[0mbuild_rhs\u001b[0m\u001b[1;33m(\u001b[0m\u001b[0mpanels\u001b[0m\u001b[1;33m,\u001b[0m \u001b[0mfreestream\u001b[0m\u001b[1;33m)\u001b[0m\u001b[1;33m\u001b[0m\u001b[0m\n\u001b[0;32m      3\u001b[0m \u001b[1;33m\u001b[0m\u001b[0m\n\u001b[0;32m      4\u001b[0m \u001b[0mvariables\u001b[0m \u001b[1;33m=\u001b[0m \u001b[0mnp\u001b[0m\u001b[1;33m.\u001b[0m\u001b[0mlinalg\u001b[0m\u001b[1;33m.\u001b[0m\u001b[0msolve\u001b[0m\u001b[1;33m(\u001b[0m\u001b[0mA\u001b[0m\u001b[1;33m,\u001b[0m \u001b[0mb\u001b[0m\u001b[1;33m)\u001b[0m\u001b[1;33m\u001b[0m\u001b[0m\n\u001b[0;32m      5\u001b[0m \u001b[1;33m\u001b[0m\u001b[0m\n",
        "\u001b[1;32m<ipython-input-37-d5b14dfc5205>\u001b[0m in \u001b[0;36mbuild_matrix\u001b[1;34m(panels)\u001b[0m\n\u001b[0;32m     17\u001b[0m     \u001b[0mAS\u001b[0m \u001b[1;33m=\u001b[0m \u001b[0msource_matrix\u001b[0m\u001b[1;33m(\u001b[0m\u001b[0mpanels\u001b[0m\u001b[1;33m)\u001b[0m\u001b[1;33m\u001b[0m\u001b[0m\n\u001b[0;32m     18\u001b[0m     \u001b[0mav\u001b[0m \u001b[1;33m=\u001b[0m \u001b[0mvortex_array\u001b[0m\u001b[1;33m(\u001b[0m\u001b[0mpanels\u001b[0m\u001b[1;33m)\u001b[0m\u001b[1;33m\u001b[0m\u001b[0m\n\u001b[1;32m---> 19\u001b[1;33m     \u001b[0mak\u001b[0m \u001b[1;33m=\u001b[0m \u001b[0mkutta_array\u001b[0m\u001b[1;33m(\u001b[0m\u001b[0mpanels\u001b[0m\u001b[1;33m)\u001b[0m\u001b[1;33m\u001b[0m\u001b[0m\n\u001b[0m\u001b[0;32m     20\u001b[0m \u001b[1;33m\u001b[0m\u001b[0m\n\u001b[0;32m     21\u001b[0m     \u001b[0mA\u001b[0m\u001b[1;33m[\u001b[0m\u001b[1;36m0\u001b[0m\u001b[1;33m:\u001b[0m\u001b[0mN\u001b[0m\u001b[1;33m,\u001b[0m\u001b[1;36m0\u001b[0m\u001b[1;33m:\u001b[0m\u001b[0mN\u001b[0m\u001b[1;33m]\u001b[0m\u001b[1;33m,\u001b[0m \u001b[0mA\u001b[0m\u001b[1;33m[\u001b[0m\u001b[1;36m0\u001b[0m\u001b[1;33m:\u001b[0m\u001b[0mN\u001b[0m\u001b[1;33m,\u001b[0m\u001b[0mN\u001b[0m\u001b[1;33m]\u001b[0m\u001b[1;33m,\u001b[0m \u001b[0mA\u001b[0m\u001b[1;33m[\u001b[0m\u001b[0mN\u001b[0m\u001b[1;33m,\u001b[0m\u001b[1;33m:\u001b[0m\u001b[1;33m]\u001b[0m \u001b[1;33m=\u001b[0m \u001b[0mAS\u001b[0m\u001b[1;33m[\u001b[0m\u001b[1;33m:\u001b[0m\u001b[1;33m,\u001b[0m\u001b[1;33m:\u001b[0m\u001b[1;33m]\u001b[0m\u001b[1;33m,\u001b[0m \u001b[0mav\u001b[0m\u001b[1;33m[\u001b[0m\u001b[1;33m:\u001b[0m\u001b[1;33m]\u001b[0m\u001b[1;33m,\u001b[0m \u001b[0mak\u001b[0m\u001b[1;33m[\u001b[0m\u001b[1;33m:\u001b[0m\u001b[1;33m]\u001b[0m\u001b[1;33m\u001b[0m\u001b[0m\n",
        "\u001b[1;32m<ipython-input-36-4febb2d5a460>\u001b[0m in \u001b[0;36mkutta_array\u001b[1;34m(panels)\u001b[0m\n\u001b[0;32m     16\u001b[0m     \u001b[0ma\u001b[0m\u001b[1;33m[\u001b[0m\u001b[1;36m0\u001b[0m\u001b[1;33m]\u001b[0m \u001b[1;33m=\u001b[0m \u001b[1;36m0.5\u001b[0m\u001b[1;33m/\u001b[0m\u001b[0mmath\u001b[0m\u001b[1;33m.\u001b[0m\u001b[0mpi\u001b[0m\u001b[1;33m*\u001b[0m\u001b[0mintegral\u001b[0m\u001b[1;33m(\u001b[0m\u001b[0mpanels\u001b[0m\u001b[1;33m[\u001b[0m\u001b[0mN\u001b[0m\u001b[1;33m-\u001b[0m\u001b[1;36m1\u001b[0m\u001b[1;33m]\u001b[0m\u001b[1;33m.\u001b[0m\u001b[0mxc\u001b[0m\u001b[1;33m,\u001b[0m \u001b[0mpanels\u001b[0m\u001b[1;33m[\u001b[0m\u001b[0mN\u001b[0m\u001b[1;33m-\u001b[0m\u001b[1;36m1\u001b[0m\u001b[1;33m]\u001b[0m\u001b[1;33m.\u001b[0m\u001b[0myc\u001b[0m\u001b[1;33m,\u001b[0m        \u001b[0mpanels\u001b[0m\u001b[1;33m[\u001b[0m\u001b[1;36m0\u001b[0m\u001b[1;33m]\u001b[0m\u001b[1;33m,\u001b[0m \u001b[1;33m-\u001b[0m\u001b[0mmath\u001b[0m\u001b[1;33m.\u001b[0m\u001b[0msin\u001b[0m\u001b[1;33m(\u001b[0m\u001b[0mpanels\u001b[0m\u001b[1;33m[\u001b[0m\u001b[0mN\u001b[0m\u001b[1;33m-\u001b[0m\u001b[1;36m1\u001b[0m\u001b[1;33m]\u001b[0m\u001b[1;33m.\u001b[0m\u001b[0mbeta\u001b[0m\u001b[1;33m)\u001b[0m\u001b[1;33m,\u001b[0m \u001b[1;33m+\u001b[0m\u001b[0mmath\u001b[0m\u001b[1;33m.\u001b[0m\u001b[0mcos\u001b[0m\u001b[1;33m(\u001b[0m\u001b[0mpanels\u001b[0m        \u001b[1;33m[\u001b[0m\u001b[0mN\u001b[0m\u001b[1;33m-\u001b[0m\u001b[1;36m1\u001b[0m\u001b[1;33m]\u001b[0m\u001b[1;33m.\u001b[0m\u001b[0mbeta\u001b[0m\u001b[1;33m)\u001b[0m\u001b[1;33m)\u001b[0m\u001b[1;33m\u001b[0m\u001b[0m\n\u001b[0;32m     17\u001b[0m \u001b[1;33m\u001b[0m\u001b[0m\n\u001b[1;32m---> 18\u001b[1;33m     \u001b[0ma\u001b[0m\u001b[1;33m[\u001b[0m\u001b[0mN\u001b[0m\u001b[1;33m-\u001b[0m\u001b[1;36m1\u001b[0m\u001b[1;33m]\u001b[0m \u001b[1;33m=\u001b[0m \u001b[1;36m0.5\u001b[0m\u001b[1;33m/\u001b[0m\u001b[0mmath\u001b[0m\u001b[1;33m.\u001b[0m\u001b[0mpi\u001b[0m\u001b[1;33m*\u001b[0m\u001b[0mintegral\u001b[0m\u001b[1;33m(\u001b[0m\u001b[0mpanels\u001b[0m\u001b[1;33m[\u001b[0m\u001b[1;36m0\u001b[0m\u001b[1;33m]\u001b[0m\u001b[1;33m.\u001b[0m\u001b[0mxc\u001b[0m\u001b[1;33m,\u001b[0m \u001b[0mpanels\u001b[0m\u001b[1;33m[\u001b[0m\u001b[1;36m0\u001b[0m\u001b[1;33m]\u001b[0m\u001b[1;33m.\u001b[0m\u001b[0myc\u001b[0m\u001b[1;33m,\u001b[0m        \u001b[0mpanel\u001b[0m\u001b[1;33m[\u001b[0m\u001b[0mN\u001b[0m\u001b[1;33m-\u001b[0m\u001b[1;36m1\u001b[0m\u001b[1;33m]\u001b[0m\u001b[1;33m,\u001b[0m \u001b[1;33m-\u001b[0m\u001b[0mmath\u001b[0m\u001b[1;33m.\u001b[0m\u001b[0msin\u001b[0m\u001b[1;33m(\u001b[0m\u001b[0mpanels\u001b[0m\u001b[1;33m[\u001b[0m\u001b[1;36m0\u001b[0m\u001b[1;33m]\u001b[0m\u001b[1;33m.\u001b[0m\u001b[0mbeta\u001b[0m\u001b[1;33m)\u001b[0m\u001b[1;33m,\u001b[0m \u001b[1;33m+\u001b[0m\u001b[0mmath\u001b[0m\u001b[1;33m.\u001b[0m\u001b[0mcos\u001b[0m\u001b[1;33m(\u001b[0m\u001b[0mpanels\u001b[0m        \u001b[1;33m[\u001b[0m\u001b[1;36m0\u001b[0m\u001b[1;33m]\u001b[0m\u001b[1;33m.\u001b[0m\u001b[0mbeta\u001b[0m\u001b[1;33m)\u001b[0m\u001b[1;33m)\u001b[0m\u001b[1;33m\u001b[0m\u001b[0m\n\u001b[0m\u001b[0;32m     19\u001b[0m \u001b[1;33m\u001b[0m\u001b[0m\n\u001b[0;32m     20\u001b[0m     \u001b[0mpanel\u001b[0m\u001b[1;33m=\u001b[0m\u001b[1;36m0\u001b[0m\u001b[1;33m\u001b[0m\u001b[0m\n",
        "\u001b[1;31mUnboundLocalError\u001b[0m: local variable 'panel' referenced before assignment"
       ]
      }
     ],
     "prompt_number": 39
    },
    {
     "cell_type": "code",
     "collapsed": false,
     "input": [
      "def get_tangential_velocity(panels, freestream, gamma):\n",
      "    \"\"\"Computes the tangential velocity on the surface\n",
      "    \n",
      "    Params:\n",
      "    -------\n",
      "    panels     object, array of panels\n",
      "    freestream object, freestream conditions\n",
      "    gamma      1D array of float, circulation density\n",
      "    \"\"\"\n",
      "    \n",
      "    N = len(panels)\n",
      "    A = np.empty((N, N+1), dtype=float)\n",
      "    np.fill_diagonal(A, 0.0)\n",
      "    \n",
      "    for i, p_i in enumerate(panels):\n",
      "        for j, p_j in enumerate(panels):\n",
      "            if i != j:\n",
      "                A[i,j] = 0.5/math.pi*integral(p_i.xc, p_i.yc, p_j,\\\n",
      "                    -math.sin(p_i.beta), +math.cos(p_i.beta))\n",
      "                \n",
      "                A[i,N] -= 0.5/math.pi*integral(p_i.xc, p_i.yc, p_j,\\\n",
      "                    +math.cos(p_i.beta), +math.sin(p_i.beta))\n",
      "                \n",
      "    b = freestream.u_inf * np.sin([freestream.alpha - panel.beta\\\n",
      "        for panel in panels])\n",
      "    \n",
      "    var = np.append([panel.sigma for panel in panels], gamma)\n",
      "    \n",
      "    vt = np.dot(A, var) + b\n",
      "    for i, panel in enumerate(panels):\n",
      "        panel.vt = vt[i]"
     ],
     "language": "python",
     "metadata": {},
     "outputs": [],
     "prompt_number": 40
    },
    {
     "cell_type": "code",
     "collapsed": false,
     "input": [
      "def get_pressure_coefficient(panels, freestream):\n",
      "    \"\"\"Computes the surface pressure coefficients\n",
      "    \n",
      "    Params:\n",
      "    -------\n",
      "    panels     object, array of panels\n",
      "    freestream object, freestream conditions\n",
      "    \"\"\"\n",
      "    \n",
      "    for panel in panels:\n",
      "        panel.cp = 1.0 - (panel.vt/freestream.u_inf)**2"
     ],
     "language": "python",
     "metadata": {},
     "outputs": [],
     "prompt_number": 42
    },
    {
     "cell_type": "code",
     "collapsed": false,
     "input": [
      "get_tangential_velocity(panels, freestream, gamma)\n",
      "get_pressure_coefficient(panels, freestream)"
     ],
     "language": "python",
     "metadata": {},
     "outputs": [
      {
       "ename": "TypeError",
       "evalue": "unsupported operand type(s) for *: 'float' and 'builtin_function_or_method'",
       "output_type": "pyerr",
       "traceback": [
        "\u001b[1;31m---------------------------------------------------------------------------\u001b[0m\n\u001b[1;31mTypeError\u001b[0m                                 Traceback (most recent call last)",
        "\u001b[1;32m<ipython-input-43-f7d98d8c3fda>\u001b[0m in \u001b[0;36m<module>\u001b[1;34m()\u001b[0m\n\u001b[1;32m----> 1\u001b[1;33m \u001b[0mget_tangential_velocity\u001b[0m\u001b[1;33m(\u001b[0m\u001b[0mpanels\u001b[0m\u001b[1;33m,\u001b[0m \u001b[0mfreestream\u001b[0m\u001b[1;33m,\u001b[0m \u001b[0mgamma\u001b[0m\u001b[1;33m)\u001b[0m\u001b[1;33m\u001b[0m\u001b[0m\n\u001b[0m\u001b[0;32m      2\u001b[0m \u001b[0mget_pressure_coefficient\u001b[0m\u001b[1;33m(\u001b[0m\u001b[0mpanels\u001b[0m\u001b[1;33m,\u001b[0m \u001b[0mfreestream\u001b[0m\u001b[1;33m)\u001b[0m\u001b[1;33m\u001b[0m\u001b[0m\n",
        "\u001b[1;32m<ipython-input-40-553a258979d5>\u001b[0m in \u001b[0;36mget_tangential_velocity\u001b[1;34m(panels, freestream, gamma)\u001b[0m\n\u001b[0;32m     24\u001b[0m     \u001b[0mvar\u001b[0m \u001b[1;33m=\u001b[0m \u001b[0mnp\u001b[0m\u001b[1;33m.\u001b[0m\u001b[0mappend\u001b[0m\u001b[1;33m(\u001b[0m\u001b[1;33m[\u001b[0m\u001b[0mpanel\u001b[0m\u001b[1;33m.\u001b[0m\u001b[0msigma\u001b[0m \u001b[1;32mfor\u001b[0m \u001b[0mpanel\u001b[0m \u001b[1;32min\u001b[0m \u001b[0mpanels\u001b[0m\u001b[1;33m]\u001b[0m\u001b[1;33m,\u001b[0m \u001b[0mgamma\u001b[0m\u001b[1;33m)\u001b[0m\u001b[1;33m\u001b[0m\u001b[0m\n\u001b[0;32m     25\u001b[0m \u001b[1;33m\u001b[0m\u001b[0m\n\u001b[1;32m---> 26\u001b[1;33m     \u001b[0mvt\u001b[0m \u001b[1;33m=\u001b[0m \u001b[0mnp\u001b[0m\u001b[1;33m.\u001b[0m\u001b[0mdot\u001b[0m\u001b[1;33m(\u001b[0m\u001b[0mA\u001b[0m\u001b[1;33m,\u001b[0m \u001b[0mvar\u001b[0m\u001b[1;33m)\u001b[0m \u001b[1;33m+\u001b[0m \u001b[0mb\u001b[0m\u001b[1;33m\u001b[0m\u001b[0m\n\u001b[0m\u001b[0;32m     27\u001b[0m     \u001b[1;32mfor\u001b[0m \u001b[0mi\u001b[0m\u001b[1;33m,\u001b[0m \u001b[0mpanel\u001b[0m \u001b[1;32min\u001b[0m \u001b[0menumerate\u001b[0m\u001b[1;33m(\u001b[0m\u001b[0mpanels\u001b[0m\u001b[1;33m)\u001b[0m\u001b[1;33m:\u001b[0m\u001b[1;33m\u001b[0m\u001b[0m\n\u001b[0;32m     28\u001b[0m         \u001b[0mpanel\u001b[0m\u001b[1;33m.\u001b[0m\u001b[0mvt\u001b[0m \u001b[1;33m=\u001b[0m \u001b[0mvt\u001b[0m\u001b[1;33m[\u001b[0m\u001b[0mi\u001b[0m\u001b[1;33m]\u001b[0m\u001b[1;33m\u001b[0m\u001b[0m\n",
        "\u001b[1;31mTypeError\u001b[0m: unsupported operand type(s) for *: 'float' and 'builtin_function_or_method'"
       ]
      }
     ],
     "prompt_number": 43
    },
    {
     "cell_type": "code",
     "collapsed": false,
     "input": [
      "val_x, val_y = 0.1, 0.2\n",
      "x_min, x_max = min(panel.xa for panel in panels), max(panel.xa for\\\n",
      "    panel in panels)\n",
      "cp_min, cp_max = min(panel.cp for panel in panels), max(panel.cp\\\n",
      "    for panel in panels)\n",
      "x_start, x_end = x_min-val_x*(x_max-x_min), x_max+val_x*(x_max-x_min)\n",
      "y_start, y_end = cp_min-val_y*(cp_max-cp_min), cp_max+val_y*\\\n",
      "    (cp_max-cp_min)\n",
      "    \n",
      "plt.figure(figsize=(10,6))\n",
      "plt.grid(True)\n",
      "plt.xlabel('x')\n",
      "plt.ylabel('$C_p$')\n",
      "plt.xlim(x_start, x_end)\n",
      "plt.ylim(y_start, y_end)\n",
      "plt.title('Number of panels: %d' % N)\n",
      "plt.plot([panel.xc for panel in panels if panel.loc == 'extrados'],\\\n",
      "    [panel.cp for panel in panels if panel.loc == 'extrados'],\\\n",
      "    color='r', linestyle='-', linewidth=2, marker='o', markersize=6)\n",
      "plt.plot([panel.xc for panel in panels if panel.loc == 'intrados'],\\\n",
      "    [panel.cp for panel in panels if panel.loc == 'intrados'],\\\n",
      "    color='b', linestyle='-', linewidth=1, marker='o', markersize=6)\n",
      "plt.gca().invert_yaxis();"
     ],
     "language": "python",
     "metadata": {},
     "outputs": [
      {
       "metadata": {},
       "output_type": "display_data",
       "png": "[encoded data removed]",
       "text": [
        "<matplotlib.figure.Figure at 0x7fbd23fde8d0>"
       ]
      }
     ],
     "prompt_number": 45
    },
    {
     "cell_type": "code",
     "collapsed": false,
     "input": [
      "#Accuracy check sum of the sources should be zero\n",
      "accuracy = sum([panel.sigma*panel.length for panel in panels])\n",
      "print '--> sum of source/sink strengths:', accuracy"
     ],
     "language": "python",
     "metadata": {},
     "outputs": [
      {
       "output_type": "stream",
       "stream": "stdout",
       "text": [
        "--> sum of source/sink strengths: 0.0\n"
       ]
      }
     ],
     "prompt_number": 46
    },
    {
     "cell_type": "code",
     "collapsed": false,
     "input": [
      "#Calculation of lift\n",
      "cl = gamma*sum(panel.length for panel in panels)/(0.5*\\\n",
      "    freestream.u_inf*(x_max-x_min))\n",
      "print '--> Lift Coefficient: C_l = %.3f' % cl"
     ],
     "language": "python",
     "metadata": {},
     "outputs": [
      {
       "ename": "TypeError",
       "evalue": "unsupported operand type(s) for *: 'builtin_function_or_method' and 'float'",
       "output_type": "pyerr",
       "traceback": [
        "\u001b[1;31m---------------------------------------------------------------------------\u001b[0m\n\u001b[1;31mTypeError\u001b[0m                                 Traceback (most recent call last)",
        "\u001b[1;32m<ipython-input-47-b478461a92e3>\u001b[0m in \u001b[0;36m<module>\u001b[1;34m()\u001b[0m\n\u001b[0;32m      1\u001b[0m \u001b[1;31m#Calculation of lift\u001b[0m\u001b[1;33m\u001b[0m\u001b[1;33m\u001b[0m\u001b[0m\n\u001b[1;32m----> 2\u001b[1;33m \u001b[0mcl\u001b[0m \u001b[1;33m=\u001b[0m \u001b[0mgamma\u001b[0m\u001b[1;33m*\u001b[0m\u001b[0msum\u001b[0m\u001b[1;33m(\u001b[0m\u001b[0mpanel\u001b[0m\u001b[1;33m.\u001b[0m\u001b[0mlength\u001b[0m \u001b[1;32mfor\u001b[0m \u001b[0mpanel\u001b[0m \u001b[1;32min\u001b[0m \u001b[0mpanels\u001b[0m\u001b[1;33m)\u001b[0m\u001b[1;33m/\u001b[0m\u001b[1;33m(\u001b[0m\u001b[1;36m0.5\u001b[0m\u001b[1;33m*\u001b[0m    \u001b[0mfreestream\u001b[0m\u001b[1;33m.\u001b[0m\u001b[0mu_inf\u001b[0m\u001b[1;33m*\u001b[0m\u001b[1;33m(\u001b[0m\u001b[0mx_max\u001b[0m\u001b[1;33m-\u001b[0m\u001b[0mx_min\u001b[0m\u001b[1;33m)\u001b[0m\u001b[1;33m)\u001b[0m\u001b[1;33m\u001b[0m\u001b[0m\n\u001b[0m\u001b[0;32m      3\u001b[0m \u001b[1;32mprint\u001b[0m \u001b[1;34m'--> Lift Coefficient: C_l = %.3f'\u001b[0m \u001b[1;33m%\u001b[0m \u001b[0mcl\u001b[0m\u001b[1;33m\u001b[0m\u001b[0m\n",
        "\u001b[1;31mTypeError\u001b[0m: unsupported operand type(s) for *: 'builtin_function_or_method' and 'float'"
       ]
      }
     ],
     "prompt_number": 47
    },
    {
     "cell_type": "code",
     "collapsed": false,
     "input": [],
     "language": "python",
     "metadata": {},
     "outputs": []
    }
   ],
   "metadata": {}
  }
 ]
}