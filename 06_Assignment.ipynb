{
 "metadata": {
  "name": "",
  "signature": "sha256:7c97f6e0fdd652b8ebbfa2a448c705611862a6109ddabfb8df6b88d7ac8ad6f0"
 },
 "nbformat": 3,
 "nbformat_minor": 0,
 "worksheets": [
  {
   "cells": [
    {
     "cell_type": "heading",
     "level": 6,
     "metadata": {},
     "source": [
      "Content under Creative Commons Attribution license CC-BY 4.0, code under MIT license (c)2015 L.A. Barba, Pi-Yueh Chuang."
     ]
    },
    {
     "cell_type": "heading",
     "level": 1,
     "metadata": {},
     "source": [
      "Joukowski Transformation"
     ]
    },
    {
     "cell_type": "markdown",
     "metadata": {},
     "source": [
      "This is your [_AeroPython_](https://github.com/barbagroup/AeroPython) assignment for the second course module, titled **\"Potential vortices and lift.\"** The first course module, \"Building blocks of potential flow\" (first three IPython Notebooks of the series) ended with the representation of potential flow around a 2D cylinder by means of superposing a doublet singularity and a free stream. And in the second module, you learned that adding a vortex singularity, you can get lift around the cylinder. You may ask: *is all this useful?* \n",
      "\n",
      "Here's how it all starts getting useful. Using some simple techniques from complex-variable calculus, we can generate the flow around some airfoils starting with the flow around 2D cylinders. The trick is to use a [*conformal map*](http://en.wikipedia.org/wiki/Conformal_map) (a complex function that preserves angles) to move from the cylinder plane to the airfoil plane. \n",
      "\n",
      "Let's explore this classic method!"
     ]
    },
    {
     "cell_type": "heading",
     "level": 2,
     "metadata": {},
     "source": [
      "Introduction"
     ]
    },
    {
     "cell_type": "markdown",
     "metadata": {},
     "source": [
      "You learned how to construct potential flow over a cylinder via superposition of a free stream and a [doublet](http://nbviewer.ipython.org/github/barbagroup/AeroPython/blob/master/lessons/03_Lesson03_doublet.ipynb) singularity. You also learned that adding a vortex can generate [lift on the cylinder](http://nbviewer.ipython.org/github/barbagroup/AeroPython/blob/master/lessons/06_Lesson06_vortexLift.ipynb) But what's the big deal? Why is this important to us? What can we do with this potential cylinder flow?\n",
      "\n",
      "Back in the years when computers were not available, fluid dynamicists and mathematicians used a powerful tool\u2014complex analysis\u2014to study potential flows without directly solving partial-differential governing equations. With the magic of complex analysis and the known solution of potential flow over a cylinder, they could easily obtain many kinds of external potential flows, including flows over several types of airfoils.\n",
      "\n",
      "Nowadays, though, we no longer use these magical tools. Not just out of nostalgia, it's still interesting to know the basic concept behind the magic: conformal mappings. In this assignment, we will guide you step by step to obtain potential flow over an airfoil starting with the flow over a cylinder and the famous conformal mapping called the **Joukowski transformation**. You will realize how important potential cylinder flow is in the history of aerodynamics.=!\n",
      "\n",
      "Don't worry. We won't talk too much about the mathematics. And you don't have to calculate by hand as the pioneers of aerodynamics did. Just follow the steps and let Python do the heavy lifting."
     ]
    },
    {
     "cell_type": "heading",
     "level": 2,
     "metadata": {},
     "source": [
      "1. Complex-numbers in Python"
     ]
    },
    {
     "cell_type": "markdown",
     "metadata": {},
     "source": [
      "Let's start with two complex planes, one defined by points $z = x + iy$, and the other defined by points $\\xi = \\xi_x+i\\xi_y$. The Joukowski transformation takes a point in the $z$-plane and \"maps\" it to the $\\xi$-plane by:\n",
      "\n",
      "\\begin{equation}\n",
      "\\xi = z + \\frac{c^2}{z}\n",
      "\\end{equation}\n",
      "\n",
      "where $c$ is a constant parameter. Before we discuss the Joukowski transformation, let's gain some practice with complex numbers in Python.\n",
      "\n",
      "Using complex numbers, your function for the Joukowski transformation will look \n",
      "very simple, and you won't have to calculate the real and imaginary parts separately. \n",
      "\n",
      "Python (and therefore, NumPy) can deal with complex numbers right out of the box. But the imaginary number, $i=\\sqrt{-1}$, is represented by `j`,*not* `i`, to avoid clashes with the common use of `i` in iterations. \n",
      "\n",
      "\n",
      "If you haven't used them before, try some simple manipulations of complex numbers now. For example, enter the following in a cell block:\n",
      "\n",
      "```Python:\n",
      "3 + 2j\n",
      "```\n",
      "\n",
      "Now try:\n",
      "\n",
      "```Python:\n",
      "a = 3\n",
      "b = 3\n",
      "z = a + b * 1j\n",
      "print 'z = ', z\n",
      "print 'The type of the variable is ', type(z)\n",
      "```"
     ]
    },
    {
     "cell_type": "heading",
     "level": 3,
     "metadata": {},
     "source": [
      "Exercises:"
     ]
    },
    {
     "cell_type": "markdown",
     "metadata": {},
     "source": [
      "Get familiar with complex-number operations in Python and obtain the answer to the following:\n",
      "\n",
      "\n",
      "1. $(2.75+3.69i)\\times(8.55-6.13i)=$  \n",
      "\n",
      "2. $1.4\\times e^{i5.32}=$  \n",
      "\n",
      "3. $\\frac{7.51-9.15i}{4.43+9.64i}=$\n",
      "\n",
      "In the auto-graded homework in our [Open edX course](http://openedx.seas.gwu.edu/courses/GW/MAE6226/2014_spring/about), you need to enter the results with two digits after decimal point."
     ]
    },
    {
     "cell_type": "code",
     "collapsed": false,
     "input": [
      "import math\n",
      "import numpy as np\n",
      "from matplotlib import pyplot as plt\n",
      "from pylab import rcParams\n",
      "rcParams['font.size'] = 16\n",
      "#rcParams['figure.figsize'] = (8,8)\n",
      "from functions import gen_uform_grid, vel_uniform_flow,\\\n",
      "    sf_uniform_flow, vel_doublet, sf_doublet,\\\n",
      "    vel_vortex, sf_vortex"
     ],
     "language": "python",
     "metadata": {},
     "outputs": [],
     "prompt_number": 4
    },
    {
     "cell_type": "code",
     "collapsed": false,
     "input": [
      "a = 2.75 + 3.69j\n",
      "b = 8.55 - 6.13j\n",
      "print(a*b)\n",
      "c = 1.4 * np.exp(5.32j)\n",
      "print(c)\n",
      "d = 7.51-9.15j\n",
      "e = 4.43+9.64j\n",
      "print(d/e)"
     ],
     "language": "python",
     "metadata": {},
     "outputs": [
      {
       "output_type": "stream",
       "stream": "stdout",
       "text": [
        "(46.1322+14.692j)\n",
        "(0.799270785858-1.1494199454j)\n",
        "(-0.488089769845-1.00334415772j)\n"
       ]
      }
     ],
     "prompt_number": 8
    },
    {
     "cell_type": "heading",
     "level": 2,
     "metadata": {},
     "source": [
      "2. Shapes created by the Joukowski transformation"
     ]
    },
    {
     "cell_type": "code",
     "collapsed": false,
     "input": [
      "def Joukowski_transform(zeta,c):\n",
      "    \"\"\"This function transforms zeta (a complex function) to the z\n",
      "    plane\n",
      "    \n",
      "    Params:\n",
      "    -------\n",
      "    zeta   Complex number in form of xi + i*eta\n",
      "    \n",
      "    Returns:\n",
      "    --------\n",
      "    z      Complex number in form x + iy\n",
      "    \"\"\"\n",
      "    z = zeta + (c**2/zeta)\n",
      "    return z"
     ],
     "language": "python",
     "metadata": {},
     "outputs": [],
     "prompt_number": 9
    },
    {
     "cell_type": "code",
     "collapsed": false,
     "input": [
      "N = 200\n",
      "c =1.0\n",
      "r = 1.2 #sqrt(((c+.1)**2 + .1**2)) cambered case\n",
      "x_start, x_end = -5.0, 5.0\n",
      "y_start, y_end = -5.0, 5.0\n",
      "x0, y0 = c-r, 0\n",
      "xcircle = np.linspace(-r,r,N)+x0\n",
      "y_pos = np.sqrt(r**2. - (xcircle-x0)**2.) + y0\n",
      "y_neg = -np.sqrt(r**2. - (xcircle-x0)**2.) + y0\n",
      "\n",
      "xcomb = np.concatenate([xcircle, xcircle]) \n",
      "ycomb = np.concatenate([y_pos, y_neg])\n",
      "coords = np.vstack((xcomb, ycomb))\n",
      "zeta = np.empty_like(coords, dtype=complex)\n",
      "zeta.real = coords[0,:]\n",
      "zeta.imag = coords[1,:]\n",
      "\n",
      "plt.figure(figsize(6,6))\n",
      "plt.scatter(zeta.real, zeta.imag)\n",
      "plt.title('z-plane')\n",
      "plt.xlim(x_start-1.0,x_end+1.0)\n",
      "plt.ylim(y_start-1.0,y_end+1.0);"
     ],
     "language": "python",
     "metadata": {},
     "outputs": [
      {
       "metadata": {},
       "output_type": "display_data",
       "png": "[encoded data removed]",
       "text": [
        "<matplotlib.figure.Figure at 0x7fc755356bd0>"
       ]
      }
     ],
     "prompt_number": 52
    },
    {
     "cell_type": "code",
     "collapsed": false,
     "input": [
      "z = Joukowski_transform(zeta,c)\n",
      "x = z.real\n",
      "y = z.imag\n",
      "plt.figure(figsize(12,2))\n",
      "plt.scatter(x,y)\n",
      "plt.title('$\\zeta$-grid');"
     ],
     "language": "python",
     "metadata": {},
     "outputs": [
      {
       "metadata": {},
       "output_type": "display_data",
       "png": "[encoded data removed]",
       "text": [
        "<matplotlib.figure.Figure at 0x7fc756fde790>"
       ]
      }
     ],
     "prompt_number": 53
    },
    {
     "cell_type": "markdown",
     "metadata": {},
     "source": [
      "Start by writing a Python function that takes `z` and `c` as parameters, and returns  the Joukowski transformation of `z`.\n",
      "\n",
      "We can generate several patterns using Joukowski transforms. Use your Python function to perform the calculations described below and answer the questions.\n",
      "\n",
      "Just take $c=1$ here for simplicity.\n",
      "\n",
      "\n",
      "1. On the $z$-plane, place a circle with radius $R$ larger than $c=1$, say $R=1.5$, centered at the origin. What does the shape look like when mapped on the $\\xi$-plane?\n",
      "    1. circle\n",
      "    2. ellipse\n",
      "    3. symmetric airfoil\n",
      "    4. cambered airfoil\n",
      "2. Now, place a circle on $z$-plane with radius such that $c \\lt R \\lt 2c$ (e.g., $c=1$; $R=1.2$), centered at $(x_c,y_c)=(c-R, 0)$. What does the shape look like on the $\\xi$-plane?\n",
      "    1. circle\n",
      "    2. ellipse\n",
      "    3. symmetric airfoil\n",
      "    4. cambered airfoil\n",
      "3. Put a circle at $(x_c, y_c)=(-\\Delta x, \\Delta y)$, where $\\Delta x$ and $\\Delta y$ are small positive numbers, e.g. $\\Delta x=0.1$ and $\\Delta y=0.1$. The radius $R$ of the circle is $R = \\sqrt{(c - x_c)^2 + y_c^2}$. What does the shape on $\\xi$-plane look like?\n",
      "    1. circle\n",
      "    2. ellipse\n",
      "    3. symmetric airfoil\n",
      "    4. cambered airfoil\n",
      "4. Consider the case when you obtain a symmetric airfoil. In polar coordinates, $(\\theta, r=R)$, which point on the circle corresponds to the trailing edge of the airfoil?\n",
      "    * $\\theta=$?"
     ]
    },
    {
     "cell_type": "heading",
     "level": 2,
     "metadata": {},
     "source": [
      "3. Grid points on the $z$-plane using polar coordinates"
     ]
    },
    {
     "cell_type": "markdown",
     "metadata": {},
     "source": [
      "By the Joukowski transformation, a point on the $z$-plane corresponds to a point on the $\\xi$-plane. As you saw in the previous section, this transformation sometimes gives a shape that looks quite a lot like an airfoil. _What's the use of this?_\n",
      "\n",
      "It turns out that in complex analysis, when you have a solution to Laplace's equation on the complex plane and apply a [conformal mapping](http://en.wikipedia.org/wiki/Conformal_map), the transformed function is still a solution of the Laplace equation.\n",
      "\n",
      "This means that we can map the potential function and the streamlines of flow over a cylinder on the $z$-plane to the $\\xi$-plane, and obtain the streamlines of flow over an airfoil. The stream function around the airfoil will be given by:\n",
      "\n",
      "$$\n",
      "\\psi(\\xi_x, \\xi_y) = \\psi(\\xi_x(x, y), \\xi_y(x, y))\n",
      "$$\n",
      "\n",
      "where the complex coordinates of $\\xi$, $\\xi_x$ and $\\xi_y$, are obtained from the Joukowski transformation of $z=x+iy$.\n",
      "\n",
      "In this exercise, you will obtain the flow over a symmetric Joukowski airfoil with zero and non-zero angle of attack. We obtain the shape of our target airfoil by placing a cylinder centered at $(x_c, y_c)=(-0.15, 0)$ with radius $R = 1.15$ and parameter $c=1$. You'll reach the goal step-by-step with problems (3) to (6).\n",
      "\n",
      "First, build a set of grid points on the $z$-plane and see how these points look like on the $\\xi$-plane. Use polar coordinates to build your grid on the $z$-plane. If you place grid points inside the cylinder, they will end up outside the airfoil after a Joukowski transformation (try it for yourself!). This is a problem. The streamlines inside the cylinder are not physical anyway, so we'll just ignore this region."
     ]
    },
    {
     "cell_type": "heading",
     "level": 3,
     "metadata": {},
     "source": [
      "Exercises:"
     ]
    },
    {
     "cell_type": "markdown",
     "metadata": {},
     "source": [
      "Build a grid on the $z$-plane using polar coordinates and map the grid to the $\\xi$-plane using a Joukowski transformation. \n",
      "\n",
      "Discretize the radial direction into $N_r = 100$ grid points in the range $R \\le r \\le 5$ and the axial direction into $N_{\\theta}=145$ grid points. You want to end up with  two grid points at $\\theta=0^\\circ$. If you plot the grid points using the function `pyplot.scatter()`, it should look something like this:\n",
      "\n",
      "<img src=\"./resources/Problem3.png\">"
     ]
    },
    {
     "cell_type": "code",
     "collapsed": false,
     "input": [
      "def gen_cylind_grid(N_r, N_theta, r_s, r_e, theta_s, theta_e):\n",
      "    \"\"\"Generates uniform cylindrical grid of points\n",
      "    \n",
      "    Params:\n",
      "    -------\n",
      "    N_r, N_theta      float, number of points in each direction\n",
      "    r_s, r_e          float, starting and ending points of r\n",
      "    theta_s, theta_e  float, starting and ending points of theta\n",
      "    \n",
      "    Returns:\n",
      "    -------\n",
      "    R,theta         2D array of float, meshgrid\n",
      "    \"\"\"\n",
      "    r = np.linspace(r_s,r_e,N_r)\n",
      "    theta = np.linspace(theta_s,theta_e,N_theta)\n",
      "    R, Theta = np.meshgrid(r,theta)\n",
      "    \n",
      "    return R, Theta"
     ],
     "language": "python",
     "metadata": {},
     "outputs": [],
     "prompt_number": 28
    },
    {
     "cell_type": "code",
     "collapsed": false,
     "input": [
      "N_r, N_theta = 100, 145\n",
      "r = 1.15 #radius of circle\n",
      "radial_start, radial_end = 1.0, 5.0 #start smaller than r end bigger than r\n",
      "theta_start, theta_end = 0.0, 2.0*math.pi\n",
      "R, Theta = gen_cylind_grid(N_r, N_theta, radial_start, radial_end, theta_start,\\\n",
      "    theta_end)\n",
      "x = np.empty_like(Theta, dtype = complex)\n",
      "y = np.empty_like(Theta, dtype = complex)\n",
      "x = cos(Theta) * r\n",
      "y = sin(Theta) * r\n",
      "zeta = x + y\n",
      "\n",
      "plt.figure(figsize(6,6))\n",
      "#plt.scatter(x,y)\n",
      "plt.scatter(R, Theta)\n",
      "#plt.xlim(-6,6)\n",
      "#plt.ylim(-6,6)\n",
      "plt.title('z-plane');"
     ],
     "language": "python",
     "metadata": {},
     "outputs": [
      {
       "metadata": {},
       "output_type": "display_data",
       "png": "[encoded data removed]",
       "text": [
        "<matplotlib.figure.Figure at 0x7fc757137f50>"
       ]
      }
     ],
     "prompt_number": 54
    },
    {
     "cell_type": "code",
     "collapsed": false,
     "input": [
      "z2 = Joukowski_transform(zeta,c)\n",
      "x = z2.real\n",
      "y = z2.imag\n",
      "plt.figure(figsize(12,2))\n",
      "plt.scatter(x,y)\n",
      "plt.title('$\\zeta$-grid');"
     ],
     "language": "python",
     "metadata": {},
     "outputs": [
      {
       "metadata": {},
       "output_type": "display_data",
       "png": "[encoded data removed]",
       "text": [
        "<matplotlib.figure.Figure at 0x7fc756d88d90>"
       ]
      }
     ],
     "prompt_number": 55
    },
    {
     "cell_type": "heading",
     "level": 2,
     "metadata": {},
     "source": [
      "4. Flow over a symmetric Joukowski airfoil with zero angle of attack"
     ]
    },
    {
     "cell_type": "heading",
     "level": 3,
     "metadata": {},
     "source": [
      "Stream function and streamlines"
     ]
    },
    {
     "cell_type": "markdown",
     "metadata": {},
     "source": [
      "Now, you will evaluate potential flow over the cylinder on the $z$-plane. As mentioned above, $\\psi(\\xi) = \\psi(\\xi(z))$. This means that, after evaluating the stream function at a certain point on the $z$-plane, the corresponding point on the $\\xi$-plane has the same value of the stream function. We can plot the streamlines on both planes using the function `pyplot.contour()`, because the stream function is a scalar function.\n",
      "\n",
      "Use $1$ as the free stream velocity, i.e., $U_{\\infty}=1$. You have to calculate the strength of the doublet first in order to have a cylinder with radius $R=1.15$.\n",
      "\n",
      "You should obtain streamline patterns similar to those shown in the following figures.\n",
      "\n",
      "<img src=\"./resources/Problem4-fig1.png\">"
     ]
    },
    {
     "cell_type": "heading",
     "level": 3,
     "metadata": {},
     "source": [
      "Velocity vectors and pressure coefficients"
     ]
    },
    {
     "cell_type": "markdown",
     "metadata": {},
     "source": [
      "In order to obtain the pressure coefficients, we also need the velocity fields. We can simply obtain the velocity field on the $z$-plane using the coordinates of the grid points on the $z$-plane. But can we just say that the velocity at the corresponding points on the $\\xi$-plane is the same as that on the $z$-plane, just like what we did for the stream function? _The answer is no._ \n",
      "\n",
      "The values of stream function remain the same on the original and mapped points because the stream function is a scalar solution of Laplace's equation!\n",
      "\n",
      "However, velocity is a vector and it is not a solution of Laplace's equation. When the coordinate system changes by the conformal map, the coordinate values of the vector in the new system are different. \n",
      "\n",
      "Now, let's go back to our problem: the $z$-plane and the $\\xi$-plane are two different coordinate systems. The velocity at a specific point on the $z$-plane is not the same as that at the corresponding point on the $\\xi$-plane. Some manipulation must be done.\n",
      "\n",
      "The velocities on the $z$-plane and $\\xi$-plane are:\n",
      "\n",
      "\\begin{equation}\n",
      "\\left\\{\n",
      "\\begin{array}{l}\n",
      "u_z = \\frac{\\partial \\psi}{\\partial y} \\\\\n",
      "v_z = -\\frac{\\partial \\psi}{\\partial x}\n",
      "\\end{array}\n",
      "\\right.\n",
      "\\text{  and  }\n",
      "\\left\\{\n",
      "\\begin{array}{l}\n",
      "u_\\xi = \\frac{\\partial \\psi}{\\partial \\xi_y} \\\\\n",
      "v_\\xi = - \\frac{\\partial \\psi}{\\partial \\xi_x}\n",
      "\\end{array}\n",
      "\\right.\n",
      "\\end{equation}\n",
      "\n",
      "Once we have $u_z$ and $v_z$, how can we obtain $u_\\xi$ and $v_\\xi$? This can be done through the chain rule. Recall the potential function $\\phi$, which is a solution of Laplace's equation. Therefore, the potential and stream function values remain the same at a point under the conformal transformation. The same applies to the complex potential, $F(\\xi)  = F(\\xi(z))= \\phi + i\\psi$. \n",
      "\n",
      "By the chain rule, $dF/d\\xi=dF/dz\\times dz/d\\xi$. So,\n",
      "\n",
      "\\begin{equation}\n",
      "W_\\xi = u_\\xi - iv_\\xi = \\frac{d F}{d \\xi} = \\frac{d F}{d z}\\times\\frac{d z}{d \\xi} = \\frac{d F}{d z}/\\frac{d \\xi}{d z} = (u_z-iv_z) / \\frac{d \\xi}{d z}\n",
      "\\end{equation}\n",
      "\n",
      "And\n",
      "\n",
      "\\begin{equation}\n",
      "\\frac{d \\xi}{d z} = \\frac{d (z + c^2/z)}{dz} = 1 - \\left(\\frac{c}{z}\\right)^2\n",
      "\\end{equation}\n",
      "\n",
      "Now, we can obtain the velocity on the $\\xi$-plane, $u_\\xi$ and $v_\\xi$, using the two equations above. \n",
      "\n",
      "Using the function `pyplot.quiver()` to plot vectors, the velocity field should look like this:\n",
      "\n",
      "<img src=\"./resources/Problem4-fig2.png\">\n",
      "\n",
      "And the pressure coefficients in the fluid domain should look like this:\n",
      "\n",
      "\n",
      "<img src=\"./resources/Problem4-fig3.png\">"
     ]
    },
    {
     "cell_type": "heading",
     "level": 3,
     "metadata": {},
     "source": [
      "Exercises:"
     ]
    },
    {
     "cell_type": "markdown",
     "metadata": {},
     "source": [
      "* Write Python code to obtain the plots as shown in the above figures: streamlines, velocity vectors, and pressure coefficient on the domain.\n",
      "* Answer the following questions:\n",
      "\n",
      "1. What is the strength of the doublet?\n",
      "2. What is the velocity at 62th point on the airfoil surface? Assume we index the trailing edge as the 1st point and index the points counterclockwise.\n",
      "3. What is the minimum value of the pressure coefficient on the airfoil surface?\n",
      "\n",
      "In the auto-graded homework in our [Open edX course](http://openedx.seas.gwu.edu/courses/GW/MAE6226/2014_spring/about), you need to enter the results with two digits after decimal point."
     ]
    },
    {
     "cell_type": "heading",
     "level": 2,
     "metadata": {},
     "source": [
      "5. Flow over a symmetric Joukowski airfoil with non-zero angle of attack, without circulation"
     ]
    },
    {
     "cell_type": "markdown",
     "metadata": {},
     "source": [
      "Now we want to place the airfoil at an angle of attack (AoA) with respect to the free stream. Of course we can use flow over a cylinder and the Joukowski tranformation to do this. *But how?* Can we superpose a free stream with non-zero inlet angle and a doublet to obtain what we want? Actually, we can't. If we do so, we won't be able to obtain a closed streamline, like we did in the previous case (in which a closed circular streamline can be taken as a cylinder surface).\n",
      "\n",
      "A way to achieve a uniform flow with an inlet angle is simply rotating the coordinate system. We first create a new coordinate system (or we can call it a complex plane here) $z'$, where the $x'$-axis (i.e., real part of $z'$) is parallel to our free stream, and its origin is located at the center of the cylinder, as shown in the picture.\n",
      "\n",
      "<img src='./resources/rotating coordinate.png' width=500>\n",
      "\n",
      "The relationship between the $z'$- and $z$-plane is:\n",
      "\n",
      "\\begin{equation}\n",
      "z'=\\left[ z-(x_c+iy_c) \\right]e^{-i\\times AoA}\n",
      "\\end{equation}\n",
      "\n",
      "Explicitly expressed in $x$, $y$, $x'$, and $y'$:\n",
      "\n",
      "\\begin{equation}\n",
      "\\left\\{\n",
      "\\begin{array}{l}\n",
      "x' = (x-x_c)\\cos(AoA) + (y-y_c)\\sin(AoA) \\\\\n",
      "y' = - (x-x_c)\\sin(AoA) + (y-y_c)\\cos(AoA)\n",
      "\\end{array}\n",
      "\\right.\n",
      "\\end{equation}\n",
      "\n",
      "where $(x_c, y_c)$ is the location of the center of the cylinder, and $AoA$ is the angle of attack.\n",
      "\n",
      "Now we can obtain flow over a cylinder on the new plane $z'$ by adding a free stream with ***zero inlet angle*** to a doublet ***centered at the origin***. And then we can obtain the flow on $z$-plane and $\\xi$-plane. Again, the stream function remains the same at the same point under three different coordinate systems ($z'$, $z$, and $\\xi$). You should get streamlines on $z$- and $\\xi$-plane like this:\n",
      "\n",
      "<img src=\"./resources/Problem5-fig1.png\">\n",
      "\n",
      "The velocity vectors need to be rotated back from the $z'$-plane to $z$-plane.\n",
      "\n",
      "\\begin{equation}\n",
      "u-iv=\\frac{d F}{d z}=\\frac{d F}{d z'}\\times\\frac{d z'}{d z}=(u'-iv')e^{-i\\times AoA}\n",
      "\\end{equation}\n",
      "\n",
      "Of course you can use an explicit form in $x$, $y$, $x'$, and $y'$. Derive it yourself, if you feel more confortable using an explicit form. After obtaining velocity on the $z$-plane, you can use what you learned in the last exercise to obtain the velocity on $\\xi$-plane. You should get the velocity field and pressure coefficient like this:\n",
      "\n",
      "<img src=\"./resources/Problem5-fig2.png\">\n",
      "<img src=\"./resources/Problem5-fig3.png\">"
     ]
    },
    {
     "cell_type": "heading",
     "level": 3,
     "metadata": {},
     "source": [
      "Exercises:"
     ]
    },
    {
     "cell_type": "markdown",
     "metadata": {},
     "source": [
      "* Write Python code to obtain the figures as shown above. Set the angle of attack as $AoA=20^\\circ$.\n",
      "* Answer the following questions:\n",
      "\n",
      "1. Do you think the flow over the airfoil we obtained here is reasonable? Why?\n",
      "2. Where are the stagnation points on the airfoil? Assume we index the trailing edge as the 1st point and index the points counterclockwise.\n",
      "3. How much is the lift?\n",
      "4. How much is the drag?\n",
      "5. What is the velocity at the 50th point on the airfoil surface? \n",
      "6. What is the pressure coefficient at the 75th point on the airfoil surface?\n",
      "\n",
      "\n",
      "Numerical ansers in the auto-graded homework in our [Open edX course](http://openedx.seas.gwu.edu/courses/GW/MAE6226/2014_spring/about) need to be entered with two digits after decimal point."
     ]
    },
    {
     "cell_type": "heading",
     "level": 2,
     "metadata": {},
     "source": [
      "6. Flow over a symmetric Joukowski airfoil with non-zero angle of attack, with circulation"
     ]
    },
    {
     "cell_type": "markdown",
     "metadata": {},
     "source": [
      "The result you obtained in the last exercise is not physical. What we need is a ***vortex***. As you saw in [Lesson 6: Vortex Lift](http://nbviewer.ipython.org/urls/github.com/barbagroup/AeroPython/blob/master/lessons/06_Lesson06_vortexLift.ipynb), adding a vortex (i.e., circulation) in the potential flow over a cylinder can modify the position of stagnation points and also generate lift.\n",
      "\n",
      "We need to satisfy the [Kutta condition](http://en.wikipedia.org/wiki/Kutta_condition),\n",
      ">\"A body with a sharp trailing edge which is moving through a fluid will create about itself a circulation of sufficient strength to hold the rear stagnation point at the trailing edge.\"\n",
      "\n",
      "This tells us that the strength of the vortex needs to move the rear stagnation point on the cylinder from the $\\theta=$AoA to $\\theta=0^\\circ$ on the $z$-plane. You should be able to calculate the strength through what you learned in the Lesson 6.\n",
      "\n",
      "The results look like this:\n",
      "\n",
      "<img src=\"./resources/Problem6-fig1.png\">\n",
      "<img src=\"./resources/Problem6-fig2.png\">\n",
      "<img src=\"./resources/Problem6-fig3.png\">"
     ]
    },
    {
     "cell_type": "heading",
     "level": 3,
     "metadata": {},
     "source": [
      "Excercises"
     ]
    },
    {
     "cell_type": "markdown",
     "metadata": {},
     "source": [
      "* Write a Python code to obtain the figures as shown above.\n",
      "* Answer the following questions:\n",
      "\n",
      "1. What is the strength of the vortex?\n",
      "2. What is the lift? (Hint: the direction of lift we learned in Lesson 6 is toward the normal direction of free stream, i.e., the $y'$-direction in our case. Don't forget that the direction of lift now is $y$-d1irection.)\n",
      "3. Try to calculate the lift and drag directly by $L=-\\oint p \\times \\sin{\\theta} dA$ and $D=\\oint p \\times \\cos{\\theta} dA$. Does the lift agree with the Kutta-Joukowski theorem? How much is the drag?\n",
      "4. Where are the stagnation points on the airfoil? Assume we index the trailing edge as the 1st point and index the points counterclockwise.\n",
      "5. What is the velocity at the 92th point on the airfoil surface? \n",
      "6. What is the pressure coefficient at the 111th point on the airfoil surface?\n",
      "7. What's going on with the pressure coefficient at the trailing edge of the airfoil?"
     ]
    },
    {
     "cell_type": "code",
     "collapsed": false,
     "input": [
      "from IPython.core.display import HTML\n",
      "def css_styling():\n",
      "    styles = open('./resources/custom.css', 'r').read()\n",
      "    return HTML(styles)\n",
      "css_styling()"
     ],
     "language": "python",
     "metadata": {},
     "outputs": [
      {
       "html": [
        "<link href='http://fonts.googleapis.com/css?family=Fenix' rel='stylesheet' type='text/css'>\n",
        "<link href='http://fonts.googleapis.com/css?family=Alegreya+Sans:100,300,400,500,700,800,900,100italic,300italic,400italic,500italic,700italic,800italic,900italic' rel='stylesheet' type='text/css'>\n",
        "<link href='http://fonts.googleapis.com/css?family=Source+Code+Pro:300,400' rel='stylesheet' type='text/css'>\n",
        "<style>\n",
        "\n",
        "@font-face {\n",
        "    font-family: \"Computer Modern\";\n",
        "    src: url('http://mirrors.ctan.org/fonts/cm-unicode/fonts/otf/cmunss.otf');\n",
        "}\n",
        "\n",
        "\n",
        "#notebook_panel { /* main background */\n",
        "    background: rgb(245,245,245);\n",
        "}\n",
        "\n",
        "div.cell { /* set cell width */\n",
        "    width: 750px;\n",
        "}\n",
        "\n",
        "div #notebook { /* centre the content */\n",
        "    background: #fff; /* white background for content */\n",
        "    width: 1000px;\n",
        "    margin: auto;\n",
        "    padding-left: 0em;\n",
        "}\n",
        "\n",
        "#notebook li { /* More space between bullet points */\n",
        "margin-top:0.8em;\n",
        "}\n",
        "\n",
        "/* draw border around running cells */\n",
        "div.cell.border-box-sizing.code_cell.running { \n",
        "    border: 1px solid #111;\n",
        "}\n",
        "\n",
        "/* Put a solid color box around each cell and its output, visually linking them*/\n",
        "div.cell.code_cell {\n",
        "    background-color: rgb(256,256,256); \n",
        "    border-radius: 0px; \n",
        "    padding: 0.5em;\n",
        "    margin-left:1em;\n",
        "    margin-top: 1em;\n",
        "}\n",
        "\n",
        "\n",
        "div.text_cell_render{\n",
        "    font-family: 'Alegreya Sans' sans-serif;\n",
        "    line-height: 140%;\n",
        "    font-size: 125%;\n",
        "    font-weight: 400;\n",
        "    width:600px;\n",
        "    margin-left:auto;\n",
        "    margin-right:auto;\n",
        "}\n",
        "\n",
        "/* Formatting for header cells */\n",
        ".text_cell_render h1 {\n",
        "    font-family: 'Alegreya Sans', sans-serif;\n",
        "    font-style:regular;\n",
        "    font-weight: 200;    \n",
        "    font-size: 50pt;\n",
        "    line-height: 100%;\n",
        "    color:#CD2305;\n",
        "    margin-bottom: 0.5em;\n",
        "    margin-top: 0.5em;\n",
        "    display: block;\n",
        "}\t\n",
        ".text_cell_render h2 {\n",
        "    font-family: 'Fenix', serif;\n",
        "    font-size: 22pt;\n",
        "    line-height: 100%;\n",
        "    margin-bottom: 0.1em;\n",
        "    margin-top: 0.3em;\n",
        "    display: block;\n",
        "}\t\n",
        "\n",
        ".text_cell_render h3 {\n",
        "    font-family: 'Fenix', serif;\n",
        "    margin-top:12px;\n",
        "\tfont-size: 16pt;\n",
        "    margin-bottom: 3px;\n",
        "    font-style: regular;\n",
        "}\n",
        "\n",
        ".text_cell_render h4 {    /*Use this for captions*/\n",
        "    font-family: 'Fenix', serif;\n",
        "    font-size: 2pt;\n",
        "    text-align: center;\n",
        "    margin-top: 0em;\n",
        "    margin-bottom: 2em;\n",
        "    font-style: regular;\n",
        "}\n",
        "\n",
        ".text_cell_render h5 {  /*Use this for small titles*/\n",
        "    font-family: 'Alegreya Sans', sans-serif;\n",
        "    font-weight: 300;\n",
        "    font-size: 16pt;\n",
        "    color: #CD2305;\n",
        "    font-style: italic;\n",
        "    margin-bottom: .5em;\n",
        "    margin-top: 0.5em;\n",
        "    display: block;\n",
        "}\n",
        "\n",
        ".text_cell_render h6 { /*use this for copyright note*/\n",
        "    font-family: 'Source Code Pro', sans-serif;\n",
        "    font-weight: 300;\n",
        "    font-size: 9pt;\n",
        "    line-height: 100%;\n",
        "    color: grey;\n",
        "    margin-bottom: 1px;\n",
        "    margin-top: 1px;\n",
        "}\n",
        "\n",
        "    .CodeMirror{\n",
        "            font-family: \"Source Code Pro\";\n",
        "\t\t\tfont-size: 90%;\n",
        "    }\n",
        "/*    .prompt{\n",
        "        display: None;\n",
        "    }*/\n",
        "\t\n",
        "    \n",
        "    .warning{\n",
        "        color: rgb( 240, 20, 20 )\n",
        "        }  \n",
        "</style>\n",
        "<script>\n",
        "    MathJax.Hub.Config({\n",
        "                        TeX: {\n",
        "                           extensions: [\"AMSmath.js\"], \n",
        "                           equationNumbers: { autoNumber: \"AMS\", useLabelIds: true}\n",
        "                           },\n",
        "                tex2jax: {\n",
        "                    inlineMath: [ ['$','$'], [\"\\\\(\",\"\\\\)\"] ],\n",
        "                    displayMath: [ ['$$','$$'], [\"\\\\[\",\"\\\\]\"] ]\n",
        "                },\n",
        "                displayAlign: 'center', // Change this to 'center' to center equations.\n",
        "                \"HTML-CSS\": {\n",
        "                    styles: {'.MathJax_Display': {\"margin\": 4}}\n",
        "                }\n",
        "        });\n",
        "</script>\n"
       ],
       "metadata": {},
       "output_type": "pyout",
       "prompt_number": 1,
       "text": [
        "<IPython.core.display.HTML at 0x7f16f9a1c4d0>"
       ]
      }
     ],
     "prompt_number": 1
    },
    {
     "cell_type": "code",
     "collapsed": false,
     "input": [],
     "language": "python",
     "metadata": {},
     "outputs": []
    }
   ],
   "metadata": {}
  }
 ]
}