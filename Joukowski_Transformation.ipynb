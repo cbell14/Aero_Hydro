{
 "metadata": {
  "name": "",
  "signature": "sha256:b8a0a88ebbd34d8c1f82310c35c99cb0f1e5701bdc2ac582c6f49fadcecdcb9c"
 },
 "nbformat": 3,
 "nbformat_minor": 0,
 "worksheets": [
  {
   "cells": [
    {
     "cell_type": "markdown",
     "metadata": {},
     "source": [
      "Consider a point in the complex plane: $\\zeta = \\xi+i\\eta$\n",
      "\u2026 mapped to another plane at: z=x+iy\n",
      "by the transformation:\n",
      "\n",
      "$$z=\\zeta+\\frac{1}{\\zeta}$$\n",
      "\n",
      "This is called the Joukowski transformation, and it can map a circle to an airfoil."
     ]
    },
    {
     "cell_type": "markdown",
     "metadata": {},
     "source": [
      "Let's explore this transformation. Do the following:\n",
      "\n",
      "Write and test a function that takes any point or array and maps it from the \u03b6 plane to the z plane\n",
      "    1. place a cylinder of radius 1 at the origin, map it ... plot the results;\n",
      "    2. repeat with a cylinder of radius larger than 1, placed at the origin\n",
      "    3. now a cylinder of r=1.5, centered at (-0.5,0)\n",
      "    4. get the value of streamfunction on a grid of points for flow around the cylinder of (3); now map those points to the z plane ... plot the locations of the mapped points\n",
      "    5. what happens if you try to plot the streamlines on the mapped plane?\n"
     ]
    },
    {
     "cell_type": "code",
     "collapsed": false,
     "input": [
      "import math\n",
      "import numpy as np\n",
      "from matplotlib import pyplot as plt\n",
      "from pylab import rcParams\n",
      "rcParams['font.size'] = 16\n",
      "rcParams['figure.figsize'] = (20,16)"
     ],
     "language": "python",
     "metadata": {},
     "outputs": [],
     "prompt_number": 3
    },
    {
     "cell_type": "code",
     "collapsed": false,
     "input": [
      "def Joukowski_transform(xi, eta):\n",
      "    \"\"\"This function transforms a scalar or array from the complex plane\n",
      "    xi + i eta and converts it to the z plane x + iy. Function is used\n",
      "    to convert shape to a circle\n",
      "    \n",
      "    Always pass values as .real or .imag even if defined as xi and eta or as\n",
      "    just zeta\n",
      "    \n",
      "    Params:\n",
      "    -------\n",
      "    xi     Real part of original plane\n",
      "    eta    imaginary part of original plane\n",
      "    \n",
      "    Returns:\n",
      "    --------\n",
      "    x      Real part of new plane\n",
      "    y      imaginary part of new plane\n",
      "    \"\"\"\n",
      "    zeta = xi + (eta *1j)\n",
      "    z = zeta + (1/zeta)\n",
      "    return z"
     ],
     "language": "python",
     "metadata": {},
     "outputs": [],
     "prompt_number": 114
    },
    {
     "cell_type": "code",
     "collapsed": false,
     "input": [
      "xi = 6\n",
      "eta = 7j\n",
      "z = Joukowski_transform_scalar(xi.real, eta.imag)\n",
      "print z"
     ],
     "language": "python",
     "metadata": {},
     "outputs": [
      {
       "output_type": "stream",
       "stream": "stdout",
       "text": [
        "(6.07058823529+6.91764705882j)\n"
       ]
      }
     ],
     "prompt_number": 115
    },
    {
     "cell_type": "code",
     "collapsed": false,
     "input": [
      "zeta = 6 +7j\n",
      "z = Joukowski_transform_scalar(zeta.real, zeta.imag)\n",
      "print z"
     ],
     "language": "python",
     "metadata": {},
     "outputs": [
      {
       "output_type": "stream",
       "stream": "stdout",
       "text": [
        "(6.07058823529+6.91764705882j)\n"
       ]
      }
     ],
     "prompt_number": 116
    },
    {
     "cell_type": "code",
     "collapsed": false,
     "input": [
      "n = 10 #lenth of test array\n",
      "xi = np.random.rand(1,n) * 10\n",
      "print(xi.real)\n",
      "eta = np.random.rand(1,n) * 10\n",
      "eta = eta * 1j\n",
      "print(eta.imag)\n",
      "\n",
      "z = Joukowski_transform(xi.real,eta.imag)\n",
      "print z"
     ],
     "language": "python",
     "metadata": {},
     "outputs": [
      {
       "output_type": "stream",
       "stream": "stdout",
       "text": [
        "[[ 8.65319371  3.75660631  6.27617173  2.1652761   1.1733392   3.71927005\n",
        "   4.83491812  4.37763774  6.12371189  2.88130091]]\n",
        "[[ 5.55126256  1.46503278  0.22053689  8.7984528   0.98825493  3.54757232\n",
        "   8.38685487  8.98846106  9.88123577  9.99867025]]\n",
        "[[ 8.73506374+5.49874068j  3.98766248+1.37492356j  6.43530804+0.21494504j\n",
        "   2.19164936+8.69128684j  1.67191693+0.5683236j   3.86005422+3.41328735j\n",
        "   4.88650942+8.2973624j   4.42143333+8.89853701j  6.16902617+9.80811654j\n",
        "   2.90791179+9.90632536j]]\n"
       ]
      }
     ],
     "prompt_number": 117
    },
    {
     "cell_type": "code",
     "collapsed": false,
     "input": [
      "zeta = xi + eta\n",
      "print(zeta)\n",
      "\n",
      "z = Joukowski_transform(zeta.real,zeta.imag)\n",
      "print z"
     ],
     "language": "python",
     "metadata": {},
     "outputs": [
      {
       "output_type": "stream",
       "stream": "stdout",
       "text": [
        "[[ 8.65319371+5.55126256j  3.75660631+1.46503278j  6.27617173+0.22053689j\n",
        "   2.16527610+8.7984528j   1.17333920+0.98825493j  3.71927005+3.54757232j\n",
        "   4.83491812+8.38685487j  4.37763774+8.98846106j  6.12371189+9.88123577j\n",
        "   2.88130091+9.99867025j]]\n",
        "[[ 8.73506374+5.49874068j  3.98766248+1.37492356j  6.43530804+0.21494504j\n",
        "   2.19164936+8.69128684j  1.67191693+0.5683236j   3.86005422+3.41328735j\n",
        "   4.88650942+8.2973624j   4.42143333+8.89853701j  6.16902617+9.80811654j\n",
        "   2.90791179+9.90632536j]]\n"
       ]
      }
     ],
     "prompt_number": 118
    },
    {
     "cell_type": "code",
     "collapsed": false,
     "input": [],
     "language": "python",
     "metadata": {},
     "outputs": []
    }
   ],
   "metadata": {}
  }
 ]
}